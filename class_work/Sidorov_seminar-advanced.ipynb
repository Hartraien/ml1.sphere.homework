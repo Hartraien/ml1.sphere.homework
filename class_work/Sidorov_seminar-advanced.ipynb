{
 "cells": [
  {
   "cell_type": "markdown",
   "metadata": {},
   "source": [
    "# Быстро строим деревья"
   ]
  },
  {
   "cell_type": "markdown",
   "metadata": {},
   "source": [
    "\n",
    "Деревья глубины 1 обычно называют решающими пнями. \n",
    "Как Вы думаете, какая сложность построения решающего пня?\n"
   ]
  },
  {
   "cell_type": "markdown",
   "metadata": {},
   "source": [
    "Представим, что мы решаем задачу регрессии, считаем для одного сплита. \n",
    "\n",
    "$$Q = F(R_m) - \\frac{N_l}{N_m} F(R_l) - \\frac{N_r}{N_m} F(R_r) $$\n",
    "\n",
    "$$F(R) = \\frac{1}{N} \\sum_{i=1}^{N}(mean(y) - y_i) ^ 2 $$\n",
    "\n",
    "$$Q = F(R_m) - \\frac{1}{N_m} [ \\sum_{i \\in R_l}(mean(y_l) - y_i) ^ 2  +  \\sum_{i \\in R_r}(mean(y_r) - y_i) ^ 2 ]  $$\n",
    "\n",
    "$F(R_m) и N_m$ от сплита не зависит, можно отбросить. Осталось научиться быстро считать такие выражения:\n",
    "$\\sum_{i \\in R_l}(mean(y_l) - y_i) ^ 2$ для всех порогов. \n",
    "\n",
    "Если делать в лоб, то получится $O(||R||^2)$, нам не нравится, очень долго. Каждый раз пересчитывать довольно глупо, потому что мы точно знаем, какой именно объект при изменении сплита перешел из левой части в правую!\n",
    "\n",
    "\n"
   ]
  },
  {
   "cell_type": "markdown",
   "metadata": {},
   "source": [
    "Воспользуемся формулой для дисперсии:\n",
    "$$D(R) = mean(y ^ 2) -  mean(y) ^ 2 =   \\frac{1}{N} \\sum_{i \\in R} y_i^2 -  \\frac{1}{N ^ 2} (\\sum_{i \\in R} y_i) ^2$$\n",
    "\n",
    "Но у нас не дисперсия, а дисперсия без деления на число объектов, то есть:\n",
    "$$\\sum_{i \\in R_l}(mean(y_l) - y_i) ^ 2 =   \\sum_{i \\in R_k} y_i^2 -  \\frac{1}{N_l} (\\sum_{i \\in R_l} y_i) ^2 $$\n",
    "Аналогично для правого сплита. "
   ]
  },
  {
   "cell_type": "markdown",
   "metadata": {},
   "source": [
    "Вот мы и получили более простой алгоритм подсчета сплита:\n",
    "\n",
    "1) Отсортировали фичу и таргет по фиче\n",
    "\n",
    "2) Сначала считаем, что порог это минимальное значение, то есть левый кусок пустой, правый все значения. Храним для каждой из частей\n",
    "а) Сумму\n",
    "б) Сумму квадратов\n",
    "в) Число объектов\n",
    "\n",
    "3) Взяли следующее значение в отсортированном списке, это значение ушло от правого куска в левое. Обновили а) б) в) в обоих кусках\n",
    "\n",
    "4) Посчитали  для каждого куска б) - а) ** 2 / в), сложили для обоих кусков. Если эта сумма маеньше лучшего значения, то это лучший сплит из текущих\n"
   ]
  },
  {
   "cell_type": "markdown",
   "metadata": {},
   "source": [
    "Реализуйте алгоритм, сравните качество со sklearn.\n",
    "\n",
    "Если получилось одинаково, Вы молодец!!!"
   ]
  },
  {
   "cell_type": "code",
   "execution_count": 122,
   "metadata": {},
   "outputs": [],
   "source": [
    "def argsort(seq):\n",
    "    return sorted(range(len(seq)), key=seq.__getitem__)\n",
    "\n",
    "def formula(a,b,c):\n",
    "    if c == 0:\n",
    "        return 0\n",
    "    else:\n",
    "        return a-((b**2)/c)\n",
    "\n",
    "def mean(y):\n",
    "    if len(y) == 0:\n",
    "        return 0\n",
    "    else:\n",
    "        return sum(y)/len(y)\n",
    "    \n",
    "def mean_from_sum(sum_res, length):\n",
    "    if length == 0:\n",
    "        return 0\n",
    "    else:\n",
    "        return sum_res/length\n",
    "\n",
    "def get_threshold(feature, y, train_mode =0 ):\n",
    "    indices = argsort(feature)\n",
    "    \n",
    "    best_thr = feature[indices[0]]-1\n",
    "    \n",
    "    left_sum = 0\n",
    "    left_sum_sq = 0\n",
    "    left_num = 0\n",
    "    left_mean = 0\n",
    "    \n",
    "    right_sum = sum(y)\n",
    "    right_sum_sq = sum(y**2)\n",
    "    right_num = len(y)\n",
    "    right_mean = mean_from_sum(right_sum, right_num)\n",
    "    \n",
    "    right_res = formula(right_sum_sq, right_sum, right_num)\n",
    "    left_res = formula(left_sum_sq, left_sum, left_num)\n",
    "    \n",
    "    l_mean = left_mean\n",
    "    r_mean = right_mean\n",
    "    \n",
    "    f_best = right_res + left_res\n",
    "    f_score = f_best\n",
    "    \n",
    "    for i in indices:\n",
    "        left_sum += y[i]\n",
    "        left_sum_sq += y[i]**2\n",
    "        left_num += 1\n",
    "        left_mean = mean_from_sum(left_sum, left_num)\n",
    "        \n",
    "        right_sum -= y[i]\n",
    "        right_sum_sq -= y[i]**2\n",
    "        right_num -= 1\n",
    "        right_mean = mean_from_sum(right_sum, right_num)\n",
    "        \n",
    "        right_res = formula(right_sum_sq, right_sum, right_num)\n",
    "        left_res = formula(left_sum_sq, left_sum, left_num)\n",
    "\n",
    "        f_score = right_res + left_res\n",
    "        if f_score < f_best:\n",
    "            f_best = f_score\n",
    "            best_thr = feature[i]\n",
    "            l_mean = left_mean\n",
    "            r_mean = right_mean\n",
    "    return f_best, best_thr, l_mean, r_mean\n",
    "\n",
    "\n",
    "def train_stump(X, y):\n",
    "    best_f = None\n",
    "    best_thr = None\n",
    "    best_error = float('inf')\n",
    "    left_mean, right_mean = None, None\n",
    "    for j in range(X.shape[1]):\n",
    "        f_score, f_thr, l_mean, r_mean = get_threshold(X[:, j], y)\n",
    "        if f_score < best_error:\n",
    "            best_error = f_score\n",
    "            best_f = j\n",
    "            best_thr = f_thr\n",
    "            left_mean = l_mean\n",
    "            right_mean = r_mean\n",
    "    return best_f, best_thr, left_mean, right_mean\n",
    "\n",
    "\n",
    "def predict(result, X):\n",
    "    i = result[0]\n",
    "    thr = result[1]\n",
    "    left_res = result[2]\n",
    "    right_res = result[3]\n",
    "    y = []\n",
    "    for row in X:\n",
    "        if row[i] > thr:\n",
    "            y.append(right_res)\n",
    "        else:\n",
    "            y.append(left_res)\n",
    "    return y\n",
    "    "
   ]
  },
  {
   "cell_type": "code",
   "execution_count": 123,
   "metadata": {},
   "outputs": [],
   "source": [
    "from sklearn.datasets import load_boston\n",
    "X, y = load_boston(return_X_y=True)"
   ]
  },
  {
   "cell_type": "code",
   "execution_count": 124,
   "metadata": {
    "scrolled": true
   },
   "outputs": [
    {
     "name": "stdout",
     "output_type": "stream",
     "text": [
      "0.0\n",
      "46.19909167710848\n"
     ]
    }
   ],
   "source": [
    "from sklearn.tree import DecisionTreeRegressor\n",
    "from sklearn.metrics import mean_squared_error\n",
    "regressor = DecisionTreeRegressor(random_state=0).fit(X, y)\n",
    "print(mean_squared_error(y, regressor.predict(X)))\n",
    "regressor_stump = DecisionTreeRegressor(random_state=0, max_depth=1).fit(X, y)\n",
    "print(mean_squared_error(y, regressor_stump.predict(X)))"
   ]
  },
  {
   "cell_type": "code",
   "execution_count": 125,
   "metadata": {
    "scrolled": false
   },
   "outputs": [
    {
     "data": {
      "text/plain": [
       "(5, 6.939, 19.933720930232564, 37.23815789473709)"
      ]
     },
     "execution_count": 125,
     "metadata": {},
     "output_type": "execute_result"
    }
   ],
   "source": [
    "result = train_stump(X,y)\n",
    "result"
   ]
  },
  {
   "cell_type": "code",
   "execution_count": 126,
   "metadata": {
    "scrolled": false
   },
   "outputs": [],
   "source": [
    "predictions = predict(result , X)"
   ]
  },
  {
   "cell_type": "code",
   "execution_count": 127,
   "metadata": {},
   "outputs": [
    {
     "name": "stdout",
     "output_type": "stream",
     "text": [
      "my error = 46.19909167710848\n",
      "sk_learn error = 46.19909167710848\n",
      "error diff = 0.0\n"
     ]
    }
   ],
   "source": [
    "my_error = mean_squared_error(y, predictions)\n",
    "error = mean_squared_error(y, regressor_stump.predict(X))\n",
    "print(f\"my error = {my_error}\")\n",
    "print(f\"sk_learn error = {error}\")\n",
    "print(f\"error diff = {my_error - error}\")"
   ]
  }
 ],
 "metadata": {
  "anaconda-cloud": {},
  "kernelspec": {
   "display_name": "Python 3",
   "language": "python",
   "name": "python3"
  },
  "language_info": {
   "codemirror_mode": {
    "name": "ipython",
    "version": 3
   },
   "file_extension": ".py",
   "mimetype": "text/x-python",
   "name": "python",
   "nbconvert_exporter": "python",
   "pygments_lexer": "ipython3",
   "version": "3.8.5"
  }
 },
 "nbformat": 4,
 "nbformat_minor": 2
}
