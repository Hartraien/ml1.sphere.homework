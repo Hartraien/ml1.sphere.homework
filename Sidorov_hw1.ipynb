{
 "cells": [
  {
   "cell_type": "markdown",
   "metadata": {},
   "source": [
    "**Общая информация**\n",
    "\n",
    "**Срок сдачи:** 21 октября 2020, 08:30 \n",
    "\n",
    "**Штраф за опоздание:** по 1 баллу за 24 часа задержки. Через 5 дней домашнее задание сгорает.\n",
    "\n",
    "При отправлении ДЗ указывайте фамилию в названии файла\n",
    "Присылать ДЗ необходимо в виде ссылки на свой github репозиторий на почту ml1.sphere@mail.ru с указанием темы в следующем формате:\n",
    "\n",
    "[ML0220, Задание 1] Фамилия Имя.\n",
    "\n",
    "Используйте данный Ipython Notebook при оформлении домашнего задания."
   ]
  },
  {
   "cell_type": "markdown",
   "metadata": {},
   "source": [
    "\n",
    "**Штрафные баллы:**\n",
    "\n",
    "1. Отсутствие фамилии в имени скрипта (скрипт должен называться по аналогии со stroykova_hw1.ipynb) -0.5 баллов\n",
    "2. Все строчки должны быть выполнены. Нужно, чтобы output команды можно было увидеть уже в git'е. В противном случае -0.5 баллов\n"
   ]
  },
  {
   "cell_type": "code",
   "execution_count": 1,
   "metadata": {},
   "outputs": [],
   "source": [
    "import numpy as np\n",
    "import matplotlib.pyplot as plt\n",
    "\n",
    "import seaborn as sns\n",
    "from sklearn import datasets\n",
    "from sklearn.base import BaseEstimator\n",
    "from sklearn.datasets import fetch_20newsgroups\n",
    "\n",
    "from sklearn.model_selection import train_test_split,cross_val_score, StratifiedKFold\n",
    "from sklearn.neighbors import KNeighborsClassifier, KDTree\n",
    "from sklearn.metrics import accuracy_score, pairwise_distances\n",
    "from sklearn.feature_extraction.text import CountVectorizer, TfidfVectorizer\n",
    "from sklearn import preprocessing"
   ]
  },
  {
   "cell_type": "markdown",
   "metadata": {},
   "source": [
    "##### Задание 1 (1 балл)\n",
    "Реализовать KNN в классе MyKNeighborsClassifier (обязательное условие: точность не ниже sklearn реализации)\n",
    "Разберитесь самостоятельно, какая мера расстояния используется в KNeighborsClassifier дефолтно и реализуйте свой алгоритм именно с этой мерой. \n",
    "Для подсчета расстояний можно использовать функции [отсюда](https://docs.scipy.org/doc/scipy/reference/spatial.distance.html)"
   ]
  },
  {
   "cell_type": "code",
   "execution_count": 2,
   "metadata": {},
   "outputs": [],
   "source": [
    "class MyKNeighborsClassifier(BaseEstimator):\n",
    "    \n",
    "    def __init__(self, n_neighbors, algorithm='brute', metric = 'euclidean', weights = 'uniform'):\n",
    "        algorithms = {\n",
    "            'brute' : self.indices_by_brute, \n",
    "            'kd_tree' : self.indices_by_KDTree\n",
    "        }\n",
    "        self.n_neighbors = n_neighbors\n",
    "        self.algorithm = algorithm\n",
    "        self.algorithm_reference = algorithms.get(self.algorithm, self.indices_by_brute)\n",
    "        self.metric = metric\n",
    "        self.weights = weights\n",
    "    \n",
    "    def fit(self, X, y):\n",
    "        inner_rep = {\n",
    "            'kd_tree': KDTree,\n",
    "            'brute' : self.__identity__\n",
    "        }\n",
    "        self.X = inner_rep.get(self.algorithm, self.__identity__)(X)\n",
    "        self.y = y\n",
    "        self.class_count = np.max(self.y) - np.min(self.y)\n",
    "    \n",
    "    def __identity__(self, X):\n",
    "        return X\n",
    "    \n",
    "    def predict(self, X):\n",
    "        indices = self.algorithm_reference(X)\n",
    "        return np.argmax(np.apply_along_axis(lambda x: np.bincount(x, minlength=self.class_count + 1), axis=1, arr=self.y[indices]), axis = 1)\n",
    "    \n",
    "    def k_nearest_per_row(self, X):\n",
    "        return np.argpartition(X, self.n_neighbors, axis = 1)[:,:self.n_neighbors:]\n",
    "    \n",
    "    def indices_by_brute(self, X):\n",
    "        return self.k_nearest_per_row(pairwise_distances(X, self.X, metric = self.metric))\n",
    "    \n",
    "    def indices_by_KDTree(self, X):\n",
    "        return self.X.query(X, k = self.n_neighbors)[1]"
   ]
  },
  {
   "cell_type": "markdown",
   "metadata": {},
   "source": [
    "**IRIS**\n",
    "\n",
    "В библиотеке scikit-learn есть несколько датасетов из коробки. Один из них [Ирисы Фишера](https://ru.wikipedia.org/wiki/%D0%98%D1%80%D0%B8%D1%81%D1%8B_%D0%A4%D0%B8%D1%88%D0%B5%D1%80%D0%B0)"
   ]
  },
  {
   "cell_type": "code",
   "execution_count": 3,
   "metadata": {},
   "outputs": [],
   "source": [
    "iris = datasets.load_iris()"
   ]
  },
  {
   "cell_type": "code",
   "execution_count": 4,
   "metadata": {},
   "outputs": [],
   "source": [
    "X_train, X_test, y_train, y_test = train_test_split(iris.data, iris.target, test_size=0.1, stratify=iris.target)"
   ]
  },
  {
   "cell_type": "code",
   "execution_count": 5,
   "metadata": {},
   "outputs": [],
   "source": [
    "clf = KNeighborsClassifier(n_neighbors=2, algorithm='brute')\n",
    "my_clf = MyKNeighborsClassifier(n_neighbors=2, algorithm='brute')"
   ]
  },
  {
   "cell_type": "code",
   "execution_count": 6,
   "metadata": {
    "scrolled": true
   },
   "outputs": [],
   "source": [
    "clf.fit(X_train, y_train)\n",
    "my_clf.fit(X_train, y_train)"
   ]
  },
  {
   "cell_type": "code",
   "execution_count": 7,
   "metadata": {},
   "outputs": [],
   "source": [
    "sklearn_pred = clf.predict(X_test)\n",
    "my_clf_pred = my_clf.predict(X_test)\n",
    "assert abs( accuracy_score(y_test, my_clf_pred) -  accuracy_score(y_test, sklearn_pred ) )<0.005, \"Score must be simillar\""
   ]
  },
  {
   "cell_type": "markdown",
   "metadata": {},
   "source": [
    "**Задание 2 (0.5 балла)**\n",
    "\n",
    "Давайте попробуем добиться скорости работы на fit, predict сравнимой со sklearn для iris. Допускается замедление не более чем в 2 раза. \n",
    "Для этого используем numpy. "
   ]
  },
  {
   "cell_type": "code",
   "execution_count": 8,
   "metadata": {},
   "outputs": [
    {
     "name": "stdout",
     "output_type": "stream",
     "text": [
      "CPU times: user 610 µs, sys: 114 µs, total: 724 µs\n",
      "Wall time: 579 µs\n"
     ]
    },
    {
     "data": {
      "text/plain": [
       "KNeighborsClassifier(algorithm='brute', n_neighbors=2)"
      ]
     },
     "execution_count": 8,
     "metadata": {},
     "output_type": "execute_result"
    }
   ],
   "source": [
    "%time clf.fit(X_train, y_train)"
   ]
  },
  {
   "cell_type": "code",
   "execution_count": 9,
   "metadata": {},
   "outputs": [
    {
     "name": "stdout",
     "output_type": "stream",
     "text": [
      "CPU times: user 74 µs, sys: 13 µs, total: 87 µs\n",
      "Wall time: 82.5 µs\n"
     ]
    }
   ],
   "source": [
    "%time my_clf.fit(X_train, y_train)"
   ]
  },
  {
   "cell_type": "code",
   "execution_count": 10,
   "metadata": {},
   "outputs": [
    {
     "name": "stdout",
     "output_type": "stream",
     "text": [
      "CPU times: user 0 ns, sys: 1.81 ms, total: 1.81 ms\n",
      "Wall time: 1.54 ms\n"
     ]
    },
    {
     "data": {
      "text/plain": [
       "array([2, 2, 2, 0, 2, 2, 0, 0, 1, 1, 2, 0, 0, 1, 1])"
      ]
     },
     "execution_count": 10,
     "metadata": {},
     "output_type": "execute_result"
    }
   ],
   "source": [
    "%time clf.predict(X_test)"
   ]
  },
  {
   "cell_type": "code",
   "execution_count": 11,
   "metadata": {
    "scrolled": true
   },
   "outputs": [
    {
     "name": "stdout",
     "output_type": "stream",
     "text": [
      "CPU times: user 629 µs, sys: 121 µs, total: 750 µs\n",
      "Wall time: 751 µs\n"
     ]
    },
    {
     "data": {
      "text/plain": [
       "array([2, 2, 2, 0, 2, 2, 0, 0, 1, 1, 2, 0, 0, 1, 1])"
      ]
     },
     "execution_count": 11,
     "metadata": {},
     "output_type": "execute_result"
    }
   ],
   "source": [
    "%time my_clf.predict(X_test)"
   ]
  },
  {
   "cell_type": "markdown",
   "metadata": {},
   "source": [
    "###### Задание 3 (1 балл)\n",
    "Добавьте algorithm='kd_tree' в реализацию KNN (использовать KDTree из sklearn.neighbors). Необходимо добиться скорости работы на fit,  predict сравнимой со sklearn для iris. Допускается замедление не более чем в 2 раза. \n",
    "Для этого используем numpy. Точность не должна уступать значению KNN из sklearn. "
   ]
  },
  {
   "cell_type": "code",
   "execution_count": 12,
   "metadata": {},
   "outputs": [],
   "source": [
    "clf = KNeighborsClassifier(n_neighbors=2, algorithm='kd_tree')\n",
    "my_clf = MyKNeighborsClassifier(n_neighbors=2, algorithm='kd_tree')"
   ]
  },
  {
   "cell_type": "code",
   "execution_count": 13,
   "metadata": {},
   "outputs": [],
   "source": [
    "X_train, X_test, y_train, y_test = train_test_split(iris.data, iris.target, test_size=0.1, stratify=iris.target)"
   ]
  },
  {
   "cell_type": "code",
   "execution_count": 14,
   "metadata": {},
   "outputs": [
    {
     "name": "stdout",
     "output_type": "stream",
     "text": [
      "CPU times: user 804 µs, sys: 156 µs, total: 960 µs\n",
      "Wall time: 825 µs\n"
     ]
    },
    {
     "data": {
      "text/plain": [
       "KNeighborsClassifier(algorithm='kd_tree', n_neighbors=2)"
      ]
     },
     "execution_count": 14,
     "metadata": {},
     "output_type": "execute_result"
    }
   ],
   "source": [
    "%time clf.fit(X_train, y_train)"
   ]
  },
  {
   "cell_type": "code",
   "execution_count": 15,
   "metadata": {},
   "outputs": [
    {
     "name": "stdout",
     "output_type": "stream",
     "text": [
      "CPU times: user 191 µs, sys: 7 µs, total: 198 µs\n",
      "Wall time: 187 µs\n"
     ]
    }
   ],
   "source": [
    "%time my_clf.fit(X_train, y_train)"
   ]
  },
  {
   "cell_type": "code",
   "execution_count": 16,
   "metadata": {},
   "outputs": [
    {
     "name": "stdout",
     "output_type": "stream",
     "text": [
      "CPU times: user 2.27 ms, sys: 0 ns, total: 2.27 ms\n",
      "Wall time: 1.96 ms\n"
     ]
    },
    {
     "data": {
      "text/plain": [
       "array([0, 1, 2, 0, 1, 2, 0, 2, 1, 1, 2, 0, 1, 0, 1])"
      ]
     },
     "execution_count": 16,
     "metadata": {},
     "output_type": "execute_result"
    }
   ],
   "source": [
    "%time clf.predict(X_test)"
   ]
  },
  {
   "cell_type": "code",
   "execution_count": 17,
   "metadata": {},
   "outputs": [
    {
     "name": "stdout",
     "output_type": "stream",
     "text": [
      "CPU times: user 506 µs, sys: 0 ns, total: 506 µs\n",
      "Wall time: 533 µs\n"
     ]
    },
    {
     "data": {
      "text/plain": [
       "array([0, 1, 2, 0, 1, 2, 0, 2, 1, 1, 2, 0, 1, 0, 1])"
      ]
     },
     "execution_count": 17,
     "metadata": {},
     "output_type": "execute_result"
    }
   ],
   "source": [
    "%time my_clf.predict(X_test)"
   ]
  },
  {
   "cell_type": "code",
   "execution_count": 18,
   "metadata": {},
   "outputs": [],
   "source": [
    "sklearn_pred = clf.predict(X_test)\n",
    "my_clf_pred = my_clf.predict(X_test)\n",
    "assert abs( accuracy_score(y_test, my_clf_pred) -  accuracy_score(y_test, sklearn_pred ) )<0.005, \"Score must be simillar\""
   ]
  },
  {
   "cell_type": "markdown",
   "metadata": {},
   "source": [
    "**Задание 4 (2.5 балла)**\n",
    "\n",
    "Рассмотрим новый датасет 20 newsgroups"
   ]
  },
  {
   "cell_type": "code",
   "execution_count": 19,
   "metadata": {},
   "outputs": [],
   "source": [
    "newsgroups = fetch_20newsgroups(subset='train',remove=['headers','footers', 'quotes'])"
   ]
  },
  {
   "cell_type": "code",
   "execution_count": 20,
   "metadata": {},
   "outputs": [],
   "source": [
    "data = newsgroups['data']\n",
    "target = newsgroups['target']"
   ]
  },
  {
   "cell_type": "markdown",
   "metadata": {},
   "source": [
    "Преобразуйте текстовые данные из data с помощью [CountVectorizer](https://scikit-learn.org/stable/modules/generated/sklearn.feature_extraction.text.CountVectorizer.html). Словарь можно ограничить по частотности."
   ]
  },
  {
   "cell_type": "code",
   "execution_count": 21,
   "metadata": {},
   "outputs": [],
   "source": [
    "min_freq = 0.005\n",
    "vectorizer = CountVectorizer(max_features=1500, min_df=5, max_df=0.7)\n",
    "X = vectorizer.fit_transform(data)\n",
    "scaler = preprocessing.StandardScaler().fit(X.todense())\n",
    "X_stand = scaler.transform(X.todense())"
   ]
  },
  {
   "cell_type": "markdown",
   "metadata": {},
   "source": [
    "*Так мы получили векторное представление наших текстов. Значит можно приступать к задаче обучения модели*"
   ]
  },
  {
   "cell_type": "markdown",
   "metadata": {},
   "source": [
    "Реализуйте разбиение выборки для кросс-валидации на 3 фолдах. Разрешено использовать sklearn.cross_validation"
   ]
  },
  {
   "cell_type": "code",
   "execution_count": 22,
   "metadata": {},
   "outputs": [
    {
     "name": "stdout",
     "output_type": "stream",
     "text": [
      "TRAIN: [ 3575  3578  3609 ... 11311 11312 11313] TEST: [   0    1    2 ... 4083 4088 4095]\n",
      "TRAIN: [    0     1     2 ... 11311 11312 11313] TEST: [3575 3578 3609 ... 7861 7869 7945]\n",
      "TRAIN: [   0    1    2 ... 7861 7869 7945] TEST: [ 7140  7176  7193 ... 11311 11312 11313]\n"
     ]
    }
   ],
   "source": [
    "kf = StratifiedKFold(n_splits = 3)\n",
    "for train_index, test_index in kf.split(X, target):\n",
    "    print(\"TRAIN:\", train_index, \"TEST:\", test_index)"
   ]
  },
  {
   "cell_type": "markdown",
   "metadata": {},
   "source": [
    "Напишите метод, позволяющий найти оптимальное количество ближайших соседей(дающее максимальную точность в среднем на валидации на 3 фолдах).\n",
    "Постройте график зависимости средней точности от количества соседей. Можно рассмотреть число соседей от 1 до 10."
   ]
  },
  {
   "cell_type": "code",
   "execution_count": 23,
   "metadata": {},
   "outputs": [],
   "source": [
    "def choose_neighbor_number(X, y, max_neighbors = 10, fold_number = 3, metric = 'euclidean', knn = MyKNeighborsClassifier, threshold = 10, step = 10):\n",
    "    def constructRange(max_value, threshold, step):\n",
    "        if (threshold is None) or (threshold > max_value):\n",
    "            threshold = max_value\n",
    "        if step is None:\n",
    "            step = 10\n",
    "        range_ = list(range(1, threshold))\n",
    "        range_ += list(range(threshold, max_value+step, step))\n",
    "        return range_\n",
    "    if fold_number < 2:\n",
    "        fold_number = 2\n",
    "    neighbor_range = constructRange(max_neighbors, threshold, step)\n",
    "    kf = StratifiedKFold(n_splits=fold_number)\n",
    "    accuracy_per_neighbor = []\n",
    "    for neighbor in neighbor_range:\n",
    "        my_clf = knn(neighbor, algorithm='brute', metric=metric)\n",
    "        accuracy_per_fold = cross_val_score(my_clf, X, y, cv = kf.split(X, y), scoring='accuracy')\n",
    "        accuracy_per_neighbor.append(accuracy_per_fold)\n",
    "    accuracy_per_neighbor = np.asarray(accuracy_per_neighbor).mean(axis = 1)\n",
    "    best_neighbor = neighbor_range[np.argmax(accuracy_per_neighbor)]\n",
    "    return accuracy_per_neighbor, neighbor_range, best_neighbor"
   ]
  },
  {
   "cell_type": "code",
   "execution_count": 24,
   "metadata": {},
   "outputs": [],
   "source": [
    "result_EC, range_EC, best_neighbor_EC = choose_neighbor_number(X = X_stand, y = target, max_neighbors=100, metric='euclidean', knn = MyKNeighborsClassifier, threshold = 1, step = 10)"
   ]
  },
  {
   "cell_type": "code",
   "execution_count": 25,
   "metadata": {},
   "outputs": [
    {
     "data": {
      "image/png": "[encoded data removed]",
      "text/plain": [
       "<Figure size 1440x720 with 1 Axes>"
      ]
     },
     "metadata": {
      "needs_background": "light"
     },
     "output_type": "display_data"
    }
   ],
   "source": [
    "x = range_EC\n",
    "y = result_EC\n",
    "plt.figure(figsize=(20,10))\n",
    "plt.xlabel('neighbors')\n",
    "plt.ylabel('average accuracy')\n",
    "plt.xticks(x)\n",
    "plt.plot(x, y, '-o')\n",
    "plt.show()"
   ]
  },
  {
   "cell_type": "code",
   "execution_count": 26,
   "metadata": {},
   "outputs": [
    {
     "data": {
      "text/plain": [
       "0.20938661956575635"
      ]
     },
     "execution_count": 26,
     "metadata": {},
     "output_type": "execute_result"
    }
   ],
   "source": [
    "best_cross_val_score_EC = result_EC[range_EC.index(best_neighbor_EC)]\n",
    "best_cross_val_score_EC"
   ]
  },
  {
   "cell_type": "markdown",
   "metadata": {},
   "source": [
    "Как изменится качество на валидации, если:\n",
    "\n",
    "1. Используется косинусная метрика вместо евклидовой.\n",
    "2. К текстам применяется TfIdf векторизацию( sklearn.feature_extraction.text.TfidfVectorizer)\n",
    "\n",
    "Сравните модели, выберите лучшую."
   ]
  },
  {
   "cell_type": "code",
   "execution_count": 27,
   "metadata": {},
   "outputs": [],
   "source": [
    "result_CC, range_CC, best_neighbor_CC = choose_neighbor_number(X = X_stand, y = target, max_neighbors=100, metric='cosine', knn = MyKNeighborsClassifier, threshold = 1, step = 10)"
   ]
  },
  {
   "cell_type": "code",
   "execution_count": 28,
   "metadata": {
    "scrolled": false
   },
   "outputs": [
    {
     "data": {
      "image/png": "[encoded data removed]",
      "text/plain": [
       "<Figure size 1440x720 with 1 Axes>"
      ]
     },
     "metadata": {
      "needs_background": "light"
     },
     "output_type": "display_data"
    }
   ],
   "source": [
    "x = range_CC\n",
    "y = result_CC\n",
    "plt.figure(figsize=(20,10))\n",
    "plt.xlabel('neighbors')\n",
    "plt.ylabel('average accuracy')\n",
    "plt.xticks(x)\n",
    "plt.plot(x, y, '-o')\n",
    "plt.show()"
   ]
  },
  {
   "cell_type": "code",
   "execution_count": 29,
   "metadata": {},
   "outputs": [
    {
     "data": {
      "text/plain": [
       "0.36008487968730124"
      ]
     },
     "execution_count": 29,
     "metadata": {},
     "output_type": "execute_result"
    }
   ],
   "source": [
    "best_cross_val_score_CC = result_CC[range_CC.index(best_neighbor_CC)]\n",
    "best_cross_val_score_CC"
   ]
  },
  {
   "cell_type": "code",
   "execution_count": 30,
   "metadata": {},
   "outputs": [],
   "source": [
    "tfidfVectorizer = TfidfVectorizer(max_features=1500, min_df=5, max_df=0.7)\n",
    "X_tfidf = tfidfVectorizer.fit_transform(data)"
   ]
  },
  {
   "cell_type": "code",
   "execution_count": 31,
   "metadata": {},
   "outputs": [],
   "source": [
    "scaler_tfidf = preprocessing.StandardScaler().fit(X_tfidf.todense())\n",
    "X_tfidf_stand = scaler_tfidf.transform(X_tfidf.todense())"
   ]
  },
  {
   "cell_type": "code",
   "execution_count": 32,
   "metadata": {},
   "outputs": [],
   "source": [
    "result_ET, range_ET, best_neighbor_ET = choose_neighbor_number(X = X_tfidf_stand, y = target, max_neighbors=100, metric='euclidean', knn = MyKNeighborsClassifier, threshold=1, step = 10)"
   ]
  },
  {
   "cell_type": "code",
   "execution_count": 33,
   "metadata": {
    "scrolled": false
   },
   "outputs": [
    {
     "data": {
      "image/png": "[encoded data removed]",
      "text/plain": [
       "<Figure size 1440x720 with 1 Axes>"
      ]
     },
     "metadata": {
      "needs_background": "light"
     },
     "output_type": "display_data"
    }
   ],
   "source": [
    "x = range_ET\n",
    "y = result_ET\n",
    "plt.figure(figsize=(20,10))\n",
    "plt.xlabel('neighbors')\n",
    "plt.ylabel('average accuracy')\n",
    "plt.xticks(x)\n",
    "plt.plot(x, y, '-o')\n",
    "plt.show()"
   ]
  },
  {
   "cell_type": "code",
   "execution_count": 34,
   "metadata": {},
   "outputs": [
    {
     "data": {
      "text/plain": [
       "0.17747916955493445"
      ]
     },
     "execution_count": 34,
     "metadata": {},
     "output_type": "execute_result"
    }
   ],
   "source": [
    "best_cross_val_score_ET = result_ET[range_ET.index(best_neighbor_ET)]\n",
    "best_cross_val_score_ET"
   ]
  },
  {
   "cell_type": "code",
   "execution_count": 35,
   "metadata": {},
   "outputs": [],
   "source": [
    "result_CT, range_CT, best_neighbor_CT = choose_neighbor_number(X = X_tfidf_stand, y = target, max_neighbors=100, metric='cosine', knn = MyKNeighborsClassifier, threshold=1, step = 10)"
   ]
  },
  {
   "cell_type": "code",
   "execution_count": 36,
   "metadata": {
    "scrolled": false
   },
   "outputs": [
    {
     "data": {
      "image/png": "[encoded data removed]",
      "text/plain": [
       "<Figure size 1440x720 with 1 Axes>"
      ]
     },
     "metadata": {
      "needs_background": "light"
     },
     "output_type": "display_data"
    }
   ],
   "source": [
    "x = range_CT\n",
    "y = result_CT\n",
    "plt.figure(figsize=(20,10))\n",
    "plt.xlabel('neighbors')\n",
    "plt.ylabel('average accuracy')\n",
    "plt.xticks(x)\n",
    "plt.plot(x, y, '-o')\n",
    "plt.show()"
   ]
  },
  {
   "cell_type": "code",
   "execution_count": 37,
   "metadata": {},
   "outputs": [
    {
     "data": {
      "text/plain": [
       "0.5386250101821691"
      ]
     },
     "execution_count": 37,
     "metadata": {},
     "output_type": "execute_result"
    }
   ],
   "source": [
    "best_cross_val_score_CT = result_CT[range_CT.index(best_neighbor_CT)]\n",
    "best_cross_val_score_CT"
   ]
  },
  {
   "cell_type": "markdown",
   "metadata": {},
   "source": [
    "Лучшая модель: метрика = 'cosine', векторизатор = TfidfVectorizer"
   ]
  },
  {
   "cell_type": "markdown",
   "metadata": {},
   "source": [
    "Загрузим  теперь test  часть нашей выборки и преобразуем её аналогично с train частью. Не забудьте, что наборы слов в train и test части могут отличаться."
   ]
  },
  {
   "cell_type": "code",
   "execution_count": 38,
   "metadata": {},
   "outputs": [],
   "source": [
    "newsgroups = fetch_20newsgroups(subset='test',remove=['headers','footers', 'quotes'])"
   ]
  },
  {
   "cell_type": "markdown",
   "metadata": {},
   "source": [
    "Оценим точность вашей лучшей модели на test части датасета. Отличается ли оно от кросс-валидации? Попробуйте сделать выводы, почему отличается качество."
   ]
  },
  {
   "cell_type": "code",
   "execution_count": 39,
   "metadata": {},
   "outputs": [],
   "source": [
    "data_test = newsgroups['data']\n",
    "target_test = newsgroups['target']\n",
    "\n",
    "vectorizer_test = TfidfVectorizer(max_features=1500, min_df=5, max_df=0.7, vocabulary=tfidfVectorizer.get_feature_names())\n",
    "X_test_Tfidf = vectorizer_test.fit_transform(data_test)"
   ]
  },
  {
   "cell_type": "code",
   "execution_count": 40,
   "metadata": {},
   "outputs": [],
   "source": [
    "scaler_tfidf = preprocessing.StandardScaler().fit(X_tfidf.todense())\n",
    "X_tfidf_stand = scaler_tfidf.transform(X_tfidf.todense())\n",
    "X_test_Tfidf_stand = scaler_tfidf.transform(X_test_Tfidf.todense())"
   ]
  },
  {
   "cell_type": "code",
   "execution_count": 42,
   "metadata": {},
   "outputs": [],
   "source": [
    "neighbor_count = best_neighbor_CT\n",
    "metrics = 'cosine'"
   ]
  },
  {
   "cell_type": "code",
   "execution_count": 43,
   "metadata": {},
   "outputs": [],
   "source": [
    "my_clf = MyKNeighborsClassifier(n_neighbors=neighbor_count, algorithm = 'brute', metric=metrics)\n",
    "my_clf.fit(X_tfidf_stand, target)\n",
    "my_clf_pred = my_clf.predict(X_test_Tfidf_stand)\n",
    "test_score = accuracy_score(target_test, my_clf_pred)"
   ]
  },
  {
   "cell_type": "code",
   "execution_count": 44,
   "metadata": {
    "scrolled": true
   },
   "outputs": [
    {
     "data": {
      "text/plain": [
       "0.04911359223208944"
      ]
     },
     "execution_count": 44,
     "metadata": {},
     "output_type": "execute_result"
    }
   ],
   "source": [
    "score_diff = best_cross_val_score_CT - test_score\n",
    "score_diff"
   ]
  },
  {
   "cell_type": "markdown",
   "metadata": {},
   "source": [
    "Score на кросс-валидации лучше, чем на тестовой выборке.\n",
    "Возможная причина: различия в множествах слов в текстах тренировочной выборки и тестовой выборки, а модель использует только слова из тренировочной выборки. К тому же, модель рассматривает не все слова из тренировочной выборки (max_features, min_df, max_df), иначе признаков становится слишком много и не хватает памяти для вычислений."
   ]
  }
 ],
 "metadata": {
  "kernelspec": {
   "display_name": "Python 3",
   "language": "python",
   "name": "python3"
  },
  "language_info": {
   "codemirror_mode": {
    "name": "ipython",
    "version": 3
   },
   "file_extension": ".py",
   "mimetype": "text/x-python",
   "name": "python",
   "nbconvert_exporter": "python",
   "pygments_lexer": "ipython3",
   "version": "3.8.5"
  }
 },
 "nbformat": 4,
 "nbformat_minor": 2
}
