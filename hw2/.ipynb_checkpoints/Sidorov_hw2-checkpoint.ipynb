{
 "cells": [
  {
   "cell_type": "markdown",
   "metadata": {},
   "source": [
    "# Алгоритмы интеллектуальной обработки больших объемов данных\n",
    "## Домашнее задание №2: Линейные модели\n"
   ]
  },
  {
   "cell_type": "markdown",
   "metadata": {},
   "source": [
    "###### <hr\\>\n",
    "**Общая информация**\n",
    "\n",
    "**Срок сдачи:** 09 ноября 18:00 Сдача **очная** на онлайн занятии. <br\\>\n",
    "\n",
    "\n",
    "Используйте данный Ipython Notebook при оформлении домашнего задания.\n",
    "\n",
    "Присылать ДЗ необходимо в виде ссылки на свой github репозиторий на почту ml1.sphere@mail.ru с указанием темы в следующем формате:\n",
    "\n",
    "[ML0920, Задание 2] Фамилия Имя.\n",
    "\n",
    "\n",
    "\n",
    "**Штрафные баллы:**\n",
    "\n",
    "1. Невыполнение PEP8 -1 балл\n",
    "2. Отсутствие фамилии в имени скрипта (скрипт должен называться по аналогии со stroykova_hw2.ipynb) -1 балл\n",
    "3. Все строчки должны быть выполнены. Нужно, чтобы output команды можно было увидеть уже в git'е. В противном случае -1 балл\n",
    "4. При оформлении ДЗ нужно пользоваться данным файлом в качестве шаблона. Не нужно удалять и видоизменять написанный код и текст, если явно не указана такая возможность. В противном случае -1 балл\n",
    "<hr\\>"
   ]
  },
  {
   "cell_type": "code",
   "execution_count": 60,
   "metadata": {},
   "outputs": [],
   "source": [
    "import pandas as pd\n",
    "import numpy as np\n",
    "import matplotlib.pyplot as plt\n",
    "\n",
    "%matplotlib inline\n",
    "\n",
    "plt.style.use('ggplot')\n",
    "plt.rcParams['figure.figsize'] = (12,5)"
   ]
  },
  {
   "cell_type": "markdown",
   "metadata": {},
   "source": [
    "Здравствуйте, уважаемые студенты! \n",
    "\n",
    "В этом задании мы будем реализовать линейные модели. Необходимо реализовать линейную и логистическую регрессии с L2 регуляризацией"
   ]
  },
  {
   "cell_type": "markdown",
   "metadata": {},
   "source": [
    "# Теоретическое введение\n",
    "\n"
   ]
  },
  {
   "cell_type": "markdown",
   "metadata": {},
   "source": [
    "Линейная регрессия решает задачу регрессии и оптимизирует функцию потерь MSE \n",
    "\n",
    "$$L(w) =  \\frac{1}{N}\\left[\\sum_i (y_i - a_i) ^ 2 \\right], $$ где $y_i$ $-$ целевая функция,  $a_i = a(x_i) =  \\langle\\,x_i,w\\rangle ,$ $-$ предсказание алгоритма на объекте $x_i$, $w$ $-$ вектор весов (размерности $D$), $x_i$ $-$ вектор признаков (такой же размерности $D$).\n",
    "\n",
    "Не забываем, что здесь и далее  мы считаем, что в $x_i$ есть тождественный вектор единиц, ему соответствует вес $w_0$.\n"
   ]
  },
  {
   "cell_type": "markdown",
   "metadata": {},
   "source": [
    "Логистическая регрессия является линейным классификатором, который оптимизирует так называемый функционал log loss:"
   ]
  },
  {
   "cell_type": "markdown",
   "metadata": {},
   "source": [
    "$$L(w) = - \\frac{1}{N}\\left[\\sum_i y_i \\log a_i + ( 1 - y_i) \\log (1 - a_i) \\right],$$\n",
    "где  $y_i  \\in \\{0,1\\}$ $-$ метка класса, $a_i$ $-$ предсказание алгоритма на объекте $x_i$. Модель пытается предсказать апостериорую вероятность объекта принадлежать к классу \"1\":\n",
    "$$ p(y_i = 1 | x_i) = a(x_i) =  \\sigma( \\langle\\,x_i,w\\rangle ),$$\n",
    "$w$ $-$ вектор весов (размерности $D$), $x_i$ $-$ вектор признаков (такой же размерности $D$).\n",
    "\n",
    "Функция $\\sigma(x)$ $-$ нелинейная функция, пероводящее скалярное произведение объекта на веса в число $\\in (0,1)$ (мы же моделируем вероятность все-таки!)\n",
    "\n",
    "$$\\sigma(x) = \\frac{1}{1 + \\exp(-x)}$$\n",
    "\n",
    "Если внимательно посмотреть на функцию потерь, то можно заметить, что в зависимости от правильного ответа алгоритм штрафуется или функцией $-\\log a_i$, или функцией $-\\log (1 - a_i)$.\n",
    "\n"
   ]
  },
  {
   "cell_type": "markdown",
   "metadata": {},
   "source": [
    "Часто для решения проблем, которые так или иначе связаны с проблемой переобучения, в функционал качества добавляют слагаемое, которое называют ***регуляризацией***. Итоговый функционал для линейной регрессии тогда принимает вид:\n",
    "\n",
    "$$L(w) =  \\frac{1}{N}\\left[\\sum_i (y_i - a_i) ^ 2 \\right] + \\frac{1}{C}R(w) $$\n",
    "\n",
    "Для логистической: \n",
    "$$L(w) = - \\frac{1}{N}\\left[\\sum_i y_i \\log a_i + ( 1 - y_i) \\log (1 - a_i) \\right] +  \\frac{1}{C}R(w)$$\n",
    "\n",
    "Самое понятие регуляризации введено основателем ВМК академиком Тихоновым https://ru.wikipedia.org/wiki/Метод_регуляризации_Тихонова\n",
    "\n",
    "Идейно методика регуляризации заключается в следующем $-$ мы рассматриваем некорректно поставленную задачу (что это такое можно найти в интернете), для того чтобы сузить набор различных вариантов (лучшие из которых будут являться переобучением ) мы вводим дополнительные ограничения на множество искомых решений. На лекции Вы уже рассмотрели два варианта регуляризации.\n",
    "\n",
    "$L1$ регуляризация:\n",
    "$$R(w) = \\sum_{j=1}^{D}|w_j|$$\n",
    "$L2$ регуляризация:\n",
    "$$R(w) =  \\sum_{j=1}^{D}w_j^2$$\n",
    "\n",
    "С их помощью мы ограничиваем модель в  возможности выбора каких угодно весов минимизирующих наш лосс, модель уже не сможет подстроиться под данные как ей угодно. \n",
    "\n",
    "Вам нужно добавить соотвествущую Вашему варианту $L2$ регуляризацию.\n",
    "\n",
    "И так, мы поняли, какую функцию ошибки будем минимизировать, разобрались, как получить предсказания по объекту и обученным весам. Осталось разобраться, как получить оптимальные веса. Для этого нужно выбрать какой-то метод оптимизации.\n",
    "\n"
   ]
  },
  {
   "cell_type": "markdown",
   "metadata": {},
   "source": [
    "Градиентный спуск является самым популярным алгоритмом обучения линейных моделей. В этом задании Вам предложат реализовать стохастический градиентный спуск или  мини-батч градиентный спуск (мини-батч на русский язык довольно сложно перевести, многие переводят это как \"пакетный\", но мне не кажется этот перевод удачным). Далее нам потребуется определение **эпохи**.\n",
    "Эпохой в SGD и MB-GD называется один проход по **всем** объектам в обучающей выборки.\n",
    "* В SGD градиент расчитывается по одному случайному объекту. Сам алгоритм выглядит примерно так:\n",
    "        1) Перемешать выборку\n",
    "        2) Посчитать градиент функции потерь на одном объекте (далее один объект тоже будем называть батчем)\n",
    "        3) Сделать шаг спуска\n",
    "        4) Повторять 2) и 3) пока не пройдет максимальное число эпох.\n",
    "* В Mini Batch SGD - по подвыборке объектов. Сам алгоритм выглядит примерно так::\n",
    "        1) Перемешать выборку, выбрать размер мини-батча (от 1 до размера выборки)\n",
    "        2) Почитать градиент функции потерь по мини-батчу (не забыть поделить на  число объектов в мини-батче)\n",
    "        3) Сделать шаг спуска\n",
    "        4) Повторять 2) и 3) пока не пройдет максимальное число эпох.\n",
    "* Для отладки алгоритма реализуйте возможность  вывода средней ошибки на обучении модели по объектам (мини-батчам). После шага градиентного спуска посчитайте значение ошибки на объекте (или мини-батче), а затем усредните, например, по ста шагам. Если обучение проходит корректно, то мы должны увидеть, что каждые 100 шагов функция потерь уменьшается. \n",
    "* Правило останова - максимальное количество эпох\n",
    "    \n"
   ]
  },
  {
   "cell_type": "markdown",
   "metadata": {},
   "source": [
    "# Теоретические вопросы (2 балла)\n",
    "В этой части Вам будут предложены теоретичские вопросы и задачи по теме. Вы, конечно, можете списать их у своего товарища или найти решение в интернете, но учтите, что они обязательно войдут в теоретический коллоквиум. Лучше разобраться в теме сейчас и успешно ответить на коллоквиуме, чем списать, не разобравшись в материале, и быть терзаемым совестью. \n",
    "\n",
    "\n",
    "Формулы надо оформлять в формате **LaTeX**."
   ]
  },
  {
   "cell_type": "markdown",
   "metadata": {},
   "source": [
    "Задача 1. Градиент для линейной регрессии.\n",
    "* Выпишите формулу обновления весов для линейной регрессии с L2 регуляризацией для мини-батч градиентого спуска размера $n$:\n",
    "\n",
    "$$ w_{new} = w_{old} - ... $$\n",
    "\n",
    " Отнеситесь к этому пункту максимально серьезно, это Вам нужно будет реализовать в задании.\n",
    " \n",
    "Проанализруйте итоговую формулу градиента - как  интуитивно можно  описать, чему равен градиент?"
   ]
  },
  {
   "cell_type": "markdown",
   "metadata": {},
   "source": [
    "***Ваше решение здесь***\n",
    "\n",
    "$$L(w) =  \\frac{1}{N}\\left[\\sum_i (y_i - a_i) ^ 2 \\right] + \\sum_Dw^2 $$\n",
    "\n",
    "$$\\nabla L(w) = -\\frac{2}{n}\\left[\\sum_i x_i(y_i - (w, x_i)) \\right] + \\frac{2}{C}w $$\n",
    "\n",
    "$$\\nabla L(w) = \\frac{2}{n}\\left[\\sum_i x_i((w, x_i)-y_i) \\right] + \\frac{2}{C}w $$\n",
    "\n",
    "$$ w_{new} = w_{old} - \\alpha \\cdot (\\frac{2}{n}\\sum_{i=1}^{n}(x_i((w_{old}, x_i) - y_i))+\\frac{2}{C}w_{old})$$\n",
    "\n",
    "***Ваше решение здесь***"
   ]
  },
  {
   "cell_type": "markdown",
   "metadata": {},
   "source": [
    "Задача 2. Градиент для логистической регрессии.\n",
    "* Выпишите формулу обновления весов для логистической регрессии с L2 регуляризацией  для мини-батч градиентого спуска размера $n$:\n",
    "\n",
    "$$ w_{new} = w_{old} - ... $$\n",
    "\n",
    " Отнеситесь к этому пункту максимально серьезно, это Вам нужно будет реализовать в задании.\n",
    " \n",
    "Проанализруйте итоговую формулу градиента - как  интуитивно можно  описать, чему равен градиент? Как соотносится этот градиент с градиентом, возникающий в задаче линейной регрессии?\n",
    "\n",
    "Подсказка: Вам градиент, которой получается если “в лоб” продифференцировать,  надо немного преобразовать.\n",
    "Надо подставить, что $1 - \\sigma(w,x) $ это  $1 - a(x_i)$, а  $-\\sigma(w,x)$ это $0 - a(x_i)$.  Тогда получится свести к одной красивой формуле с линейной регрессией, которую программировать будет намного проще."
   ]
  },
  {
   "cell_type": "markdown",
   "metadata": {},
   "source": [
    "***Ваше решение здесь***\n",
    "\n",
    "$$L(w) = - \\frac{1}{N}\\left[\\sum_i y_i \\log a_i + ( 1 - y_i) \\log (1 - a_i) \\right] +  \\frac{1}{C}R(w)$$\n",
    "\n",
    "$$f(w) = y_i \\log a_i + ( 1 - y_i) \\log (1 - a_i)$$\n",
    "\n",
    "$$\\nabla f(w) = \\frac{y_i}{a_i}a'_i - \\frac{1-y_i}{1-a_i}a'_i = a'_i(\\frac{y_i}{a_i} - \\frac{1-y_i}{1-a_i}) = a'_i\\frac{y_i - a_iy_i - a_i + a_iy_i}{(1-a_i)a_i} = a'_i\\frac{y_i - a_i}{(1-a_i)a_i}$$\n",
    "\n",
    "$$a'_i(w) = \\nabla \\sigma(<w,x>) = \\sigma(<w,x>)(1-\\sigma(<w,x>))x = a_i(1-a_i)x_i$$\n",
    "\n",
    "$$\\nabla f(w) = (y_i - a_i)x_i$$\n",
    "\n",
    "$$\\nabla L(w) = -\\frac{1}{n}\\sum_{i=1}^{n}(x_i(y_i - \\sigma(w, x_i)))+\\frac{2}{C}w$$\n",
    "\n",
    "$$\\nabla L(w) = \\frac{1}{n}\\sum_{i=1}^{n}(x_i(\\sigma(w, x_i) - y_i))+\\frac{2}{C}w$$\n",
    "\n",
    "$$ w_{new} = w_{old} - \\alpha \\cdot (\\frac{1}{n}\\sum_{i=1}^{n}(x_i(\\sigma(w_{old}, x_i) - y_i))+\\frac{2}{C}w_{old})$$\n",
    "\n",
    "***Ваше решение здесь***"
   ]
  },
  {
   "cell_type": "markdown",
   "metadata": {},
   "source": [
    "Задача 3. Точное решение линейной регрессии\n",
    "\n",
    "На лекции было показано, что точное решение линейной регрессии имеет вид $w = (X^TX)^{-1}X^TY $. \n",
    "* Покажите, что это действительно является точкой минимума в случае, если матрица X имеет строк не меньше, чем столбцов и имеет полный ранг. Подсказка: посчитайте Гессиан и покажите, что в этом случае он положительно определен. \n",
    "* Выпишите точное решение для модели с $L2$ регуляризацией. Как L2 регуляризация помогает с точным решением где матрица X имеет линейно зависимые признаки?"
   ]
  },
  {
   "cell_type": "markdown",
   "metadata": {},
   "source": [
    "***Ваше решение здесь***\n",
    "\n",
    "Первая часть:\n",
    "$$\\nabla_w Q(w) = 2X^TXw - 2X^Ty$$\n",
    "$$H_q(w) = \\nabla^2_w Q(w) = \\nabla_w 2X^TXw = 2X^TX$$\n",
    "Нужно доказать, что $H_q(w)$ - положительно определённая квадратичная форма, то есть нужно показать, что\n",
    "$$z^t2X^TXz >0 \\forall z \\neq 0$$\n",
    "$$z^t2X^TXz = 2z^TX^TXz = 2(Xz)^T(Xz) = 2||Xz||^2 \\geq 0$$\n",
    "$$||Xz||^2 = 0 \\iff z = 0 \\text{ или в $X$ есть линейно зависимые столбцы}$$\n",
    "Из того, что в $X$ строк не меньше, чем столбцов ($rows \\geq cols$)  матрица $X$ имеет полный ранг $rank(X) = cols$, следует, что требуемое доказано и Гессиан - положительно определён.\n",
    "Отсюда следует, то $w = (X^TX)^{-1}X^TY $ - точка минимума функции $Q(w)$\n",
    "\n",
    "Вторая часть:\n",
    "\n",
    "В модели с L2 регуляризацией в $Q(w)$ добавляется слагаемое вида $R(w)=\\frac{1}{C}\\sum_D{w^2} = \\frac{1}{C}w^Tw$ (C - коэффициент регуляризации)\n",
    "$$\\nabla_w R(w) = \\frac{1}{C}\\nabla_w (w^Tw) = \\frac{1}{C}\\nabla_w (w^TEw) = \\frac{1}{C} (E + E^T)w =\\frac{2}{C}Ew$$\n",
    "\n",
    "$$\\nabla Q*(w) = \\nabla Q(w) + \\nabla R(w) = 2X^TXw - 2X^Ty + \\frac{2}{C}Ew$$\n",
    "Откуда мы получаем точное решение для модели с L2 регуляризацией: \n",
    "$$ w = (X^TX + \\frac{2}{C}E)^{-1}X^Ty$$\n",
    "\n",
    "Как L2 регуляризация помогает с точным решением в случае, когда в X есть линейно зависимые столбцы (признаки):\n",
    "\n",
    "Из первого пункта мы получили, что $X^TX$ - положительно полуопределённая матрица, то есть у неё все собственные значения неотрицательны. В случае, если есть хотя бы одно собственное значение равное 0, то матрица $X^TX$ получается необратимой и точное решение получить невозможно. Из того, что $X^TX$ - положительно полуопределённая матрица следует, что она представима в следующем виде:\n",
    "$$X^TX = V{\\Lambda}V^{-1}$$\n",
    "Где $V$ - матрица, столбцы которой - собственные векторы $X^TX$, а $\\Lambda$ - диагональная матрица из собственных значений матрицы $X^TX$. Тогда\n",
    "$$X^TX+\\frac{2}{C}E = V{\\Lambda}V^{-1} + \\frac{2}{C}VV^{-1} = V{\\Lambda}V^{-1} + V\\frac{2}{C}EV^{-1} = V({\\Lambda}+\\frac{2}{C}E)V^{-1}$$\n",
    "То есть все собственные значения матрицы $X^TX+\\frac{2}{C}E$ равны $\\lambda_i +\\frac{2}{C} \\geq \\frac{2}{C} > 0$, то есть матрица $X^TX+\\frac{2}{C}E$ положительно определена, из чего следует её обратимость.\n",
    "\n",
    "***Ваше решение здесь***"
   ]
  },
  {
   "cell_type": "markdown",
   "metadata": {},
   "source": [
    "Задача 4.  Предсказываем вероятности.\n",
    "\n",
    "Когда говорят о логистической регрессии, произносят фразу, что она \"предсказывает вероятности положительного класса\". Давайте разберемся, что же за этим стоит. Посчитаем математическое ожидание функции потерь и проверим, что предсказание алгоритма, оптимизирующее это мат. ожидание, будет являться вероятностью положительного класса. \n",
    "\n",
    "И так, функция потерь на объекте $x_i$, который имеет метку $y_i \\in \\{0,1\\}$  для предсказания $a(x_i)$ равна:\n",
    "$$L(y_i, b) =-[y_i == 1] \\log a(x_i)  - [y_i == 0] \\log(1 - a(x_i)) $$\n",
    "\n",
    "Где $[]$ означает индикатор $-$ он равен единице, если значение внутри него истинно, иначе он равен нулю. Тогда мат. ожидание при условии конкретного $x_i$  по определение мат. ожидания дискретной случайной величины:\n",
    "$$E(L | x_i) = -p(y_i = 1 |x_i ) \\log a(x_i)  - p(y_i = 0 | x_i) \\log( 1 - a(x_i))$$\n",
    "* Докажите, что значение $a(x_i)$, минимизирующее данное мат. ожидание, в точности равно $p(y_i = 1 |x_i)$, то есть равно вероятности положительного класса.\n",
    "\n",
    "Подсказка: возможно, придется воспользоваться, что  $p(y_i = 1 | x_i) + p(y_i = 0 | x_i) = 1$"
   ]
  },
  {
   "cell_type": "markdown",
   "metadata": {},
   "source": [
    "***Ваше решение здесь***\n",
    "\n",
    "$$ p(y_i = 1|x_i) = p $$\n",
    "$$ p(y_i = 0|x_i) = 1-p $$\n",
    "\n",
    "$$E'(a) = -\\frac{p}{a}+\\frac{1-p}{1-a} = \\frac{a-ap-p+ap}{(1-a)a} = \\frac{a-p}{(1-a)a}$$\n",
    "То есть $a = p$ - точка экстремума.\n",
    "Так как $a = \\sigma(<w,x>) \\in (0,1)$, то $(1-a)a$>0.\n",
    "При $a>p, E'(a)>0$, при $a<p E'(a)<0$ $\\Rightarrow$ $a=p$ - точка минимума\n",
    "\n",
    "***Ваше решение здесь***"
   ]
  },
  {
   "cell_type": "markdown",
   "metadata": {},
   "source": [
    "Задача 5.  Смысл регуляризации.\n",
    "\n",
    "Нужно ли в L1/L2 регуляризации использовать свободный член $w_0$ (который не умножается ни на какой признак)?\n",
    "\n",
    "Подсказка: подумайте, для чего мы вводим $w_0$"
   ]
  },
  {
   "cell_type": "markdown",
   "metadata": {},
   "source": [
    "***Ваше решение здесь***\n",
    "\n",
    "Нет, w_0 не нужно учитывать в регуляризации.\n",
    "1) Мы вводим $w_0$ для того, чтобы (в геометрических терминах) наша разделяющая гиперплоскость могла проходить не через начало координат. Если мы в слагаемом регуляризации в градиенте учитываем ещё и $w_0$, то мы устремляем $w_0$ к 0, что противоположно цели $w_0$.\n",
    "\n",
    "2) Так как $w_0$ - вес соответствующий фиктивному признаку x_0 = 1, который не кореллирует ни с одним другим признаком, а регуляризация нужна, в том числе, и для \"борьбы\" с линейно зависимыми признаками, нет нужды регуляризировать с учётом $w_0$.\n",
    "\n",
    "***Ваше решение здесь***"
   ]
  },
  {
   "cell_type": "markdown",
   "metadata": {},
   "source": [
    "#  Реализация линейной модели (4 балла)"
   ]
  },
  {
   "cell_type": "markdown",
   "metadata": {},
   "source": [
    "## Зачем нужны батчи?\n"
   ]
  },
  {
   "cell_type": "markdown",
   "metadata": {},
   "source": [
    "Как Вы могли заметить из теоретического введения, что в случае SGD, что в случа mini-batch GD,  на каждой итерации обновление весов  происходит только по небольшой части данных (1 пример в случае SGD, batch примеров в случае mini-batch). То есть для каждой итерации нам *** не нужна вся выборка***. Мы можем просто итерироваться по выборке, беря батч нужного размера (далее 1 объект тоже будем называть батчом).\n",
    "\n",
    "Легко заметить, что в этом случае нам не нужно загружать все данные в оперативную память, достаточно просто считать батч с диска, обновить веса, считать диска другой батч и так далее. В целях упрощения домашней работы, прямо с диска  мы считывать не будем, будем работать с обычными numpy array. \n",
    "\n",
    "\n",
    "\n"
   ]
  },
  {
   "cell_type": "markdown",
   "metadata": {},
   "source": [
    "## Немножко про генераторы в Python\n",
    "\n"
   ]
  },
  {
   "cell_type": "markdown",
   "metadata": {},
   "source": [
    "Идея считывания данных кусками удачно ложится на так называемые ***генераторы*** из языка Python. В данной работе Вам предлагается не только разобраться с логистической регрессией, но  и познакомиться с таким важным элементом языка.  При желании Вы можете убрать весь код, связанный с генераторами, и реализовать логистическую регрессию и без них, ***штрафоваться это никак не будет***. Главное, чтобы сама модель была реализована правильно, и все пункты были выполнены. \n",
    "\n",
    "Подробнее можно почитать вот тут https://anandology.com/python-practice-book/iterators.html\n"
   ]
  },
  {
   "cell_type": "markdown",
   "metadata": {},
   "source": [
    "К генератору стоит относиться просто как к функции, которая порождает не один объект, а целую последовательность объектов. Новое значение из последовательности генерируется с помощью ключевого слова ***yield***. Ниже Вы можете насладиться  генератором чисел Фибоначчи."
   ]
  },
  {
   "cell_type": "code",
   "execution_count": 61,
   "metadata": {},
   "outputs": [],
   "source": [
    "def fib(max_iter=4):\n",
    "    a, b = 0, 1\n",
    "    iter_num = 0\n",
    "    while 1:\n",
    "        yield a\n",
    "        a, b = b, a + b\n",
    "        iter_num += 1\n",
    "        if iter_num == max_iter:\n",
    "            break"
   ]
  },
  {
   "cell_type": "markdown",
   "metadata": {},
   "source": [
    "Вот так можно сгенерировать последовательность Фибоначчи. \n",
    "\n",
    "Заметьте, что к генераторам можно применять некоторые стандартные функции из Python, например enumerate."
   ]
  },
  {
   "cell_type": "code",
   "execution_count": 62,
   "metadata": {},
   "outputs": [
    {
     "name": "stdout",
     "output_type": "stream",
     "text": [
      "Fib num: 0 fib values: 0\n",
      "Fib num: 1 fib values: 1\n",
      "Fib num: 2 fib values: 1\n",
      "Fib num: 3 fib values: 2\n"
     ]
    }
   ],
   "source": [
    "new_generator = fib()\n",
    "for j, fib_val in enumerate(new_generator):\n",
    "    print (\"Fib num: \" + str(j) + \" fib values: \" + str(fib_val))"
   ]
  },
  {
   "cell_type": "markdown",
   "metadata": {},
   "source": [
    "Пересоздавая объект, можно сколько угодно раз генерировать заново последовательность. "
   ]
  },
  {
   "cell_type": "code",
   "execution_count": 63,
   "metadata": {},
   "outputs": [
    {
     "name": "stdout",
     "output_type": "stream",
     "text": [
      "Fib num: 0 fib values: 0\n",
      "Fib num: 1 fib values: 1\n",
      "Fib num: 2 fib values: 1\n",
      "Fib num: 3 fib values: 2\n",
      "Fib num: 0 fib values: 0\n",
      "Fib num: 1 fib values: 1\n",
      "Fib num: 2 fib values: 1\n",
      "Fib num: 3 fib values: 2\n",
      "Fib num: 0 fib values: 0\n",
      "Fib num: 1 fib values: 1\n",
      "Fib num: 2 fib values: 1\n",
      "Fib num: 3 fib values: 2\n"
     ]
    }
   ],
   "source": [
    "for i in range(0, 3):\n",
    "    new_generator = fib()\n",
    "    for j, fib_val in enumerate(new_generator):\n",
    "        print (\"Fib num: \" + str(j) + \" fib values: \" + str(fib_val))"
   ]
  },
  {
   "cell_type": "markdown",
   "metadata": {},
   "source": [
    "А вот так уже нельзя."
   ]
  },
  {
   "cell_type": "code",
   "execution_count": 64,
   "metadata": {},
   "outputs": [
    {
     "name": "stdout",
     "output_type": "stream",
     "text": [
      "Fib num: 0 fib values: 0\n",
      "Fib num: 1 fib values: 1\n",
      "Fib num: 2 fib values: 1\n",
      "Fib num: 3 fib values: 2\n"
     ]
    }
   ],
   "source": [
    "new_generator = fib()\n",
    "for i in range(0, 3):\n",
    "    for j, fib_val in enumerate(new_generator):\n",
    "        print (\"Fib num: \" + str(j) + \" fib values: \" + str(fib_val))"
   ]
  },
  {
   "cell_type": "markdown",
   "metadata": {},
   "source": [
    "Концепция крайне удобная для обучения  моделей $-$ у Вас есть некий источник данных, который Вам выдает их кусками, и Вам совершенно все равно откуда он их берет. Под ним может скрывать как массив в оперативной памяти, как файл на жестком диске, так и SQL база данных. Вы сами данные никуда не сохраняете, оперативную память экономите."
   ]
  },
  {
   "cell_type": "markdown",
   "metadata": {},
   "source": [
    "Если Вам понравилась идея с генераторами, то Вы можете реализовать свой, используя прототип batch_generator. В нем Вам нужно выдавать батчи признаков и ответов для каждой новой итерации спуска. Если не понравилась идея, то можете реализовывать SGD или mini-batch GD без генераторов."
   ]
  },
  {
   "cell_type": "code",
   "execution_count": 96,
   "metadata": {},
   "outputs": [],
   "source": [
    "def batch_generator(X, y, shuffle=True, batch_size=1):\n",
    "    \"\"\"\n",
    "    Гератор новых батчей для обучения\n",
    "    X          - матрица объекты-признаки\n",
    "    y_batch    - вектор ответов\n",
    "    shuffle    - нужно ли случайно перемешивать выборку\n",
    "    batch_size - размер батча ( 1 это SGD, > 1 mini-batch GD)\n",
    "    Генерирует подвыборку для итерации спуска (X_batch, y_batch)\n",
    "    \"\"\"\n",
    "    if batch_size>X.shape[0]:\n",
    "        batch_size = X.shape[0]\n",
    "    indices = np.arange(len(X))\n",
    "    if shuffle==True:\n",
    "        np.random.shuffle(indices)\n",
    "    for i in range(len(indices[:X.shape[0]-batch_size+1])):\n",
    "        #TODO fix X[i:i+batch_size] wrong slice\n",
    "        index = indices[i:i+batch_size]\n",
    "        X_batch = X[index]\n",
    "        y_batch = y[index]\n",
    "        yield (X_batch, y_batch)\n",
    "\n",
    "# Теперь можно сделать генератор по данным ()\n",
    "#  my_batch_generator = batch_generator(X, y, shuffle=True, batch_size=1):"
   ]
  },
  {
   "cell_type": "code",
   "execution_count": 108,
   "metadata": {},
   "outputs": [
    {
     "ename": "SyntaxError",
     "evalue": "invalid syntax (<ipython-input-108-ec2b62220125>, line 130)",
     "output_type": "error",
     "traceback": [
      "\u001b[0;36m  File \u001b[0;32m\"<ipython-input-108-ec2b62220125>\"\u001b[0;36m, line \u001b[0;32m130\u001b[0m\n\u001b[0;31m    return self\u001b[0m\n\u001b[0m    ^\u001b[0m\n\u001b[0;31mSyntaxError\u001b[0m\u001b[0;31m:\u001b[0m invalid syntax\n"
     ]
    }
   ],
   "source": [
    "#%%pycodestyle\n",
    "\n",
    "\n",
    "def sigmoid(x):\n",
    "    \"\"\"\n",
    "    Вычисляем значение сигмоида.\n",
    "    X - выход линейной модели\n",
    "    \"\"\"\n",
    "    \n",
    "    sigm_value_x = 1.0 / (1.0 + np.exp(-1 * x))\n",
    "    return sigm_value_x\n",
    "\n",
    "from sklearn.base import BaseEstimator, ClassifierMixin\n",
    "\n",
    "\n",
    "class MySGDClassifier(BaseEstimator, ClassifierMixin):\n",
    "\n",
    "    def __init__(self, batch_generator, C=1, alpha=0.01, max_epoch=10, model_type='lin_reg'):\n",
    "        \"\"\"\n",
    "        batch_generator -- функция генератор, которой будем создавать батчи\n",
    "        C - коэф. регуляризации\n",
    "        alpha - скорость спуска\n",
    "        max_epoch - максимальное количество эпох\n",
    "        model_type - тим модели, lin_reg или log_reg\n",
    "        \"\"\"\n",
    "\n",
    "        self.C = C\n",
    "        if self.C == None:\n",
    "            self.inv_C = 0\n",
    "        else:\n",
    "            self.inv_C = 1.0 / C\n",
    "        self.alpha = alpha\n",
    "        self.k = 1\n",
    "        self.max_epoch = max_epoch\n",
    "        self.batch_generator = batch_generator\n",
    "        self.errors_log = {'iter': [], 'loss': [], 'mean_loss':[]}\n",
    "        self.weights_log = []\n",
    "        self.model_type = model_type\n",
    "        self.test = True\n",
    "\n",
    "    def calc_loss(self, X_batch, y_batch):\n",
    "        \"\"\"\n",
    "        Считаем функцию потерь по батчу\n",
    "        X_batch - матрица объекты-признаки по батчу\n",
    "        y_batch - вектор ответов по батчу\n",
    "        Не забудте тип модели (линейная или логистическая регрессия)!\n",
    "        \"\"\"\n",
    "        if self.model_type == 'lin_reg':\n",
    "            error = self.calcPredict(X_batch) - y_batch\n",
    "            loss = np.sum(error ** 2)/(X_batch.shape[0])\n",
    "        elif self.model_type == 'log_reg':\n",
    "            y_pred = self.calcPredict(X_batch)\n",
    "            loss = -np.sum((y_batch * np.log(y_pred) + (1 - y_batch) * np.log(1 - y_pred)))\n",
    "            loss /= X_batch.shape[0]\n",
    "        loss = loss + self.l2()\n",
    "        return loss\n",
    "\n",
    "    def calcPredict(self, X):\n",
    "        \"\"\"\n",
    "        X - батч или вся матрица признаков\n",
    "        ---\n",
    "        output:\n",
    "        a(X) - предсказание алгоритма, равное\n",
    "        np.dot(X, self.weights) для линейной регрессии\n",
    "        sigmoid(np.dot(X, self.weights)) для логистической регрессиии\n",
    "        \"\"\"\n",
    "        res = np.dot(X, self.weights)\n",
    "        if self.model_type == 'lin_reg':\n",
    "            return res\n",
    "        elif self.model_type == 'log_reg':\n",
    "            return sigmoid(res)\n",
    "        return \"test\"\n",
    "    \n",
    "    def calc_loss_grad(self, X_batch, y_batch):\n",
    "        \"\"\"\n",
    "        Считаем  градиент функции потерь по батчу (то что Вы вывели в задании 1)\n",
    "        X_batch - матрица объекты-признаки по батчу\n",
    "        y_batch - вектор ответов по батчу\n",
    "        Не забудте тип модели (линейная или логистическая регрессия)!\n",
    "        \"\"\"\n",
    "        loss_grad = 0\n",
    "        error = self.calcPredict(X_batch) - y_batch\n",
    "        if self.model_type == 'lin_reg':\n",
    "            loss_grad = 2 * np.dot(X_batch.T, error)\n",
    "        elif self.model_type == 'log_reg':\n",
    "            loss_grad = np.dot(X_batch.T, error)\n",
    "        #print(X_batch.shape[0])\n",
    "        loss_grad = loss_grad / (X_batch.shape[0])\n",
    "        #loss_grad = loss_grad\n",
    "        loss_grad += self.l2_der()\n",
    "        return loss_grad\n",
    "\n",
    "    def update_weights(self, new_grad):\n",
    "        \"\"\"\n",
    "        Обновляем вектор весов\n",
    "        new_grad - градиент по батчу\n",
    "        \"\"\"\n",
    "        self.weights -= self.alpha * new_grad\n",
    "        return\n",
    "\n",
    "    def fit(self, X, y, batch_size_arg=1, shuffle_ = False):\n",
    "        '''\n",
    "        Обучение модели\n",
    "        X - матрица объекты-признаки\n",
    "        y - вектор ответов\n",
    "        '''\n",
    "\n",
    "        # Нужно инициализровать случайно веса\n",
    "        X = np.concatenate([np.ones((X.shape[0], 1)), X], axis=1)\n",
    "        #self.weights = np.clip(np.random.randn(X.shape[1]),-1,1)\n",
    "        self.weights = np.zeros(X.shape[1])\n",
    "        self.weights_log.append(self.weights)\n",
    "        for n in range(0, self.max_epoch):\n",
    "            loss_per_epoch = []\n",
    "            new_epoch_generator = self.batch_generator(X, y, batch_size=batch_size_arg, shuffle=shuffle_)\n",
    "            for batch_num, new_batch in enumerate(new_epoch_generator):\n",
    "                X_batch = new_batch[0]\n",
    "                y_batch = new_batch[1]\n",
    "                batch_grad = self.calc_loss_grad(X_batch, y_batch)\n",
    "                self.update_weights(batch_grad)\n",
    "                # Подумайте в каком месте стоит посчитать ошибку для отладки модели\n",
    "                # До градиентного шага или после\n",
    "                batch_loss = self.calc_loss(X_batch, y_batch)\n",
    "                self.errors_log['iter'].append(batch_num)\n",
    "                self.errors_log['loss'].append(batch_loss)\n",
    "                loss_per_epoch.append(batch_loss)\n",
    "                self.weights_log.append(self.weights)\n",
    "            #self.errors_log['mean_loss'].append(np.mean(np.asarray(loss_per_epoch)))\n",
    "            self.errors_log['mean_loss'].append(np.mean(self.calc_loss(X,y))\n",
    "        return self\n",
    "\n",
    "    def l2(self):\n",
    "        \"\"\"\n",
    "        Возвращает значение R(w) для L2 регуляризации\n",
    "        \"\"\"\n",
    "        return self.inv_C*np.sum(self.weights[1:] ** 2)\n",
    "\n",
    "    def l2_der(self):\n",
    "        \"\"\"\n",
    "        Возвращает значение производной от R(w) для L2 регуляризации\n",
    "        Используется в вычислении градиента\n",
    "        \"\"\"\n",
    "        res = 0 \n",
    "        res = 2* self.inv_C * self.weights\n",
    "        res[0] = 0\n",
    "        return res\n",
    "\n",
    "    def predict(self, X):\n",
    "        '''\n",
    "        Предсказание класса\n",
    "        X - матрица объекты-признаки\n",
    "        Не забудте тип модели (линейная или логистическая регрессия)!\n",
    "        '''\n",
    "        X = np.concatenate([np.ones((X.shape[0], 1)), X], axis=1)\n",
    "        if self.model_type == 'lin_reg':\n",
    "            y_hat = np.round(self.calcPredict(X))\n",
    "            #y_hat[y_hat==-1]=0\n",
    "        elif self.model_type == 'log_reg':\n",
    "            y_hat = np.round(self.calcPredict(X))\n",
    "        # Желательно здесь использовать матричные операции между X и весами, например, numpy.dot\n",
    "        return y_hat"
   ]
  },
  {
   "cell_type": "code",
   "execution_count": 67,
   "metadata": {},
   "outputs": [
    {
     "name": "stdout",
     "output_type": "stream",
     "text": [
      "[ 1.          0.78580383 -0.05746952]\n",
      "[[ 1.          5.10023581 -2.69111611]\n",
      " [ 1.          7.8613398  -0.59027583]]\n",
      "[5.16244198 7.21139379]\n",
      "0.9943049240122045 0.9992624167890797\n"
     ]
    },
    {
     "data": {
      "text/plain": [
       "array([0.99430492, 0.99926242])"
      ]
     },
     "execution_count": 67,
     "metadata": {},
     "output_type": "execute_result"
    }
   ],
   "source": [
    "weights = np.asarray([ 1.   ,       0.78580383, -0.05746952])\n",
    "X_batch = np.asarray([[ 1.     ,     5.10023581, -2.69111611],[ 1.      ,    7.8613398,  -0.59027583]])\n",
    "print(weights)\n",
    "print(X_batch)\n",
    "res = np.dot(X_batch, weights)\n",
    "print (res)\n",
    "print(sigmoid(res[0]),sigmoid(res[1]))\n",
    "sigmoid(res)"
   ]
  },
  {
   "cell_type": "markdown",
   "metadata": {},
   "source": [
    "Запустите обе регрессии на синтетических данных. \n",
    "\n",
    "\n",
    "Выведите полученные веса и нарисуйте разделяющую границу между классами (используйте только первых два веса для первых двух признаков X[:,0], X[:,1] для отображения в 2d пространство ).  "
   ]
  },
  {
   "cell_type": "code",
   "execution_count": 124,
   "metadata": {},
   "outputs": [],
   "source": [
    "def plot_decision_boundary(clf):\n",
    "    weights = clf.weights[:3]\n",
    "    #weights = [-46, 8.6, -7.8]\n",
    "    if clf.model_type == 'lin_reg':\n",
    "        k = 0.5\n",
    "    if clf.model_type == 'log_reg':\n",
    "        k = 0.0\n",
    "    x = np.linspace(-2,6,50)\n",
    "    y = (k-weights[0] - weights[1]*x)/weights[2]\n",
    "    plt.plot(x,y)\n",
    "    return"
   ]
  },
  {
   "cell_type": "code",
   "execution_count": 129,
   "metadata": {
    "scrolled": true
   },
   "outputs": [
    {
     "name": "stdout",
     "output_type": "stream",
     "text": [
      "[0.13088468145228524, 0.12589311324812236, 0.13146339966900353, 0.12805871133551763, 0.12531316084900768, 0.12806090547888963, 0.12682139337364437, 0.1294192767480691, 0.12719840751614095, 0.13031129258405175]\n"
     ]
    },
    {
     "data": {
      "image/png": "[encoded data removed]",
      "text/plain": [
       "<Figure size 864x360 with 1 Axes>"
      ]
     },
     "metadata": {},
     "output_type": "display_data"
    }
   ],
   "source": [
    "from sklearn import preprocessing\n",
    "\n",
    "np.random.seed(0)\n",
    "\n",
    "C1 = np.array([[0., -0.8], [1.5, 0.8]])\n",
    "C2 = np.array([[1., -0.7], [2., 0.7]])\n",
    "gauss1 = np.dot(np.random.randn(200, 2) + np.array([5, 3]), C1)\n",
    "gauss2 = np.dot(np.random.randn(200, 2) + np.array([1.5, 0]), C2)\n",
    "\n",
    "X = np.vstack([gauss1, gauss2])\n",
    "y = np.r_[np.ones(200), np.zeros(200)]\n",
    "\n",
    "#X_norm = preprocessing.scale(X)\n",
    "X_norm = X\n",
    "\n",
    "#print(X.shape[0])\n",
    "\n",
    "clf_test = MySGDClassifier(batch_generator=batch_generator, model_type = 'lin_reg', alpha=0.01, max_epoch = 10, C = 1).fit(X_norm,y, batch_size_arg=10, shuffle_ = True)\n",
    "\n",
    "loss = clf_test.errors_log['mean_loss']\n",
    "plt.plot(np.arange(len(loss)), loss)\n",
    "print (loss)"
   ]
  },
  {
   "cell_type": "code",
   "execution_count": 121,
   "metadata": {},
   "outputs": [
    {
     "data": {
      "text/plain": [
       "array([ 0.03311741,  0.1263708 , -0.06062148])"
      ]
     },
     "execution_count": 121,
     "metadata": {},
     "output_type": "execute_result"
    }
   ],
   "source": [
    "clf_test.weights"
   ]
  },
  {
   "cell_type": "code",
   "execution_count": 130,
   "metadata": {
    "scrolled": true
   },
   "outputs": [
    {
     "data": {
      "text/plain": [
       "array([ 1.,  1.,  1.,  1.,  1.,  1.,  1.,  1.,  1.,  1.,  1.,  1.,  1.,\n",
       "        1.,  1.,  1.,  0.,  1.,  1.,  1.,  1.,  1.,  1.,  1.,  1.,  1.,\n",
       "        1.,  1.,  1.,  1.,  1.,  1.,  1.,  1.,  1.,  1.,  1.,  1.,  1.,\n",
       "        1.,  1.,  1.,  1.,  1.,  1.,  1.,  1.,  1.,  1.,  1.,  1.,  1.,\n",
       "        1.,  1.,  1.,  1.,  1.,  1.,  1.,  1.,  1.,  1.,  1.,  1.,  1.,\n",
       "        1.,  1.,  1.,  1.,  1.,  1.,  1.,  1.,  1.,  1.,  1.,  1.,  1.,\n",
       "        1.,  1.,  1.,  1.,  1.,  1.,  1.,  1.,  1.,  1.,  1.,  1.,  1.,\n",
       "        0.,  1.,  1.,  1.,  1.,  1.,  1.,  1.,  1.,  1.,  1.,  1.,  1.,\n",
       "        1.,  1.,  1.,  1.,  1.,  1.,  1.,  1.,  1.,  1.,  1.,  1.,  1.,\n",
       "        1.,  1.,  1.,  1.,  1.,  1.,  1.,  1.,  1.,  1.,  1.,  1.,  1.,\n",
       "        1.,  1.,  1.,  1.,  1.,  0.,  1.,  1.,  1.,  1.,  1.,  1.,  1.,\n",
       "        1.,  1.,  1.,  1.,  1.,  1.,  1.,  1.,  1.,  1.,  1.,  1.,  1.,\n",
       "        1.,  1.,  1.,  1.,  1.,  1.,  1.,  1.,  1.,  1.,  1.,  1.,  1.,\n",
       "        1.,  1.,  1.,  1.,  1.,  1.,  1.,  1.,  1.,  1.,  1.,  1.,  1.,\n",
       "        1.,  1.,  1.,  1.,  1.,  1.,  1.,  1.,  1.,  1.,  1.,  1.,  1.,\n",
       "        1.,  1.,  1.,  1.,  1.,  0.,  1.,  0.,  1.,  0.,  0.,  0.,  1.,\n",
       "        0.,  1.,  1., -0.,  0., -0.,  0., -0.,  1.,  0.,  1.,  1.,  0.,\n",
       "        0.,  1.,  0.,  0.,  0.,  1.,  1., -0.,  0.,  0.,  0.,  1.,  0.,\n",
       "       -0., -0.,  0.,  1.,  0.,  1.,  1.,  0., -0.,  1.,  0.,  0.,  1.,\n",
       "        1.,  0.,  0.,  0.,  1.,  0., -0.,  0.,  1., -0.,  0.,  1.,  1.,\n",
       "        0., -0.,  0.,  1.,  0.,  0.,  1., -0.,  0.,  0.,  0.,  1.,  0.,\n",
       "        0.,  0.,  0.,  0.,  0., -0., -0.,  1.,  0.,  0.,  1.,  0.,  0.,\n",
       "        1.,  0., -0.,  1., -0.,  0.,  0.,  0., -0.,  1.,  0.,  1.,  0.,\n",
       "        0.,  0.,  0., -0., -0.,  0., -0.,  1.,  0.,  0.,  0.,  0.,  0.,\n",
       "        0.,  1.,  0.,  0.,  0.,  0.,  0.,  1.,  1.,  0.,  0.,  1.,  1.,\n",
       "       -0.,  1.,  0.,  0.,  0., -0.,  0.,  0.,  1.,  0., -0., -0.,  0.,\n",
       "        0.,  1.,  0.,  1., -0.,  0.,  1.,  1., -0.,  0.,  0.,  1., -0.,\n",
       "        0.,  1.,  1.,  1.,  0.,  0.,  1.,  0.,  0.,  0.,  0., -0.,  0.,\n",
       "        1.,  0.,  0.,  0.,  0.,  0., -0.,  1.,  0.,  1.,  0.,  0.,  1.,\n",
       "        1.,  0.,  0.,  0.,  0.,  0.,  0.,  1.,  0.,  0., -0.,  0.,  0.,\n",
       "        1.,  0.,  0.,  1.,  0.,  0.,  0.,  0.,  0.,  0.])"
      ]
     },
     "execution_count": 130,
     "metadata": {},
     "output_type": "execute_result"
    }
   ],
   "source": [
    "clf_test.predict(X)"
   ]
  },
  {
   "cell_type": "code",
   "execution_count": 119,
   "metadata": {},
   "outputs": [
    {
     "data": {
      "text/plain": [
       "0.1125"
      ]
     },
     "execution_count": 119,
     "metadata": {},
     "output_type": "execute_result"
    }
   ],
   "source": [
    "np.mean((y-clf_test.predict(X))**2)"
   ]
  },
  {
   "cell_type": "code",
   "execution_count": 42,
   "metadata": {},
   "outputs": [
    {
     "data": {
      "text/plain": [
       "400"
      ]
     },
     "execution_count": 42,
     "metadata": {},
     "output_type": "execute_result"
    }
   ],
   "source": [
    "X.shape[0]"
   ]
  },
  {
   "cell_type": "code",
   "execution_count": 36,
   "metadata": {},
   "outputs": [
    {
     "name": "stdout",
     "output_type": "stream",
     "text": [
      "[0.6234877440411006, 0.5917229186842455, 0.5960186704838039, 0.504495364434059, 0.47039877610097913, 0.39945434190822443, 0.4523817611384939, 0.3431424594182022, 0.3607566537401862, 0.3858453326603061, 0.35819265488083424, 0.41451736625612884, 0.3201286256387461, 0.2977919436406756, 0.2970727436528049, 0.3359095870082684, 0.2109293694659762, 0.40619780299364405, 0.3293464561320539, 0.33169278621041887, 0.32722293815522363, 0.2912451165896598, 0.23156079810224006, 0.28275566006167696, 0.3063640053606311, 0.2745879805177473, 0.2852513396012605, 0.18806268882057572, 0.27680571682045685, 0.2711873460427161, 0.3866264337884512, 0.20615307849094203, 0.2687005843927026, 0.30006192697812345, 0.25279870345525, 0.23996959514502939, 0.25326990411209493, 0.39037171753815864, 0.37743874629805, 0.3751826515804002, 0.46805313895999945, 0.3152969170799015, 0.35073714123655164, 0.22191831864147865, 0.28340030622461154, 0.28475131687135813, 0.3662523960351264, 0.2580619924004916, 0.18943699774370143, 0.24927606011929465, 0.2845307712144465, 0.24402845622644903, 0.1970210332042474, 0.4076190376909169, 0.2697555538131999, 0.4353843687558785, 0.16579636316155077, 0.2922367772889582, 0.27150618325995146, 0.32254515287150676, 0.29506717671967675, 0.33781662119764577, 0.27824394881848036, 0.18033120344495773, 0.23360029067755333, 0.3528188788238499, 0.27111695182264084, 0.359667512532669, 0.30414830601417636, 0.28305223524334094, 0.2622814411946167, 0.5030959182717738, 0.2258171475517606, 0.21072894772254502, 0.21935512691977865, 0.32125790662645076, 0.30770134742517324, 0.2687491885346544, 0.22240515800466926, 0.23019938579414545, 0.3573070333882578, 0.2450976831675799, 0.2466981992958872, 0.32398010594163745, 0.23537553359303576, 0.3163122156741219, 0.2304362300113867, 0.2182098511762628, 0.2647349645176266, 0.35451252824791435, 0.3687785167512645, 0.2609214839898603, 0.2029105841511223, 0.30580262274153297, 0.2519067053814794, 0.2358057170819948, 0.27151560259115204, 0.2258729073549015, 0.3454945179115013, 0.4010217079435081, 0.3694669868424368, 0.26972566917570295, 0.2662109050994088, 0.3481894579293917, 0.2718588822851374, 0.3434277351714498, 0.27975046758782907, 0.24630944695436133, 0.2619153622593704, 0.3789344792793361, 0.31528169837729947, 0.22147177897062728, 0.3665844656101557, 0.23618677658378814, 0.19760827886391588, 0.2632549302421134, 0.2486642163235706, 0.24740649449396893, 0.28384761766302136, 0.26526836002152454, 0.2386744230620527, 0.2345130156818361, 0.20632395629956948, 0.24235656269676809, 0.34204505391336154, 0.2054533059909633, 0.2689484548659521, 0.2680931088481594, 0.2204679410764317, 0.3859205003459073, 0.23102422906493722, 0.3437329294732159, 0.241189947608725, 0.25007151765544855, 0.31245095053502203, 0.25348729718787416, 0.36135094111315824, 0.22328955048146487, 0.21583193253367366, 0.25705841670923807, 0.3202267428483049, 0.22207848464212332, 0.23445560001239718, 0.317824625379578, 0.21854283040811495, 0.33086237411946084, 0.3215105056118065, 0.2592901689876566, 0.3531322050398238, 0.32751952417527774, 0.19715141430831767, 0.20885512840891435, 0.49054003121985623, 0.25688021292678564, 0.30202152426162593, 0.2686538074220768, 0.20679068028598308, 0.22053940657940896, 0.3383514642150725, 0.28454443952881914, 0.20869779895465673, 0.18652030593604946, 0.32705307131454525, 0.20074405271344845, 0.24685178704887373, 0.26821415398440335, 0.24386747520893154, 0.27586398824399727, 0.24893239787311, 0.2347468637249907, 0.1990304326025994, 0.20902141686353004, 0.185668550664565, 0.2757723296632629, 0.2450558342001419, 0.24550428529889937, 0.37056137446110876, 0.24456134849177114, 0.26744088405523725, 0.19202209709341408, 0.2560511668232007, 0.2393304064641512, 0.2631450322860074, 0.3313569195691307, 0.33207805642623245, 0.2796857495861177, 0.3237462434334316, 0.24237713164964542, 0.2487889548138936, 0.1961247431086756, 0.2580882315878767, 0.19165682485872698, 0.27935558023364343, 0.23197540712298542, 0.3111322781181061, 0.27034750717191575, 0.2025183744275974, 0.24595339729242932, 0.2463549877379387, 0.29340776829806403, 1.8011968537871457, 1.811910437116479, 1.0039944950336697, 0.797049589595159, 0.9405533387743745, 0.8146345168437653, 1.3347063737951823, 1.127600174440494, 1.1889761558106677, 1.067418884955249, 0.847096476329811, 0.8351247091264073, 0.7799496625878919, 0.8693169811127096, 0.899957559222576, 0.8542950830683669, 0.8428624983866928, 0.7919581693093084, 0.7648219460119187, 0.7266632975465085, 0.8498734042847939, 0.8298926567331347, 0.7661627664097059, 0.77695963995448, 0.721257078778063, 0.674118217279688, 0.7195928873096442, 0.7659037708955837, 0.6367317856204963, 0.7466131973914788, 0.6432777397859833, 0.7825299859617533, 0.6828893609151606, 0.6730337119339843, 0.6960698908387294, 0.6327509054320791, 0.6247397849207769, 0.7077556191075993, 0.7578818470244265, 0.5951827112861651, 0.6546886569899689, 0.7463249425140831, 0.5824596059019099, 0.5029372468603823, 0.6560696249002095, 0.48566810101648317, 0.3938769411407761, 0.3566353263101446, 0.33309794846953855, 0.5084974464248162, 0.9973303948033643, 0.7921876388181709, 0.6514886313411635, 0.7023962111246571, 0.7510539063118215, 0.7729185254016054, 0.599326385126931, 0.7026284577178527, 0.6818891007309353, 0.4748205361891955, 0.5451865746811824, 0.6057025516526698, 0.5768896681366694, 0.6027707106568029, 0.4561031999747309, 0.5198805127923107, 0.5135334924617772, 0.5145457712949251, 0.4956035729591728, 0.4409815679743003, 0.7504626218536075, 0.33203698865806824, 0.5659445501949151, 0.657084792455839, 0.6958322260986693, 0.7153857587123591, 0.5405398012411018, 0.5766182753886774, 0.5902440991716548, 0.5012521332998228, 0.5167407153371628, 0.5342910967566845, 0.41379497651394176, 0.42211690670677393, 0.526946775877826, 0.5526246749689402, 0.3755290941222472, 0.5873755084988355, 0.5051875712389706, 0.8278169890745669, 0.5982282078632313, 0.3367604373708526, 0.5541769924127722, 0.7225119410131238, 0.41233099121326955, 0.4536169255259792, 0.7490882743746763, 0.617053516460265, 0.5868626764586661, 0.754839293800717, 0.5013077150080096, 0.409703043039198, 0.5507913952862177, 0.5804518488128478, 0.5188465635484757, 0.2365253492256294, 0.6301105644355482, 0.4448047818284001, 0.42454294047929503, 0.771472372443289, 0.5642431724171589, 0.33344276081840507, 0.333478147440279, 0.5547601415309119, 0.4879086814059673, 0.4737750517975422, 0.48852198404085645, 0.4780859686094368, 0.4161067479911646, 0.34452491701122184, 0.26778788240632523, 0.535547701834348, 0.5346221820947059, 0.3821724619639527, 0.2784530244627409, 0.6194325963768373, 0.4673163724662139, 0.5530189459810163, 0.7308741099769247, 0.47322150728443046, 0.41255450467531984, 0.5399370206847105, 0.30777438400087664, 0.5513388825638493, 0.44889242480633307, 0.475631384989785, 0.6907359923222142, 0.5136455373009826, 0.4078910718957594, 0.5719281965752037, 0.5395010072262206, 0.3041596753180516, 0.3508670934732983, 0.49648247183190675, 0.5551898646679185, 0.46342913318185974, 0.6959368307455374, 0.46881005296130634, 0.4531579237393455, 0.30837652387627157, 0.6275891778429579, 0.5103306746801475, 0.5728339559340824, 0.4814039894580046, 0.37360611449838554, 0.40214956740435087, 0.5338609582773598, 0.5445360469128467, 0.5563660438621352, 0.47958493212555026, 0.48588062536688625, 0.4883411618037384, 0.48816903211991075, 0.5390037897961928, 0.5423210542426499, 0.6033609533611444, 0.5782435612430734, 0.5273017574172464, 0.48280191422301433, 0.5225767232315156, 0.2803259331629529, 0.3706479310875525, 0.4437003999754834, 0.49506723954809084, 0.39400321747482153, 0.2959580400645263, 0.6351698872184023, 0.3092882240316014, 0.5991251430443414, 0.3079799126211895, 0.5178785375092478, 0.421976486788804, 0.3929631799811689, 0.5976982474248126, 0.43419334301696416, 0.38796098569201154, 0.26383046447032604, 0.41449179576531703, 0.6909766578155192, 0.42711878753680593, 0.28996185394449725, 0.5351399604100245, 0.2354636486520371, 0.4941664151160595, 0.43329170889581603, 0.4231775591701755, 0.40576168591409195, 0.4792357854162458, 0.49610265160913314, 0.5895899587794887, 1.3998551784859248, 1.2816287491960332, 1.1432100759789268, 1.0366273626989133, 0.9662473663928262, 0.739950573372613, 0.8410287281345155, 0.5162300786137142, 0.5485249844416122, 0.7256416687141558, 0.5549081082555248, 0.6261788387917298, 0.4262814298358997, 0.40010185548816496, 0.43407516304345667, 0.48281046185212767, 0.2721663628387488, 0.5797809928073174, 0.43525731692605346, 0.4466091445534706, 0.473145134957626, 0.36880283533063457, 0.2854380758801557, 0.35201495003118344, 0.403380549547637, 0.3422620892805752, 0.3640215578283544, 0.221411189333633, 0.3266562200506954, 0.32359826768892236, 0.5280449911777362, 0.24667844420630664, 0.3359393333274465, 0.3827567651303042, 0.3204363386099271, 0.2885772890269916, 0.32240048430204965, 0.5461509832252569, 0.5065807283832512, 0.5005627491583535, 0.6356817465140038, 0.3966487589068102, 0.44797760505932127, 0.2678215294941616, 0.3458667549781814, 0.3485421808861326, 0.48927250760774216, 0.31591727983812273, 0.22481619876619496, 0.3084143724990751, 0.3633729387215647, 0.28852697540949634, 0.2341723471059967, 0.5406083191308991, 0.3275809370823891, 0.5674123288686295, 0.19699139107936, 0.3734907310425659, 0.3396114088821406, 0.40482233809215407, 0.37735992376351457, 0.42679760354397017, 0.35088476351792264, 0.21532004869140597, 0.28357710234943134, 0.4543549210541663, 0.33566155906842127, 0.45533252750054665, 0.38731949303842383, 0.35244154925097726, 0.32298087554884836, 0.682666768115138, 0.272437395357498, 0.25191388234269235, 0.2663052137567907, 0.4045051372125359, 0.3852010469181779, 0.33276929553864754, 0.2714522782650971, 0.2778188950810083, 0.45213973035203386, 0.29782955240755177, 0.29771623358993715, 0.4092768612825359, 0.28602890088590915, 0.40021767108302714, 0.2779430154520883, 0.2662353743708643, 0.32643902249180157, 0.4527772599400261, 0.47166761539198554, 0.32221988774438504, 0.24307997660984168, 0.38555525873801005, 0.30994518917972996, 0.28636138768507, 0.3319829950200539, 0.2734271281424959, 0.4351508871362174, 0.5187541442154432, 0.4704814080331702, 0.33212310509893983, 0.3300929293003423, 0.44010241083280055, 0.3364623490048611, 0.43580339935694123, 0.3477705234553594, 0.30092371969876563, 0.321427599869593, 0.4868483039098942, 0.39621007030130295, 0.2701405361190744, 0.46835259993415695, 0.2882701459149971, 0.23904901684285393, 0.3232544308293204, 0.3052521634044333, 0.3031800497112701, 0.35126085180053446, 0.32598051908496906, 0.2909473318214348, 0.2867588235719534, 0.249854024828888, 0.29628833738284, 0.4312840383596077, 0.24870794976964894, 0.3315381843848715, 0.3310386199012061, 0.2682034218300936, 0.4934169201913169, 0.28158238103474675, 0.43448215242483135, 0.29501828732780255, 0.30654486679242504, 0.39082892526943075, 0.31121510878918074, 0.45778039351635114, 0.27227715383028406, 0.2626041418900531, 0.31619533771025243, 0.40120390763398966, 0.2701317735154274, 0.28602220396238964, 0.39791093258254717, 0.26577680385430114, 0.4158140577024396, 0.40315872878956177, 0.3189852881021331, 0.4466305595322282, 0.4108714246002796, 0.23909590165814057, 0.25364298139683444, 0.6387398479668538, 0.31577669609001946, 0.37626783455271606, 0.3312657632726942, 0.25125970542987536, 0.26869743067888013, 0.42582807353748614, 0.3524223705960431, 0.25356840536141045, 0.22619641906476146, 0.4103047551086513, 0.24325658664410343, 0.30254653271347465, 0.33078536145268406, 0.29878608699680337, 0.34080561554684874, 0.30531236341790746, 0.2867292820077903, 0.2415134022603842, 0.2539505735436851, 0.22462134399658878, 0.34081450608246, 0.3004752655478665, 0.30135281976932216, 0.4710485511016491, 0.2992859695388979, 0.32981281990766464, 0.23236400457410203, 0.31498521949139546, 0.2928289168568976, 0.32398192037949364, 0.41657482648159977, 0.41733669860529166, 0.3456573522046195, 0.4058142722433816, 0.2966682237679321, 0.30526399899689927, 0.23732330384616146, 0.31709909955144655, 0.23195530475834833, 0.34547710620644334, 0.28321121238464897, 0.388062260639094, 0.3337407822124332, 0.24549513519262828, 0.30161436857081403, 0.301652731383684, 0.3646374533564244, 1.6869629684010619, 1.7415282160487795, 0.8271893573600105, 0.6208222776008473, 0.7614011304135495, 0.6354423242367884, 1.2046413552279536, 0.9836543252353255, 1.0916028257317152, 0.9733562164193077, 0.6697776744090603, 0.6563613910079089, 0.6052720885099468, 0.6998559137310214, 0.7374443750628307, 0.6977660490928618, 0.6916908851280524, 0.6421052518951098, 0.6042257883003335, 0.5561384482645861, 0.7048017348387144, 0.7113210151284856, 0.6000465959491146, 0.6328486026478232, 0.599467816017274, 0.5872703775772988, 0.5349032746494314, 0.5969492002438086, 0.49441110824979495, 0.6076165587505552, 0.5152862584667406, 0.601392402121502, 0.5324085455579883, 0.5666992631651717, 0.5634644054575131, 0.5338101210284226, 0.5233688608985625, 0.5484611783833727, 0.58531957491351, 0.4912766358765216, 0.5261816093366127, 0.5737826735177869, 0.481510936442047, 0.4259145564176504, 0.5180570748571103, 0.4097396892704609, 0.34406090168638875, 0.31385827917135095, 0.2918132991537956, 0.41312056438493927, 0.7353529879874283, 0.60442293359992, 0.5116544013062885, 0.5443706021011909, 0.5765984664269276, 0.590629173923317, 0.47669692694042476, 0.5440131358246336, 0.5299602077433164, 0.39194260955562327, 0.4379490482865105, 0.47917109024771903, 0.45911855964556064, 0.47567887411148146, 0.37600109247302477, 0.42031464013754394, 0.41444705278847416, 0.41468231567079805, 0.4008134169056927, 0.3623146505106492, 0.5765480769359579, 0.28373467561320487, 0.4490287872202588, 0.5099053519186318, 0.5410707325853188, 0.5544733486223823, 0.4321298917428329, 0.45854585385219226, 0.4670733567661155, 0.4053233544235776, 0.4152936218699011, 0.4267246852481176, 0.34061728153632176, 0.3463954123602073, 0.4221154617664848, 0.43965861888079566, 0.313083408212845, 0.46316915116623963, 0.40634153645505067, 0.6322255316337634, 0.4713594526062078, 0.282746245182556, 0.4392483630645103, 0.5580953833972805, 0.3401719987755385, 0.36856420251844624, 0.5751484343646683, 0.48544982109693746, 0.4643936089446782, 0.5819973019493166, 0.4030961617182613, 0.3367808709307413, 0.4384675635662346, 0.45898309234713935, 0.4146735394222867, 0.20644844380108887, 0.49533383934055, 0.3612060120656308, 0.34656258204535617, 0.5936352048301771, 0.44783030406786173, 0.2798642349287893, 0.2798672287405645, 0.44186124272387994, 0.3924057870660294, 0.38341932285485664, 0.3924877164078301, 0.3870487181937774, 0.3418191464563889, 0.2878895517056534, 0.22830775737660103, 0.426858046333187, 0.4263334049030287, 0.3156840678317526, 0.2365295453336263, 0.48784495758820307, 0.37793532525944906, 0.4414558215089812, 0.5678638377510232, 0.38373280661853815, 0.3383641385636617, 0.4306410340400053, 0.2581155799179753, 0.43948430431981106, 0.3657320607291219, 0.3844610383968361, 0.5380031270584961, 0.41025734478960846, 0.33307982044214024, 0.45282201717463155, 0.43053252850373414, 0.2566846999826966, 0.2918941551327712, 0.3987838450753982, 0.44117172184018427, 0.3742151322201546, 0.5448383847167768, 0.37672310704267686, 0.36658950619184555, 0.26011569431063025, 0.49239607799270463, 0.41008726264235584, 0.45357748311235657, 0.38762491323820136, 0.30790043711544757, 0.32963864089022227, 0.42585384855649916, 0.43349003133754704, 0.4433645641364956, 0.38859859158849624, 0.3911867698915891, 0.3935246327491877, 0.3934267513679238, 0.43008466112107474, 0.43210888775407064, 0.47803859923689446, 0.458887749877873, 0.42076508054355055, 0.3890814658906613, 0.4179184985883802, 0.2385288442202141, 0.3060511966476112, 0.360091262212711, 0.39974509485257337, 0.3237481077309553, 0.24942866463472818, 0.49958679382742527, 0.25969074304292317, 0.4746926586592966, 0.2578115144199365, 0.4156841385751614, 0.34413395052822937, 0.32382192835986745, 0.47294618462656823, 0.35355920703074417, 0.31916667516242264, 0.22567446816502582, 0.34071398730096264, 0.540815175626391, 0.3490672353782286, 0.24503453477593612, 0.4298469302293536, 0.20261072921237006, 0.39982201240187876, 0.3529843650465565, 0.3469192332976394, 0.33284020017443844, 0.3868397099011166, 0.39822500458724025, 0.4682321868071711, 1.505829396335207, 1.3822496019251416, 1.2577279355442341, 1.120946313698567, 1.038387098728893, 0.7999219005133708, 0.913125091475438, 0.5684010855702766, 0.6043481284396232, 0.7730181532412345, 0.6077688423956903, 0.6983155200661515, 0.4742248571904753, 0.4410565239687687, 0.4711308656283689, 0.5325779951454274, 0.29297693218800125, 0.6530299612747216, 0.48773310464537184, 0.499032453090606, 0.5207180978650838, 0.4122436577849108, 0.3149761953577994, 0.3945728146397869, 0.45046007666676297, 0.3830255559337842, 0.406942593592189, 0.24579998452892438, 0.3708875838688259, 0.36619066888419477, 0.5984437618166498, 0.2748201302384684, 0.37662453590622724, 0.43102268050115505, 0.35688430206704186, 0.32430690593591877, 0.35910580748688287, 0.6164596528428814, 0.5751177750911193, 0.5685561682069585, 0.7318194566054034, 0.4498658470191122, 0.5106861648070198, 0.300532350710658, 0.392139773239917, 0.3950991082274755, 0.5541104570311729, 0.35602407788390356, 0.25338994445377455, 0.3461188870640649, 0.4080468809626644, 0.3273240449231318, 0.2638074308662288, 0.6187934866119592, 0.3713490541990506, 0.655662500335531, 0.2231208794454676, 0.4200801907413654, 0.3822200979917425, 0.46101316288862415, 0.42464140084052393, 0.48690971156956997, 0.3946983126734766, 0.243112986312493, 0.3192703226154361, 0.5176239481256905, 0.3789070331904026, 0.5219436032900703, 0.43725154444430747, 0.3983404109141201, 0.36443789391682263, 0.787215432089694, 0.30723621041993354, 0.28444877569279187, 0.29927706783221747, 0.46012761815271846, 0.4374040587930572, 0.37541149416448105, 0.3047024033217265, 0.31350102478656966, 0.5182406001007736, 0.3363251371607219, 0.3371783769272085, 0.4653350313917496, 0.32237317249160735, 0.45378402523284245, 0.31390818435446693, 0.29864231737233415, 0.36850949721478177, 0.5167908698338065, 0.5398742955097988, 0.3631165068968279, 0.2744653161496481, 0.4361688001262292, 0.34897815922134534, 0.3230406870905971, 0.3769127838852575, 0.3082432455607421, 0.4982672466761098, 0.5951359320414076, 0.5393030450573425, 0.37567607588666696, 0.37164615699817005, 0.5031970787267542, 0.37981085924120656, 0.496408312579648, 0.39255160442326753, 0.3395875136322656, 0.3634195619837633, 0.5561735923205197, 0.449373830895697, 0.30343988544468165, 0.5344453305001826, 0.32478383218498275, 0.2692619610404597, 0.3657845370094462, 0.34362872612065287, 0.3416278522031688, 0.39818808853920346, 0.36893173354039277, 0.328321064156348, 0.3222536136145553, 0.28102121962610777, 0.33391723468618995, 0.4930177487635253, 0.2797806624435265, 0.3749318228932223, 0.3735509935312718, 0.30132169902924083, 0.5660796431646873, 0.3170689203506518, 0.4950785904779756, 0.3322951117806269, 0.3458699792635784, 0.44406050733208347, 0.35098106830568376, 0.5250486706216935, 0.305354436562694, 0.2944905547024089, 0.35622871539360457, 0.4569798493759844, 0.30402892730743303, 0.32247419985941206, 0.45307723183766757, 0.29871421598272185, 0.4743883707674529, 0.4583546378788138, 0.3597116031581362, 0.5102544566646481, 0.4692236670719985, 0.26853960481800243, 0.28494607943764677, 0.7399590741760578, 0.35626382321104266, 0.42767817108457046, 0.3738182079381759, 0.28242951560792817, 0.3023454171177121, 0.48612121623023863, 0.3984996156288966, 0.2846101429247557, 0.25428162855041525, 0.4676562967697818, 0.2722044641763861, 0.34059256540697225, 0.3736096575993402, 0.33657845758070243, 0.3849438053139925, 0.3438973104190508, 0.3221823549637534, 0.2711273672042768, 0.2849990675748621, 0.25155401376455755, 0.38519392407027864, 0.3386736650641572, 0.3402482800534592, 0.5417437503440583, 0.33628454779171846, 0.37255362958879246, 0.26004246265143816, 0.3556916971892895, 0.32951403125222767, 0.36546311449200986, 0.4758389397796967, 0.47636735157099486, 0.3903295330678381, 0.4625070183993053, 0.33373771166703026, 0.3440755709171457, 0.26532416084893573, 0.357161615146105, 0.259617062404078, 0.3905888555368141, 0.31825913688595286, 0.4405537088360266, 0.37727383202781795, 0.2748661563946023, 0.3398498511591099, 0.3391948378719618, 0.4136547000462205, 1.6256214714715407, 1.7070466614437492, 0.7377492575070485, 0.5367125782294402, 0.6710067831379619, 0.5483410837186781, 1.1338552798157133, 0.9076837146468281, 1.040950097086228, 0.9242698929242322, 0.5796501185401498, 0.5656070730027258, 0.5177867338539546, 0.6120192764470457, 0.6519276636512048, 0.6161451364091469, 0.6127117119940135, 0.5646932782908544, 0.522174829657699, 0.4705056755612014, 0.6280133071605838, 0.6478925532702138, 0.5146899784552457, 0.5572567488469929, 0.535545974377759, 0.5413790674247222, 0.4422857118776294, 0.5095323805443319, 0.42166059036749354, 0.5343115718253362, 0.44866546203086616, 0.5078649864037379, 0.4546481276633534, 0.5100632435181321, 0.493542414239534, 0.48101880924332413, 0.46926753593747905, 0.4658148628193747, 0.4956018068905277, 0.43605092092760117, 0.45832060036008687, 0.48421614409365377, 0.4275834168964704, 0.38451510863225535, 0.44560725017779196, 0.3689065328528066, 0.3171755785520496, 0.2908044637631781, 0.2695071582685417, 0.36219764878852895, 0.600304156282131, 0.5067759140220424, 0.4381006495526274, 0.46167409040009255, 0.48564215842957714, 0.4957516792792063, 0.4117893245781031, 0.46100394711715775, 0.450299119170552, 0.34725614292109713, 0.38077719701920765, 0.4122530643390348, 0.39660817417014804, 0.40846158337761546, 0.33266480690954486, 0.36702015264918153, 0.36137161546752256, 0.36120369372818895, 0.34990507192936016, 0.3196627827697563, 0.4857223595805341, 0.25703420512482633, 0.3869039735305204, 0.4325567305546892, 0.4598257166664181, 0.4701179777412459, 0.37428478518010017, 0.39579521262611794, 0.40175053585449805, 0.3537851954215302, 0.3609529451778469, 0.3692865061660759, 0.30072853967299246, 0.3051964348228048, 0.36603838890784046, 0.3794699967109482, 0.2787676195871682, 0.39731845500970026, 0.35328937936555455, 0.5302608553303063, 0.4041536081163662, 0.252819245868255, 0.3780861049653801, 0.47193615450562554, 0.3007559767803275, 0.32253034421705373, 0.4842268497651504, 0.4158124032758619, 0.3993534682086066, 0.491490798721946, 0.3503515857840305, 0.2969472188028545, 0.37856210174348925, 0.39447379631876067, 0.35892163689074363, 0.18942539930570018, 0.4239985205295278, 0.3159326812946062, 0.3041523207789312, 0.5005450221096301, 0.3858465679072402, 0.25008733702447966, 0.2500795967398861, 0.3815932021939616, 0.34105503332356174, 0.3346203010951697, 0.34087520787647935, 0.3378667459458266, 0.3012200272428015, 0.25649999381944744, 0.20613160769577898, 0.36878314570191095, 0.3684500381531183, 0.27916047469132155, 0.21302526691390816, 0.4180623568961188, 0.3296506696585577, 0.38172365267847336, 0.48201447972355477, 0.335258318765124, 0.29782704328924203, 0.3721937774293738, 0.23052284643865734, 0.37966590001812406, 0.3204997139594651, 0.33520156523452965, 0.4575437148425966, 0.3549636768010937, 0.29236878504933295, 0.3894809542155421, 0.3722292049871731, 0.23011647083466558, 0.2592750744640817, 0.3462758023213748, 0.3803710101545072, 0.3260790015947392, 0.46489774563739766, 0.32722781005733825, 0.3197956187354042, 0.23307434614976832, 0.4209251238312038, 0.3561806887324719, 0.3901507464714578, 0.33712288711750005, 0.2718003157828105, 0.2899928018383645, 0.3681022747903635, 0.3742019576838248, 0.3829757327470501, 0.33933345848838226, 0.34019120118579527, 0.3424206439164756, 0.3423568417927578, 0.3718223559764039, 0.3732242031554767, 0.41128601408064147, 0.3952707941234846, 0.3637965188572455, 0.33857170754711097, 0.3618476702413172, 0.21487637606538273, 0.2705106470265807, 0.3147751828429959, 0.34824818912783556, 0.2852536087107178, 0.22334393135558908, 0.4277413813606752, 0.23198032214969352, 0.40840534037961135, 0.22987231101224279, 0.36074717191972866, 0.3017729340605448, 0.2858260767088122, 0.406581060417714, 0.3097260890739942, 0.28143111772828194, 0.20395969184761936, 0.30023821408693463, 0.46141389475740524, 0.30649176351031787, 0.2197663819235751, 0.37315791672722376, 0.18383729889387923, 0.3487304773775385, 0.30931868538484586, 0.305182797601153, 0.2929448117591022, 0.3369716909755631, 0.34566457719566507, 0.40345623886705606, 1.5781393571511069, 1.4512238121024748, 1.3355815417127526, 1.1793659120793731, 1.0888559316037802, 0.8419579405112078, 0.9631361181076677, 0.6046100434053264, 0.642908512124206, 0.8065417555944897, 0.6441906969339043, 0.7475744393013406, 0.5069925659852629, 0.46905480684928563, 0.49663424894907404, 0.5664940508056405, 0.3074623524062662, 0.7027016160755636, 0.5232580945945896, 0.5344985592834468, 0.5529989410836196, 0.44152164490013157, 0.3349482863354223, 0.42319258514683744, 0.4821518389257929, 0.4103945756182221, 0.4357616404236093, 0.2623156045160643, 0.40051844329471, 0.3946941749585543, 0.6458522954890887, 0.2937198000703405, 0.4038315636114832, 0.46333645866419604, 0.3812551754777581, 0.34813721892182026, 0.3836259945527638, 0.6637141897872993, 0.621155169457224, 0.6142065409787875, 0.7966344866598878, 0.4854449407370962, 0.5527204092591177, 0.3223640968374868, 0.42298916296212075, 0.42613299531222315, 0.597538578496619, 0.3827141118765682, 0.272522316856773, 0.37119412526240114, 0.4377874189364582, 0.3531032388847247, 0.283550732730511, 0.6713268064186186, 0.4004617705037251, 0.7151444828118225, 0.24067189711054005, 0.45107252881197574, 0.4105270864149905, 0.4985432964928844, 0.4560839690580906, 0.5271012520063905, 0.4237982145744539, 0.2616806086691688, 0.3429346498049715, 0.5599396119049473, 0.40761725415000316, 0.5665909000261202, 0.4704562164759753, 0.428829542683287, 0.39193795888846616, 0.8575510650442978, 0.33031334075163155, 0.3060321853943173, 0.32112985010388373, 0.4972299847186316, 0.47217105859950986, 0.4036938674728593, 0.3267315920728916, 0.33713346489266094, 0.56253595906422, 0.3618300974561314, 0.3633398216606626, 0.5027109138554896, 0.3464378019448092, 0.4894418970402589, 0.33772845658259465, 0.32009464370349433, 0.3963944796820123, 0.5595908902517052, 0.5855481434180732, 0.39020390963007623, 0.29527449064192307, 0.4697959379965416, 0.3748139700245514, 0.3473239830977752, 0.4067629069087783, 0.33128573104399367, 0.5405150392838745, 0.646351289357026, 0.5854048150896725, 0.4045605721803486, 0.3991523714605639, 0.5453774631021988, 0.40853536878759966, 0.5368284367476521, 0.42222881080572766, 0.365195204619029, 0.39125448055600254, 0.6025031164491039, 0.4847132885996245, 0.32549398002471397, 0.5785699732823043, 0.34896099826310945, 0.2893223346464814, 0.3939921486931461, 0.36901398479995795, 0.36706949783705456, 0.42935465182111365, 0.39741945681332874, 0.353066973196576, 0.3457144113729413, 0.30165115064153325, 0.35881191902230036, 0.5342913360026176, 0.3003473456579905, 0.40370471084588966, 0.40169991632256596, 0.32320828849644845, 0.6147693554533964, 0.34054044936084493, 0.5354839271578269, 0.3569525449712961, 0.371905927404228, 0.4794792989346448, 0.37730048171374275, 0.570119673155928, 0.32720364518318057, 0.3155570976330253, 0.3827039452352635, 0.49416243553385697, 0.3264500374890089, 0.346598996795505, 0.489844170677781, 0.32048814217744687, 0.5134832666913304, 0.4950864151556608, 0.38665974738659586, 0.5527405723221104, 0.5081936438888572, 0.2880566446900521, 0.3056575337643778, 0.8080135360367332, 0.3830664428419194, 0.4618931349746359, 0.4019861316112965, 0.3030593588056077, 0.3246032708612179, 0.5263767271637247, 0.4290400032479127, 0.305136408184777, 0.27290270872563444, 0.5059067851453716, 0.2913269073630106, 0.36574198393775137, 0.4019787826258532, 0.3615747299430364, 0.41417764171664173, 0.36941142630755297, 0.34559304147155434, 0.29071111712956577, 0.3055079637723118, 0.26935938605553233, 0.4146095923044879, 0.36395090082539017, 0.36602407419705923, 0.5892307610172904, 0.3607017849028531, 0.4008692611863287, 0.27832548963315895, 0.3826612883338397, 0.35375679720036846, 0.39291363846198213, 0.5154439367608996, 0.5157824111698384, 0.4199003764202135, 0.500309774982334, 0.3582279083800796, 0.36975074505399136, 0.2838171751115467, 0.3836386675358031, 0.27789506720201396, 0.42048559444202765, 0.3414012472820668, 0.47543973732189554, 0.40612839556297875, 0.29425260050935387, 0.3651406580416651, 0.3639796640781493, 0.44623048737616183, 1.5909408183536822, 1.6887712487537663, 0.6890301358085809, 0.492990383284154, 0.6221432450879361, 0.5026067321974214, 1.0936382394957178, 0.8647677396552571, 1.0125854717825575, 0.8968219337737078, 0.5304247286173247, 0.5161269263655832, 0.47039548603507403, 0.563474651407478, 0.6042936907722489, 0.5707213288854661, 0.5686631783874674, 0.5216999030511378, 0.4770371925282374, 0.42403180132414653, 0.5849143410073091, 0.6121326729858992, 0.46763104974791275, 0.5150020086049775, 0.499591938011399, 0.5154229529167339, 0.3920364978739776, 0.4612006918765459, 0.38144155143282044, 0.49320058611614526, 0.41138438826022644, 0.45630618100227044, 0.41151448802316815, 0.4779956790689933, 0.45427186290369714, 0.451123808858401, 0.43869526870172487, 0.41988695532340214, 0.44586363104112275, 0.4047783518500868, 0.4201982327867386, 0.43455201818787986, 0.3970808968071634, 0.36094200420861616, 0.4049835392957559, 0.345618811444597, 0.30178969812876066, 0.27763193768341343, 0.2568130754491935, 0.33337209444477106, 0.5260690170879357, 0.45243032159034935, 0.3967779847641109, 0.41545174494312465, 0.43491971462575274, 0.44288698631905493, 0.375104206682804, 0.41459550904047326, 0.4057550646201547, 0.3216162852816078, 0.34842891590545366, 0.3745218647773637, 0.3613036607190783, 0.3706421779770103, 0.30781044539771524, 0.33664875401281646, 0.3311923412606883, 0.33080586993282474, 0.3209261385660037, 0.29520871331329973, 0.43501419002502417, 0.24147974297675637, 0.3517830305525495, 0.3892691907120529, 0.41419210760903846, 0.422775260121465, 0.3414430270481675, 0.36017889769179745, 0.3647869411803543, 0.3242984889087527, 0.32999994528164067, 0.3367043350699181, 0.27780113246277155, 0.2815297336052375, 0.3341247426595278, 0.3453387231695046, 0.25887245352559396, 0.3601457891747999, 0.32302989515175473, 0.4733574339408251, 0.3662078767012181, 0.2354358739772262, 0.34348426950004174, 0.42370476503121074, 0.2779618195347109, 0.2961476083003367, 0.43350652309911625, 0.3764826947341259, 0.362509266290244, 0.44079810146439025, 0.3202616598128512, 0.2739778478552322, 0.3445371223594379, 0.3579683229152778, 0.3272304636565606, 0.17933329264840642, 0.3836861157020912, 0.28999217292824586, 0.27977827725362575, 0.4484888230570147, 0.3506909293770935, 0.23271071335848872, 0.23269052949350663, 0.3473221452881633, 0.3117530299595507, 0.30664757083388133, 0.31144577416284464, 0.30964997939589123, 0.27774254687875016, 0.23820291916149566, 0.19310715666312372, 0.3357777341215302, 0.3355407819088437, 0.25799520231136985, 0.19922750433402914, 0.3786073399846156, 0.3019882759081121, 0.34768543786720907, 0.4337501568975077, 0.30740070799960256, 0.27441175372898935, 0.3389436338611096, 0.21444235940576456, 0.3456267611069253, 0.29444070393113725, 0.30696913121720104, 0.41231361862918664, 0.3235299758491541, 0.26895610441887285, 0.3536083240258548, 0.3390466105536827, 0.21453123359307136, 0.2402895543395519, 0.31630695656050334, 0.3458634477517088, 0.29854087511744193, 0.41976563898274416, 0.2990186243574742, 0.29299870145167584, 0.21719628321602447, 0.3806390223398104, 0.3253759915495532, 0.3542271119547151, 0.3082640335358786, 0.2509080107791377, 0.2671060773894042, 0.33525988502776777, 0.34052313794298056, 0.34862360120548813, 0.31103217868199184, 0.31104388042044057, 0.31318453412725655, 0.31313763479949974, 0.33867176894746787, 0.33975383353221256, 0.3734009257571642, 0.35916154378267195, 0.3314030428171877, 0.30968434652891863, 0.3299127535845513, 0.20090733762025761, 0.24991066287020186, 0.2887647932980063, 0.31872287994850096, 0.26299512362643557, 0.2080442548244366, 0.3871567942453401, 0.2157588826311128, 0.3707999854029362, 0.21356229462632956, 0.32937261766911285, 0.2773890593333802, 0.26379844201144476, 0.3689766927996151, 0.2845077080929126, 0.25959385171983296, 0.19108220594161354, 0.2767880797581379, 0.4166419898929588, 0.28193067720023907, 0.20490851612291994, 0.34073565831142044, 0.17268223090303478, 0.3193930648126162, 0.28418904199737044, 0.28104540264193084, 0.2698879851289885, 0.30841811559291865, 0.315682337271509, 0.36665970241382806, 1.6261664516766055, 1.4972045216585474, 1.3872022616606914, 1.2185473415122654, 1.1229283360254483, 0.8703329464717784, 0.9967515685948978, 0.62887711287835, 0.668705842263224, 0.8293683669794503, 0.6685486743394267, 0.7803406662105975, 0.5287629739227836, 0.48766071102999303, 0.5136707285500643, 0.5890264330339184, 0.31716636669861303, 0.7356042490999736, 0.5467468094809274, 0.5579476656924895, 0.5744047489269739, 0.4608199476092796, 0.34812687179057533, 0.44203028137765654, 0.5030433439799573, 0.4283939432270105, 0.4547233884733454, 0.27321920870568317, 0.4199681257375064, 0.41339587487345747, 0.6771301281363221, 0.3061458166401447, 0.42168937484964386, 0.4845680413052722, 0.39725462419575386, 0.36374689290585294, 0.3997170337998458, 0.6948729032274354, 0.6514834201728631, 0.6442696079747149, 0.8394044952552981, 0.508802237752418, 0.5803614276582391, 0.3366756355143876, 0.44320020296081397, 0.4464642475625022, 0.626104586010141, 0.40018423055850916, 0.28508779897990194, 0.3876047787280201, 0.4572723863211733, 0.36995380719907445, 0.29647958402343144, 0.7059344234712247, 0.4195108739025446, 0.754380358185779, 0.2522213991275227, 0.4713709064569751, 0.4290462945194161, 0.5231711046795329, 0.47667367023470153, 0.5534931068600819, 0.44283630306453137, 0.2738638536991016, 0.35839242526508985, 0.5877394147028757, 0.42639026906358835, 0.5959496794399469, 0.4921980886823688, 0.44877389368202314, 0.4099102082808087, 0.9039091230976566, 0.345388870478852, 0.3201330565591529, 0.33540316157556194, 0.5215626717116131, 0.4949498459704026, 0.4221781419352231, 0.341119247136226, 0.35255988847366826, 0.5916612693862686, 0.3784837900377931, 0.3804254586151987, 0.5272180990314604, 0.362146453454977, 0.5128027942396021, 0.3532778866356285, 0.33409955562392046, 0.41461140363004134, 0.5877023989352503, 0.6155718297427112, 0.40789358390856845, 0.3088673473428388, 0.491801593064407, 0.3916792446947509, 0.363174184498577, 0.42628622554144713, 0.34632308737856876, 0.5682756156105964, 0.6800436671621382, 0.6157131434821442, 0.42343612995025975, 0.4171115452360983, 0.5730748636641609, 0.4272995608175756, 0.5633368684902871, 0.4416180389734832, 0.38191580717121837, 0.409438121623951, 0.632924449460651, 0.5078440094075805, 0.3398974635714156, 0.6075257245797325, 0.3647460166551617, 0.30244120665898144, 0.4124253415023317, 0.3855792714460077, 0.3836741527424128, 0.44973968626305105, 0.41603619051603247, 0.36922140817433874, 0.36101705827577124, 0.31511712820507876, 0.3750569281899035, 0.5613951507821098, 0.31377158127981436, 0.4225062697548858, 0.42007985930805414, 0.3374819943920506, 0.6467849458337807, 0.3558544165279217, 0.5619784086485522, 0.3730417010218715, 0.38890336686247984, 0.5026735854129303, 0.3944804115943801, 0.5997527867421248, 0.3414511426115858, 0.32929531889356256, 0.3999784656054567, 0.5185384361559351, 0.3410791280636747, 0.36234454096974483, 0.5139440866399142, 0.3346910388374129, 0.5391308593542262, 0.5191428380350335, 0.4042481016610642, 0.5806207411430924, 0.5337667496609405, 0.3008098123486764, 0.3191750703694941, 0.8528284905951502, 0.40056417890955676, 0.48430077085798895, 0.42037584390014915, 0.31652478030692965, 0.3391259789350327, 0.5527914874615217, 0.44899427376070355, 0.3185281912523395, 0.28506959084664674, 0.5309903378677998, 0.30379732561343153, 0.3821466729994253, 0.4205076618808232, 0.377884445342195, 0.43326982750223186, 0.3860571100818879, 0.3608541552469936, 0.3034877292826202, 0.31887923073193136, 0.2809749568311889, 0.4338292280483869, 0.38044888551475864, 0.3828610902093083, 0.6204977260770758, 0.3766143793717075, 0.41936381206920964, 0.29024763323623315, 0.40027652795353963, 0.3695669564964851, 0.41083159077857545, 0.5414452817476131, 0.5416459627443688, 0.43920630624654955, 0.5250954420686245, 0.374197455502825, 0.3865055072395578, 0.2958769004480186, 0.4009079064645559, 0.2898166199153196, 0.4400173950533021, 0.35648664130668606, 0.4982695587296335, 0.4249801693230647, 0.3068885513709979, 0.3816434626542524, 0.38013482636715457, 0.46754735376040846, 1.5704618784705635, 1.6784744493740975, 0.6610661572454339, 0.4687350806976315, 0.5942502651584358, 0.4770407375493793, 1.069821699037952, 0.8394479032251503, 0.9959320902071789, 0.8807261859347081, 0.5020876982856094, 0.487677425135806, 0.44326304865294813, 0.5352865621868006, 0.5764791334276057, 0.5442034107562971, 0.5429041373831985, 0.49662669853931696, 0.45089436825273504, 0.3973736556623907, 0.5595932631992508, 0.5910488122858608, 0.44033193736799925, 0.4902423493685414, 0.47841801487629526, 0.5000637761724279, 0.36321127239329287, 0.433105039771427, 0.3580474845376382, 0.46905158863214413, 0.38950885469307, 0.42639789051020893, 0.3863689664402065, 0.4590199113756512, 0.43117470216346654, 0.43343260955494306, 0.42063476460787363, 0.3930777363255656, 0.41688773907030524, 0.3862712714062221, 0.39777171139053913, 0.40561115818865706, 0.37905009775695325, 0.3469386164297435, 0.38111385126756586, 0.3317691300407253, 0.29261400922444414, 0.2697850472824967, 0.2492797174153251, 0.31632490639696226, 0.4831142198497376, 0.42066852662132936, 0.3724602158850319, 0.38835155886920963, 0.4052300363328095, 0.41196137864009724, 0.353420473268068, 0.38737980929786386, 0.3796316553981426, 0.3063004566063276, 0.32930259631379544, 0.3522600135366112, 0.34045184538940243, 0.3483659905866924, 0.29297378048334605, 0.31859384880999014, 0.31328490990193275, 0.31277349622667067, 0.30372006339037494, 0.28061816817149987, 0.40530370700996904, 0.2320949927768818, 0.3310246612079999, 0.36386742915068804, 0.38733375230525846, 0.3949258275434162, 0.32197159801796, 0.3390595044374475, 0.3429184873871465, 0.3067183103094885, 0.31160641400650685, 0.3174018740181229, 0.26410086615713607, 0.26739167860915325, 0.3151714404519156, 0.32511937421616416, 0.2469094353905636, 0.3381954618016372, 0.3050323190217723, 0.4400220258487466, 0.34379493529716676, 0.22497777919691803, 0.3230232218951905, 0.3953880608662306, 0.26427499237683316, 0.28040810151108053, 0.40380770097800106, 0.3532436700893358, 0.3406927731519379, 0.411020943616166, 0.302362500952719, 0.2602196879112594, 0.3243549436598631, 0.33637086430108804, 0.30842800402781034, 0.1731691928181865, 0.35985518385950555, 0.274520601831322, 0.26521147817416074, 0.4179511452445621, 0.3298584622935507, 0.2222197240251698, 0.2221883765486139, 0.32697587995738536, 0.29432117412023884, 0.2899517218217507, 0.2939482078347006, 0.29279669204708103, 0.26364645383554164, 0.22716265990230403, 0.18521072404025982, 0.31619421890977195, 0.3160089294840605, 0.2452731241460428, 0.1908637052352491, 0.3552782813012714, 0.28548593489522095, 0.3274492007410873, 0.40532830534156067, 0.2907439758146355, 0.2603659774654059, 0.31920034526751245, 0.20474447136390003, 0.3254108569761115, 0.278834844018999, 0.2901212812909402, 0.38567966400177234, 0.3048762161965414, 0.25495683310952616, 0.3323739394679957, 0.31933754267552356, 0.20508823808299087, 0.2288454440365628, 0.298473882519389, 0.32540705108893453, 0.28212974658093337, 0.3931067750406779, 0.28225341276029514, 0.277019913797838, 0.20756996617776782, 0.35687061210041837, 0.3070277119102599, 0.3329615615815479, 0.29107831471230017, 0.23836513076280103, 0.2533860357647142, 0.3157642363959967, 0.32054604209543736, 0.3282252305204068, 0.2941142139481787, 0.29368315546975565, 0.2957591398383213, 0.2957212770149393, 0.3189852651000336, 0.31989178802590074, 0.35093971582814226, 0.3377528857022127, 0.3121758710595814, 0.2924711715486161, 0.3109361717529201, 0.19240813762543615, 0.23752918151754265, 0.2732299848597838, 0.30109788501694473, 0.24963680956843817, 0.19877844543562753, 0.3631759906120508, 0.20594666502308898, 0.34851331076517816, 0.20371566410444533, 0.31069403374677534, 0.2627978566667382, 0.2505543097969557, 0.3467091333705739, 0.26942156490015223, 0.2464811627550555, 0.18322549967909837, 0.2626933311702639, 0.39022215268671684, 0.2672106038452716, 0.19589498247394654, 0.321413656948771, 0.1658685737980711, 0.30186346952694154, 0.26915239492325094, 0.26655495213629815, 0.25605344710390027, 0.29139003875950714, 0.2978474690247742, 0.34483347339351883, 1.6576380934427215, 1.5274115199908873, 1.4209978943345853, 1.2443828183463488, 1.1454913286990356, 0.8891165373122851, 1.018957833123647, 0.6448656335384185, 0.6856890778941556, 0.8445713582193414, 0.6845863940722701, 0.8018421860723779, 0.5430313158660156, 0.4998568407358367, 0.5248776563866212, 0.6038010344585492, 0.32355243947089307, 0.7571391112767302, 0.5620991612920548, 0.5732756466821418, 0.5884272713688696, 0.4734073473871178, 0.35672553435696164, 0.4543060115705151, 0.5166745102712414, 0.44011773760053896, 0.46707935375574605, 0.2803347591131581, 0.43261918161962154, 0.42555801518861325, 0.6975522618972332, 0.31423660303977907, 0.4333087027460416, 0.4983930001928725, 0.40766688415755026, 0.3738891202778021, 0.410186906967101, 0.7152146154769807, 0.6712679714511768, 0.663876742053216, 0.8673280121592586, 0.5240034638950656, 0.5983695717879742, 0.34597990771119524, 0.45633567816034315, 0.4596778667211016, 0.644723670055517, 0.4115326395439891, 0.29326616623003077, 0.3982648161201379, 0.46994005070858824, 0.38088865449956466, 0.30487967400863464, 0.7285091631833077, 0.4318820177665237, 0.7799887184274709, 0.2597476991833479, 0.48456536635692904, 0.4410747394110297, 0.5391960836338854, 0.4900561700132713, 0.5706731448471434, 0.45520253273414946, 0.2817901759382272, 0.36842163606499134, 0.6058430469894228, 0.4385790949499493, 0.6150767940290598, 0.5063284669641673, 0.4617268136752035, 0.4215752154762612, 0.9341542725878131, 0.35517035702573097, 0.3292821820832133, 0.34466377304267826, 0.5373909634342298, 0.5097582090271755, 0.4341763337278397, 0.3504542395337309, 0.36256435855492164, 0.6106359209985273, 0.3892864884682008, 0.3915089416099089, 0.5431583965689285, 0.37233461800838197, 0.527990198776314, 0.36336236124465776, 0.3431841201312195, 0.4264329201397611, 0.6060062083272264, 0.6351297300763665, 0.4193708105967266, 0.3176865730106319, 0.5060982060552557, 0.4026187139126527, 0.37345370896738606, 0.43896335303287404, 0.35607425424417694, 0.5863539169713238, 0.7020015773845425, 0.6354570834743123, 0.43568708924290084, 0.42876259152045193, 0.5911049975462422, 0.43947618404043376, 0.5805809523966006, 0.4542016723760121, 0.39276262447466304, 0.421237487938734, 0.6527289628666529, 0.5228727784401318, 0.34924319993013286, 0.6263690076178996, 0.37498552514196504, 0.31095983755877726, 0.42438902071407314, 0.39632192792401766, 0.39444311241827623, 0.4629778280204283, 0.4281192365252149, 0.3796994195897073, 0.370938235741087, 0.3238510014481394, 0.3855914168765021, 0.5790397659852695, 0.32247815325058937, 0.4347091002020531, 0.4320039170730543, 0.3467350272647074, 0.6676433676278435, 0.36578416197520347, 0.5792115941602923, 0.38347486234328265, 0.39992891537352754, 0.5177478675028434, 0.40562349689299426, 0.6190574722198539, 0.3506869791231021, 0.3382013324242961, 0.4111803734660537, 0.5343910678231276, 0.3505650051714885, 0.372556166841569, 0.5296157435520912, 0.34389921900335446, 0.5558174791742811, 0.5347783644952222, 0.4156555027395365, 0.5987629269905863, 0.5504074515545805, 0.30908741259552674, 0.32794210830473747, 0.882045835225364, 0.4119143684661667, 0.4988640979119444, 0.43230528679252844, 0.32525808761991976, 0.3485427696913951, 0.5699796941980281, 0.46194500956179174, 0.327211677783615, 0.2929656477672266, 0.5473062617908037, 0.3118816963435762, 0.3927825513970939, 0.43253036492161634, 0.3884605010293951, 0.4456576712273418, 0.3968504242265364, 0.37074489993949244, 0.3117720181890642, 0.32754562652177305, 0.2885064065514045, 0.44630324120612225, 0.3911490229726814, 0.39378627944662853, 0.640884324787988, 0.3869257258322514, 0.4313644605108016, 0.2979761187589127, 0.41170632838056964, 0.37981603259605906, 0.422453614808294, 0.5583695381424638, 0.5584753956732365, 0.45173037258645926, 0.5412156290020957, 0.38454922621254606, 0.3973710496763681, 0.30369528882940233, 0.41210393529154654, 0.29754587923341, 0.45269304508953623, 0.36626319832879595, 0.5131008561043442, 0.43721461277743945, 0.3150775088937149, 0.39234519518278427, 0.3906044447845027, 0.48139513164770253, 1.5580037515634362, 1.6724133237367826, 0.6443944276846971, 0.45461513955324806, 0.5776835848058899, 0.46207501339484824, 1.0553072213440085, 0.824055574515431, 0.9858367450758375, 0.8709777166172177, 0.4851520748671647, 0.4706879914035632, 0.4271059304608531, 0.5183377568354232, 0.559690265222207, 0.5281978185694679, 0.5273374381107714, 0.4815017774093495, 0.43519884803069103, 0.381473986752832, 0.5442412399456198, 0.578232886738864, 0.42392350536775486, 0.4752565005943918, 0.4655560835414889, 0.4907005265785304, 0.34601633261245685, 0.41619287036345826, 0.34395797231242764, 0.4544094934666578, 0.3762542218596217, 0.40842001371918407, 0.37120102846949893, 0.44745442479223263, 0.41715719171361715, 0.4226496959432495, 0.4096405809970331, 0.3768913987899293, 0.3994174623752329, 0.3749910125972107, 0.38415888292472994, 0.3881579708421321, 0.36806936898543424, 0.3383815962703841, 0.3666362516418008, 0.32329952124414774, 0.28699133181401854, 0.2649802296717944, 0.2446801398918625, 0.30594051026294883, 0.45734019726692526, 0.40147415429599753, 0.3576944113046584, 0.37193791894033146, 0.3872683838713798, 0.3932595418649233, 0.3402143947635474, 0.3708931867652193, 0.3638063197366623, 0.29690633050375875, 0.3176527127565193, 0.33871850051013314, 0.3277594748898966, 0.3348316974141812, 0.2838785211695127, 0.3075555921461905, 0.30235121802345954, 0.301765504276832, 0.2932105443685589, 0.27167741164404885, 0.3873160274152694, 0.2263009032359528, 0.31838283799683076, 0.3484726471706946, 0.37102207897713463, 0.37801828723701986, 0.3100885866795311, 0.32616849562717054, 0.32959103449565025, 0.29594882514918086, 0.3003640854358284, 0.3056285800872385, 0.2556976991191191, 0.2587213285262756, 0.3035913718200536, 0.3127865902353062, 0.23954056146454378, 0.32483572593919574, 0.2940254807075523, 0.41984104526991894, 0.3301506793206624, 0.21853507738241296, 0.3105585284685692, 0.37821962367414075, 0.2558515009703573, 0.270763482764534, 0.3858343471647462, 0.33909236610244464, 0.32738889928089104, 0.3929603871248489, 0.2914147769426106, 0.25176719533562736, 0.3120336892508787, 0.3232084391109682, 0.29694809580452813, 0.1693319876337288, 0.3453387144679018, 0.2650420201736274, 0.25627537623371804, 0.3994465410995155, 0.31714842955538286, 0.21574103150511229, 0.2157011066155348, 0.3145468504863223, 0.28365889944863376, 0.27971699117578014, 0.2832500138833402, 0.2824604140571882, 0.25497168638682177, 0.2203470571009066, 0.18032087340289457, 0.30423624821906414, 0.3040802999190557, 0.2374387698974513, 0.18568485329345913, 0.3410659261317634, 0.2753734725451994, 0.3150762457149646, 0.38806127319626443, 0.28052121950476405, 0.25172779382942445, 0.30713879770712127, 0.19876005743168718, 0.3130589030283214, 0.26924737644314445, 0.2797948158563014, 0.3694988698829253, 0.2934848487012241, 0.24636582077882205, 0.31942812416113564, 0.30729452185601747, 0.1992430095380302, 0.22178524742556924, 0.2875640718402082, 0.31292340629227755, 0.27208021124247816, 0.3768771476180462, 0.272005911699022, 0.2672316024026398, 0.20160900334734777, 0.3424117445415476, 0.2957951659150508, 0.31999635965701545, 0.28055940087632714, 0.23064795529666138, 0.24495222976150993, 0.3038562547678434, 0.30835005865250825, 0.31576290693686043, 0.28373269954857017, 0.2830557469579772, 0.2850872643858402, 0.2850545230487357, 0.3069574458152167, 0.30776256188838536, 0.33723135792348624, 0.3246868868281956, 0.30043274285048766, 0.2819311352823042, 0.29933733761380915, 0.18713334956565897, 0.22990537181237464, 0.26370343593664264, 0.2902927051044051, 0.24141932692740403, 0.1930452558332453, 0.348573310220187, 0.19987999890779456, 0.33491534679081275, 0.19763556323062972, 0.29926324434486645, 0.2538387816002817, 0.2423970978429207, 0.3331302580705455, 0.26016027901479627, 0.2384118737844702, 0.1783406542975909, 0.25401391478225965, 0.3741490985173845, 0.25816309085232403, 0.19031166942491598, 0.30958124432051926, 0.16162916115038567, 0.29111029849493114, 0.25991994807044067, 0.25763884764711614, 0.24754387780296214, 0.28095773231346105, 0.28693892810496546, 0.3315089845966598, 1.6781134277603877, 1.547096832763258, 1.4429735571315012, 1.2612583306684828, 1.1602699236418876, 0.9014163745022599, 1.0334821229183973, 0.6553034241073379, 0.6967717167393126, 0.8545666510222433, 0.6950540669805888, 0.8158461236651532, 0.5523156970243316, 0.5077935633765556, 0.5321875493237238, 0.6134191324415113, 0.3277168247419261, 0.7711416959291616, 0.5720723723346144, 0.5832340444259574, 0.5975508999217064, 0.48157330484702876, 0.3623042812043505, 0.4622650767340491, 0.5255203118302071, 0.447716745274075, 0.4750907040174364, 0.2849514980690091, 0.44081155902609626, 0.4334330116295413, 0.7108115851444021, 0.31947926448212705, 0.44083543263127906, 0.5073531437379224, 0.4144127213080193, 0.3804528201535132, 0.4169694031244536, 0.7284216968081165, 0.6841063385734343, 0.6765981153512666, 0.8854553608538394, 0.5338523941977762, 0.6100449535300729, 0.3520037824405735, 0.4648384645480759, 0.46823131097090653, 0.6567997068275055, 0.41887647542571194, 0.29856480753519454, 0.40516332494320306, 0.47814260891890364, 0.38795994672389655, 0.3103160812563244, 0.7431571454519978, 0.4398864456719265, 0.7966095573146329, 0.26462762545507146, 0.4931083912760122, 0.4488586221827183, 0.5495777114117477, 0.49872042832973035, 0.5818060254507259, 0.4632054851655572, 0.2869245190621938, 0.37490711100616225, 0.6175777339467192, 0.4464648443067708, 0.6274775804235976, 0.5154764577073353, 0.47010843278114917, 0.42912046322322983, 0.9537805597953132, 0.36149568819082323, 0.3351984960131601, 0.350652262487012, 0.5476435615787125, 0.5193464173301383, 0.4419375752753072, 0.3564910423573673, 0.3690320078054131, 0.6229378287571389, 0.39627119078921413, 0.3986752555608791, 0.5534830474063785, 0.37892144140521444, 0.537824390566459, 0.36988184468954916, 0.34905820124985715, 0.4340785883868278, 0.6178694657295107, 0.6478092519115897, 0.4267930207385686, 0.32338959143785, 0.515351710323062, 0.409691979066733, 0.38009942751359604, 0.4471652775016431, 0.36237790195371156, 0.5980717897620599, 0.7162410804353889, 0.6482572877972943, 0.44361126994766387, 0.43629693388449226, 0.6027889474505935, 0.44735161842793164, 0.5917509426712473, 0.462341000271683, 0.399776336656529, 0.42886852607537307, 0.6655635864820072, 0.5326005261461978, 0.35528730604218395, 0.638577812516679, 0.38160643671781125, 0.31647148754687365, 0.4321272736826012, 0.40326706609991714, 0.4014055046958378, 0.47154361751131235, 0.4359348082464333, 0.3864740019055658, 0.37735123111099045, 0.32949781463543987, 0.39240168519451474, 0.5904742822689202, 0.32810721104872426, 0.44260219297757686, 0.4397147246291334, 0.3527156631509718, 0.6811670155199614, 0.37220306689972316, 0.5903737614407867, 0.3902195566775041, 0.40705791879656467, 0.5275066684814276, 0.41282820889523636, 0.6315730501536929, 0.3566565459743072, 0.34395781263527825, 0.4184221774407012, 0.5446578510903541, 0.356697070646787, 0.37915808996997946, 0.5397647465259523, 0.3498512837674851, 0.5666271873993285, 0.5449008839134475, 0.42303092502829087, 0.6105167609214789, 0.5611883283557095, 0.3144418172951657, 0.3336103454809837, 0.9009954264138995, 0.41925338292218617, 0.5082921400953591, 0.44001921979341363, 0.3309044412827461, 0.35463008554951037, 0.581115372713949, 0.47032194463151866, 0.3328250774501733, 0.2980726672991115, 0.5578744078153026, 0.3171072443253027, 0.39965761022729296, 0.4403057732044705, 0.39529754216559754, 0.4536691368992302, 0.40382771732814793, 0.3771368172182611, 0.31712718266888923, 0.33314642114837933, 0.29337498136105056, 0.45437183806341613, 0.39806709359133857, 0.4008518686736852, 0.6541082350917213, 0.3935888699776896, 0.43912568849668665, 0.3029714282125395, 0.4190981904062473, 0.38644049454457347, 0.4299681940812716, 0.5693361673855407, 0.5693785363478164, 0.45982896191161554, 0.5516561240297095, 0.39123985151010565, 0.4043956161740488, 0.3087491126109585, 0.41934098447568474, 0.3025421788793654, 0.46089165171526963, 0.37258118780402755, 0.5226999156150912, 0.44512783236388714, 0.3203695470327565, 0.3992637009856227, 0.39737027518647217, 0.4903573287326198, 1.5502733086687925, 1.6687358689883678, 0.6341913625869482, 0.4461130442873291, 0.5675704526152258, 0.45302855921695107, 1.0462904796369323, 0.814509211724456, 0.9795861159242895, 0.8649457208172245, 0.4747683697965339, 0.4602766243846903, 0.4172230941488858, 0.5079032228932476, 0.5493273102223205, 0.5183182320830415, 0.5177206288579926, 0.4721689623090878, 0.4255446767914223, 0.37173724934880464, 0.5347359420249123, 0.5702836991871333, 0.41382283286135757, 0.4659883031378012, 0.4575818170691182, 0.4848808037079849, 0.33548464923605703, 0.40577146817260873, 0.3352727925186685, 0.4453428423352479, 0.3680504757829139, 0.3973520898183321, 0.3618410319467677, 0.44026746103474623, 0.40847162488450134, 0.415948886255361, 0.4028143462479891, 0.36689661629609777, 0.3886397751824307, 0.36798124047088854, 0.37572297341456334, 0.3773890305720421, 0.3612496129290292, 0.33305505608594477, 0.35766901124847505, 0.3180247285552899, 0.28348464168750054, 0.26198507335467197, 0.24181872079372502, 0.2994901446578987, 0.4414916162792197, 0.3896140550960958, 0.3485416307480776, 0.3617807888218447, 0.3761617506430672, 0.3816983710757107, 0.33201203248610545, 0.3606895565513044, 0.3540117419396598, 0.29104429620133976, 0.3104164862752134, 0.33031459716045025, 0.3198790922927142, 0.32643884836911785, 0.27820517486281215, 0.3006823312647896, 0.2955490863925409, 0.2949179692120405, 0.28667072059377224, 0.2661020580396964, 0.3761873633535015, 0.22266984254823208, 0.3105311921492621, 0.3389416888345954, 0.360909335061707, 0.3675386094067681, 0.3026979714584932, 0.31814986324627226, 0.3213094610868479, 0.2892340398353299, 0.29336493868376207, 0.298308962523047, 0.2504543985168764, 0.2533118095966752, 0.29638372755090187, 0.3051189287199791, 0.23492968697541727, 0.3165413345548105, 0.28717028831098546, 0.4073558702752914, 0.32167835118824145, 0.21450366341410432, 0.30281522766272734, 0.367587441402418, 0.25058355100394836, 0.26474916405311666, 0.3747172886509089, 0.3303033814914802, 0.31911855313827175, 0.3817730106689592, 0.2845959282110923, 0.24648739087794053, 0.3043685176914418, 0.3150292817662918, 0.28980608624342064, 0.16691413355856105, 0.33632100188314495, 0.2591320165880944, 0.2506988341497374, 0.38799122574624084, 0.3092447247515441, 0.21168055062802915, 0.21163452465896276, 0.30681149924288836, 0.27701771718713436, 0.27333283835101535, 0.2765882276693467, 0.2760108298861778, 0.24954688512465492, 0.21607629438633616, 0.17725067985236875, 0.29679621495936503, 0.29665762451631156, 0.23253753203600247, 0.18243334608779874, 0.33223653139625225, 0.26906711608936146, 0.30737133838104785, 0.37735388307795614, 0.274139672171131, 0.24632821884761427, 0.299631864560175, 0.1950112153427384, 0.30537055801065494, 0.26325852631711805, 0.27335407238252757, 0.35946493727458906, 0.2863968676464131, 0.24100332471149272, 0.31138163429509025, 0.2997981555494786, 0.1955739320930019, 0.217363152686793, 0.280767787509434, 0.30515925588546555, 0.2658159629707514, 0.3667992635532986, 0.2656259664960264, 0.26112880697571406, 0.1978664017600159, 0.33343776652012136, 0.28879472385615707, 0.31193766467823303, 0.2740045725449404, 0.2258229416767777, 0.23968215832520295, 0.2964458176942581, 0.3007628540189561, 0.30800625699529616, 0.2772526674062506, 0.2764327419953799, 0.2784345516889307, 0.2784048375434963, 0.2994711054126008, 0.3002154777124521, 0.3287050009399177, 0.31656004888390793, 0.2931252527312209, 0.27536138339129534, 0.29211608890589275, 0.1838168700406061, 0.22513627393424418, 0.25775968458660753, 0.2835524151764254, 0.2362819777187558, 0.18944761287520484, 0.33950419124208636, 0.19607493881061958, 0.32645928611002095, 0.1938252724211722, 0.2921409200539791, 0.24824455649515084, 0.2372933674058672, 0.32468905115667623, 0.2543780192114755, 0.23336598918712873, 0.17526575803895594, 0.24858412672126934, 0.36417297422388106, 0.25250986417430116, 0.186805544052788, 0.3022055321435896, 0.15895929616330795, 0.2843998934917628, 0.2541550456455863, 0.2520638121580752, 0.2422242205578021, 0.27445284852401314, 0.2801443628321321, 0.3232199986435246, 1.6913807515186403, 1.559866035274056, 1.4572084528955713, 1.2722210184079603, 1.1698874083453081, 0.9094193552700202, 1.0429260073300746, 0.6620816485370961, 0.70396704674446, 0.8610871321998255, 0.7018512485096934, 0.8249271709175001, 0.5583324646928088, 0.5129372664072022, 0.5369321111242121, 0.6196542545616199, 0.3304188177344619, 0.780212347015655, 0.5785288779406658, 0.5896814714462617, 0.6034635978035685, 0.48685516333334367, 0.3659126893617979, 0.46741115468634975, 0.5312432125959514, 0.45262913579431063, 0.48027081628734786, 0.28793768227393474, 0.4461042576402878, 0.4385203955691444, 0.7193927599148686, 0.32286765662280414, 0.44569933071279094, 0.5131453453510418, 0.4187724473380735, 0.38469176227715596, 0.4213525836386713, 0.7369693083803274, 0.692412254627897, 0.6848275618626969, 0.8971856795754515, 0.5402178429284124, 0.6175940859425171, 0.35589516290129153, 0.4703306309691926, 0.4737562456203442, 0.6646100550323478, 0.42361920155130894, 0.3019892002522303, 0.4096185575939125, 0.4834421427979551, 0.3925245502500112, 0.3138271332664381, 0.7526333188384061, 0.4450552707365051, 0.8073634594203387, 0.267782947668458, 0.49862767829663995, 0.45388566890625615, 0.5562870932833607, 0.5043178328269312, 0.5890021385987312, 0.46837425211833794, 0.29024240214005537, 0.37909363666074314, 0.6251643038684964, 0.4515568687419791, 0.6354957158372962, 0.5213861623389019, 0.4755212961937144, 0.43399195300413873, 0.9664775607069146, 0.3655788401755467, 0.33901755384057625, 0.35451800495937713, 0.5542689691352153, 0.5255409450039304, 0.4469487494931942, 0.36038809428565943, 0.37320626936708956, 0.6308920468595529, 0.4007795981741885, 0.4033008693987819, 0.5601548416135211, 0.38317282860720037, 0.544178144779546, 0.3740896117363848, 0.3528499118534499, 0.439014611186886, 0.6255386639077061, 0.6560074899189838, 0.43158447901708274, 0.32707101709475483, 0.5213287203603517, 0.41425768644264555, 0.38438876100570507, 0.45246151882609714, 0.3664462532601235, 0.6056472055988285, 0.7254495850262563, 0.656533539678473, 0.44872739792159, 0.44116070430565046, 0.6103413678811016, 0.45243604582071695, 0.5989693532732581, 0.4675960868601102, 0.40430371547189503, 0.43379495872442997, 0.6738602248530685, 0.5388839681702239, 0.3591892593877333, 0.6464687335153891, 0.38588023011475603, 0.32003066131287383, 0.43712330502955454, 0.40774972137225696, 0.4058993818590658, 0.4770752606507685, 0.44098080724145094, 0.3908467449111903, 0.38148999460411015, 0.33314259980597666, 0.39679714693271484, 0.5978656380246938, 0.33174049032403874, 0.4476982886811175, 0.44469235450479094, 0.35657518789635145, 0.6899113910117964, 0.3763457633483971, 0.5975867994478892, 0.39457267704815646, 0.41165962216858554, 0.5338107907327668, 0.4174786762496744, 0.6396653046607407, 0.36050897877219107, 0.3476727607738358, 0.42309622492308274, 0.5512917729489243, 0.3606546820196316, 0.383419225519549, 0.5463223308934277, 0.3536925397529989, 0.57361305434413, 0.551440121997786, 0.42779151976396496, 0.6181132605717118, 0.5681559057504906, 0.317898957731865, 0.337268974694102, 0.9132503697302892, 0.4239907017656339, 0.5143825783686918, 0.44499872946655594, 0.33454888743569544, 0.35855876622534244, 0.5883123366748118, 0.4757305073764606, 0.3364479737288629, 0.30136979742323183, 0.5647036055056673, 0.3204796257314152, 0.4040946114894762, 0.44532543466252567, 0.39971025839833685, 0.45884117255406165, 0.40833088546202534, 0.3812614073496715, 0.32058332920425875, 0.33676054154818724, 0.29651713483276276, 0.45958132839679716, 0.4025324417279743, 0.40541323550441793, 0.6626612454594312, 0.3978882568761227, 0.44413622778045314, 0.3061951344761945, 0.42387018186846803, 0.39071552899314355, 0.43481878364004806, 0.5764246470831798, 0.5764251544208285, 0.4650568517354894, 0.558402460165746, 0.3955575079077478, 0.4089295255429791, 0.31201077628011525, 0.4240115846830459, 0.3057667298871984, 0.4661849071811918, 0.3766580164622415, 0.528899861609673, 0.4502368112625278, 0.32378438404244514, 0.40372909319402894, 0.4017360809781736, 0.4961457880869129, 1.545413620729562, 1.6664585845083173, 0.6278363474531007, 0.4408747315949223, 0.5612819792001849, 0.4474400686361796, 1.0406179913543028, 0.8085100324337167, 0.975662099462896, 0.861160610519987, 0.4682923902872769, 0.45378553900798957, 0.41106906848455466, 0.5013777195625945, 0.5428354012559153, 0.5121290078134618, 0.5116926087695786, 0.46632348984771976, 0.41951059731529117, 0.36566921344144526, 0.5287689603887816, 0.5652875888670593, 0.4075062903917878, 0.4601743902657019, 0.45257136338503035, 0.48121787181511916, 0.328920309718621, 0.39924985661837153, 0.3298364453233181, 0.43965068370155935, 0.3629016637891718, 0.3904299942109413, 0.3559780315699058, 0.4357447452482483, 0.40301631878626654, 0.4117320394626451, 0.3985210245147785, 0.36063330484728207, 0.38188988799928403, 0.36357004833257434, 0.3704239828807292, 0.3706438516467475, 0.3569596006372765, 0.3296993555325251, 0.35203814665292654, 0.314700537591272, 0.28127261188181524, 0.2600963147870709, 0.2400167686010006, 0.2954321359134775, 0.43158734792866305, 0.3821784095390252, 0.3427912910156317, 0.3554064687380579, 0.3691950480947452, 0.3744478780561611, 0.3268520337637368, 0.35428547919188647, 0.3478642813948583, 0.2873453184128171, 0.30586410629829347, 0.32503058659129097, 0.314922833446275, 0.32116448729191155, 0.27462619060666915, 0.2963513143294012, 0.2912653809318008, 0.2906060087570391, 0.28255157313650014, 0.26258558467131177, 0.36920428292885327, 0.22037225268473248, 0.3055919054154932, 0.33295846492645104, 0.3545550678309532, 0.3609548099097672, 0.29804448893707397, 0.3131004762450155, 0.3160980061417454, 0.2849992158770454, 0.2889550722418925, 0.29370132290050627, 0.24714606212686102, 0.24989878825117703, 0.29184321481958037, 0.3002920969795586, 0.23201504627570488, 0.3113247805815449, 0.2828500337968338, 0.39952176386331806, 0.31634934139484505, 0.2119553411560476, 0.29794339245415463, 0.3609115576817632, 0.24725469374841766, 0.2609557784020796, 0.36774253680540037, 0.32477443610681683, 0.3139127274582416, 0.37474742266323813, 0.2802983729058427, 0.24315365677536735, 0.2995413069355905, 0.30988219323555055, 0.2853082669009117, 0.1653787521646971, 0.33064737996444576, 0.25540474330524404, 0.2471799177070751, 0.3808002992705574, 0.30426865158878624, 0.20911114594369817, 0.20906095408337005, 0.3019388048919357, 0.27283208518822744, 0.2693053985554045, 0.27239033894441705, 0.2719412522888432, 0.24611904481282648, 0.21337417354920918, 0.17530564048224412, 0.2921104360567063, 0.2919824111366477, 0.2294397274081343, 0.18037349445485054, 0.3266811516140989, 0.2650893865786798, 0.3025160200749999, 0.3706250034319636, 0.2701118958428749, 0.24291729062657513, 0.2949029482552309, 0.19263976856991638, 0.3005270966923287, 0.2594770271535348, 0.2692911997380207, 0.3531591864559777, 0.28193260760611427, 0.23761892588993833, 0.306317228705272, 0.2950755028812668, 0.19324989571762174, 0.21456607893724414, 0.27648401502743886, 0.3002705444430366, 0.2618659623024365, 0.3604603273122678, 0.2616061622944815, 0.25728006146099414, 0.1954954475263119, 0.3277948986001441, 0.28438099334180655, 0.3068655140485622, 0.2698721601146764, 0.2227745365115341, 0.23635377525182688, 0.2917780589568822, 0.2959847539754989, 0.30311991135548305, 0.2731629800504895, 0.27225711554050613, 0.27423937870920334, 0.27421150652896975, 0.29475499547656214, 0.29546206984718193, 0.3233361731826923, 0.31144277475247356, 0.2885224848744885, 0.2712188431117597, 0.28756619570726805, 0.181713967465749, 0.2221221807632634, 0.25400954065351433, 0.27930019640262965, 0.23303641481571818, 0.18716931088067315, 0.33379911377863825, 0.19366603177308522, 0.32113539995443685, 0.1914143599945962, 0.28765103857171703, 0.24471309475959507, 0.23406738455331247, 0.3193757245181882, 0.2507281301603919, 0.23017772629747424, 0.17331456750185104, 0.24515232119670274, 0.35789989754447193, 0.248939617045469, 0.18458416276113826, 0.29755465032032186, 0.15726460276780546, 0.28016550111590727, 0.25051584360218837, 0.2485413552448938, 0.2388635933284689, 0.2703502788839038, 0.2758620441408341, 0.31800009059159645, 1.6999570850986523, 1.5681261277564458, 1.4664083996972332, 1.2793191855228059, 1.176121658542129, 0.9146064772098936, 1.0490444834993555, 0.6664694794410144, 0.7086242520545646, 0.8653204792670688, 0.7062512756245445, 0.8308004643635839, 0.5622222554672193, 0.5162627438062481, 0.5400025000684711, 0.6236861446685478, 0.3321668590820498, 0.7860749800163733, 0.5827002365899342, 0.5938471979939459, 0.6072862513891487, 0.4902656699503359, 0.3682425943797722, 0.4707331720207879, 0.5349390886256831, 0.45579993717475475, 0.4836149276712456, 0.2898658109396426, 0.4495191526517488, 0.44180272063020976, 0.7249357572997923, 0.3250544326722751, 0.44883812943843354, 0.5168840537337029, 0.4215860861507413, 0.3874261558251538, 0.42418127055929156, 0.7424907922572453, 0.6977762986928671, 0.6901418971343996, 0.9047622044513107, 0.5443260332653483, 0.6224675471767581, 0.35840580808494693, 0.4738738517729188, 0.4773206301023315, 0.6696531095712944, 0.42667858985511076, 0.3041991708101668, 0.4124925471671905, 0.48686167853196777, 0.3954681443988819, 0.31609206237621934, 0.7587528985769865, 0.44838930750422334, 0.8143086681022134, 0.26981990177178516, 0.5021889334652319, 0.45712855531967256, 0.5606171243297482, 0.507929408820989, 0.5936467919259911, 0.47170866939632405, 0.29238352229932496, 0.3817934846870562, 0.6300615999514823, 0.454841332007611, 0.6406719335758784, 0.5251991524659463, 0.4790129766981658, 0.43713389214248466, 0.9746771241408954, 0.36821202017430726, 0.34148038955128723, 0.35701100085544346, 0.558544583510789, 0.5295378621453548, 0.45018088387560234, 0.3629013403476609, 0.3758978946942738, 0.6360270158228789, 0.4036868702912967, 0.40628370383595525, 0.5644603263607699, 0.3859142817088109, 0.5482779466791569, 0.37680286434274207, 0.35529510561786254, 0.442198055704494, 0.6304890932059627, 0.6612999519788003, 0.4346745696638898, 0.32944512817746185, 0.5251847855863345, 0.41720198552279975, 0.38715465659890924, 0.45587771544056316, 0.3690695702591907, 0.6105371534429612, 0.7313948956889114, 0.6618763460849517, 0.4520271183123038, 0.44429740877444945, 0.6152160452881105, 0.4557152378792052, 0.6036277317645551, 0.4709854690332873, 0.40722333516008774, 0.436972153229638, 0.679215454714762, 0.5429377637244828, 0.3617057538945465, 0.6515616052752689, 0.3886363076656808, 0.32232647189537283, 0.4403455418782155, 0.4106403218212636, 0.4087972495174136, 0.48064349839706777, 0.44423529196280553, 0.393666526981678, 0.38415866545905997, 0.3354929484550501, 0.3996314560020745, 0.6026364274779897, 0.3340833998681502, 0.4509851107321842, 0.4479024590039802, 0.35906371788410096, 0.6955565463822293, 0.37901701060015, 0.6022415793408298, 0.3973796778946973, 0.4146271373546535, 0.5378781761057034, 0.4204775982728444, 0.6448893370486987, 0.36299296549503934, 0.3500681096048645, 0.426110210272538, 0.5555726123148084, 0.36320660066203103, 0.38616697348761997, 0.5505538145473063, 0.3561693594002383, 0.5781214637166615, 0.5556592672366453, 0.43086143738823457, 0.6230159454673052, 0.5726526445424344, 0.3201287606973608, 0.33962826308583577, 0.9211626277960426, 0.4270456981118739, 0.5183120827134153, 0.4482099918314612, 0.33689899872028894, 0.36109200613368964, 0.5929571620504241, 0.4792189058867856, 0.3387840800835892, 0.30349626819894215, 0.5691106839665923, 0.3226541240989166, 0.4069556006155393, 0.4485627803503959, 0.4025556872775574, 0.46217678547703694, 0.41123461509703296, 0.38392070636682973, 0.3228118745712122, 0.3390907249846696, 0.2985432388113707, 0.4629413315030615, 0.40541194668802744, 0.4083549819079536, 0.6681838436127376, 0.40066016919451464, 0.4473677031678033, 0.30827373070811004, 0.4269477675320462, 0.39347198246091586, 0.4379468100867721, 0.5809997677118554, 0.5809729206260877, 0.46842832814842916, 0.5627559078459242, 0.3983414148499437, 0.4118531707274589, 0.31411393482814554, 0.42702319482770534, 0.30784595673472975, 0.46959886324621225, 0.379286497515531, 0.5328996320454732, 0.4535319020096202, 0.3259860710440625, 0.40660853113146556, 0.40455087912207255, 0.49988003332868924, 1.542332587421347, 1.6650290737740143, 0.6238318119978853, 0.4375974819735593, 0.5573237095855381, 0.4439375343973352, 1.0370199326438814, 0.8047074451317248, 0.973176447150472, 0.8587636464510063, 0.464207987674312, 0.4496924813069536, 0.4071916469417126, 0.49725466519372535, 0.5387289359054153, 0.5082139375303955, 0.5078780826947384, 0.46262634629315846, 0.415699395172573, 0.36184383178102886, 0.5249893572422681, 0.5621204424933538, 0.40351525422678464, 0.4564934777761421, 0.44939571362368713, 0.47889365494485764, 0.32478163914102426, 0.3951273602595877, 0.32639947921129886, 0.4360448927922593, 0.359640746814229, 0.38605600774032667, 0.3522695292725732, 0.4328753142661965, 0.3995595613203032, 0.4090566382361923, 0.3957981261599793, 0.3566704635229996, 0.3776208374400486, 0.3607713924200954, 0.36706606030346545, 0.3663774541451007, 0.35423848722181855, 0.32756879282390233, 0.3484706949141358, 0.3125895323090551, 0.2798669912640265, 0.2588963579773082, 0.23887300159685318, 0.29285803969554075, 0.42533212797048425, 0.37747236857046385, 0.3391469016852223, 0.3513695064810302, 0.36478436956293636, 0.36985808050513524, 0.3235789876462914, 0.3502294273558227, 0.343970703180039, 0.284994371294741, 0.30297641070873205, 0.3216800148435371, 0.3117795053073853, 0.31782114364653014, 0.27235189665041604, 0.29360115599595943, 0.28854629397857817, 0.28786912643192125, 0.27993668265941507, 0.2603513055208828, 0.36478214847846413, 0.2189093535024385, 0.30245888367935725, 0.32916839130057735, 0.35052756246997135, 0.35678224659195684, 0.2950910157167132, 0.3098955306799238, 0.3127916360289418, 0.2823086251312975, 0.2861550363718402, 0.29077741480690333, 0.2450434967114374, 0.24772976905893468, 0.2889605196359581, 0.29722904892956314, 0.23016048163432995, 0.30801639313435936, 0.2801064494134331, 0.39456077011167967, 0.3129694047732233, 0.21033388605828826, 0.29485285836426356, 0.3566821514742465, 0.24513702936673043, 0.25854552789954555, 0.36332608330009025, 0.3212673722950472, 0.3106093296462434, 0.37029601891838143, 0.2775691160288876, 0.24103397338371338, 0.29647721088703965, 0.3066166172239889, 0.2824532281577638, 0.16439889309423095, 0.3270482234984358, 0.25303662964596246, 0.24494338476026845, 0.3762453395667691, 0.30111061965759717, 0.20747515674368305, 0.2074221850509628, 0.29884530805652215, 0.27017388672556636, 0.26674610172383656, 0.26972465700614756, 0.269354823978313, 0.2439384696246918, 0.21165382156628115, 0.17406625755198307, 0.28913597007343045, 0.2890145016957705, 0.22746877731531884, 0.17906097469450144, 0.3231569049334791, 0.26256193987251064, 0.2994328202238484, 0.36635965554980277, 0.2675515747523649, 0.24074787537613732, 0.29190068790752133, 0.19113013357266365, 0.2974520074633037, 0.2570726102074533, 0.266709498455181, 0.3491620034000347, 0.27909867073719874, 0.2354676587496367, 0.30310377697538055, 0.2920770582045347, 0.19176918821839514, 0.21278560130589835, 0.273763328716058, 0.29716775023789443, 0.25935661333894666, 0.35643983184653316, 0.2590537617731723, 0.2548348143083034, 0.193984708239251, 0.32421657476931504, 0.2815772451395797, 0.3036471220403996, 0.2672472646206113, 0.22083552515201507, 0.23423716787317694, 0.28881477644017106, 0.2929518335004737, 0.300017651313276, 0.2705634050378041, 0.26960467513638786, 0.27157418687239976, 0.27154745758183185, 0.29176079666648125, 0.2924445878940828, 0.3199285826061038, 0.30819483721224633, 0.28560052063544045, 0.26858721945880853, 0.2846772055483897, 0.18037325213255448, 0.22020457532590876, 0.25162624096580843, 0.2765980195155933, 0.23097206357450525, 0.18571795033608968, 0.3301803678770504, 0.19213177667347806, 0.317756613960553, 0.18987936350370463, 0.2847992051207217, 0.24246801475804824, 0.23201480691003434, 0.31600413246606796, 0.24840787369278475, 0.2281496223135372, 0.1720699724646793, 0.24296889835358698, 0.3539219328503928, 0.24666924959933687, 0.18316863771868852, 0.2946000405254998, 0.1561834036932335, 0.27747423558930634, 0.248202269295181, 0.24630072807456482, 0.23672609798685817, 0.26774366507418196, 0.273142430748478, 0.31468679933700083, 1.7054930560446966, 1.5734603626926444, 1.4723461546215753, 1.2839058292844783, 1.1801530060801002, 0.9179604710231288, 1.0529996526735947, 0.6693043889856616, 0.711632948456369, 0.8680607231203654, 0.7090940602093836, 0.8345929635272008, 0.564733277616421, 0.5184095248763387, 0.5419858392041047, 0.6262893018015321, 0.33329576815313633, 0.7898589656662909, 0.5853919048336648, 0.5965353340001729, 0.6097540164763813, 0.4924655691737478, 0.36974543262344056, 0.4728756535293712, 0.5373233160667716, 0.4578447465261633, 0.4857717167022632, 0.29110948368289474, 0.4517207947213051, 0.4439188547258166, 0.7285120920508631, 0.32646451315889136, 0.45086201739467113, 0.5192951194945405, 0.4234003946301109, 0.38918882272491884, 0.42600524818516444, 0.7460533319802687, 0.7012367015162031, 0.6935700977750363, 0.9096502697445656, 0.5469751556354057, 0.6256106979121092, 0.36002442999338957, 0.47615809161161293, 0.47961852452038517, 0.672906055453388, 0.4286507760466009, 0.30562420040796784, 0.4143452445899767, 0.4890664396604216, 0.3973653112552361, 0.3175521334223921, 0.7627006046243374, 0.45053845238553547, 0.8187891582453677, 0.271133627389976, 0.5044850404411141, 0.4592190779292554, 0.5634092487027997, 0.5102579258276587, 0.5966420001503064, 0.4738582448945311, 0.29376411482207554, 0.3835335921767208, 0.6332199958159598, 0.4569585154991524, 0.6440103406685245, 0.5276574908521224, 0.4812638458779404, 0.43915909014193105, 0.9799666031414367, 0.369909156134998, 0.34306772001988334, 0.35861779626821927, 0.5613015317296387, 0.5321148419977555, 0.4522642640299055, 0.36452121404844456, 0.37763257250421783, 0.6393388271339979, 0.4055606039641275, 0.4082061265602425, 0.5672365104932463, 0.38768111426254465, 0.5509213262823911, 0.3785514899421614, 0.3568710705274828, 0.4442499610345841, 0.6336816709592104, 0.664713328401187, 0.43666625589245134, 0.3309752900968099, 0.5276707514657382, 0.41909962015990226, 0.38893723124754215, 0.45807981527697894, 0.3707602213007418, 0.6136907409902289, 0.7352295971310289, 0.6653221815009193, 0.45415401771281255, 0.44631913312030186, 0.6183596116352018, 0.4578288742271506, 0.6066315235294888, 0.4731701819857162, 0.4091050769511793, 0.43902000191229495, 0.6826690067470361, 0.5455512167703115, 0.36332776018883084, 0.6548457670387076, 0.3904126406554389, 0.3238063926337278, 0.442422486487597, 0.4125032897001064, 0.4106649126720694, 0.48294369305774465, 0.4463330312434193, 0.39548387341633, 0.38587853015533174, 0.33700774366948444, 0.40145811591017677, 0.605713028414576, 0.3355933923444755, 0.45310370671518885, 0.44997147886031286, 0.3606674510062444, 0.6991974415197206, 0.3807385501271532, 0.6052429962467608, 0.3991887365337075, 0.4165397353617968, 0.5405004905599975, 0.42241042288409336, 0.6482585704193224, 0.3645937850297836, 0.3516118094685775, 0.42805268608256475, 0.5583328181140816, 0.36485124302909305, 0.38793786863895013, 0.5532821574451021, 0.3577655740316757, 0.5810285916573027, 0.5583794505626272, 0.43284001121147164, 0.6261773920804123, 0.5755522996012653, 0.32156605518996434, 0.34114882657679535, 0.9262659952169734, 0.4290146905734187, 0.5208454955996282, 0.45027973612431327, 0.3384136328376025, 0.3627245997817531, 0.5959523301042866, 0.4814674544398029, 0.34028964503240655, 0.3048669006123035, 0.5719523813437303, 0.32405550920553944, 0.4087994139258583, 0.4506494134827124, 0.40438951212661967, 0.46432675636071546, 0.4131060043028, 0.38563443564330174, 0.3242481025910734, 0.340592363696551, 0.29984901056463886, 0.4651071195754204, 0.4072677897813626, 0.4102510713228105, 0.6717460940455584, 0.4024464358498777, 0.44945055780159837, 0.30961329487897377, 0.4289314137702448, 0.39524838475312024, 0.43996286701234055, 0.5839501129137794, 0.5839054883700512, 0.47060135000336134, 0.5655629576394136, 0.40013549871216936, 0.4137374329173668, 0.3154693666116864, 0.4289640779411355, 0.30918596310530116, 0.4717993975359421, 0.380980356712467, 0.5354781896214954, 0.4556558124374789, 0.3274049014502163, 0.40846429218750746, 0.40636480801128916, 0.502287386051547, 1.540368437437312, 1.6641236796668157, 0.6212891128302006, 0.4355263331391533, 0.5548121767642237, 0.44172141858198144, 1.034725475601117, 0.8022836775372479, 0.9715927307985364, 0.8572367304592039, 0.4616130289394321, 0.4470923805734143, 0.4047298054833824, 0.49463206706047663, 0.5361149653748846, 0.5057217669880592, 0.5054493198229912, 0.4602730931593541, 0.41327570610212916, 0.3594141252452475, 0.5225812874569161, 0.5601015326998542, 0.40097660426211884, 0.454148999998499, 0.4473716285995908, 0.4774111496516606, 0.322152763117185, 0.3925042997471661, 0.3242124086659237, 0.4337474411051263, 0.3575633219185532, 0.3832736109614043, 0.34990891600973784, 0.4310451898971086, 0.3973566479974365, 0.40735025387580504, 0.39406187293772377, 0.35414747900694055, 0.3749035789400261, 0.3589864195522418, 0.36492604027820746, 0.36366174837301496, 0.3525032428858811, 0.32620928115157755, 0.3461974622673635, 0.3112423155503782, 0.2789695710818348, 0.2581303439602643, 0.23814329260669523, 0.291216492296921, 0.4213543314736067, 0.3744756042918944, 0.3368241241524204, 0.3487977105438721, 0.361975093676376, 0.36693494852570785, 0.32149173183551677, 0.34764536769805543, 0.3414901279706378, 0.2834932283906023, 0.30113486757235197, 0.3195437872216532, 0.3097751697073561, 0.3156899814433103, 0.2708998608413536, 0.2918461343350162, 0.2868115258061611, 0.2861230624965414, 0.278268286324996, 0.2589249393200337, 0.36196511841892093, 0.21797416708264805, 0.3004609300283004, 0.32675354094878994, 0.3479604451200416, 0.3541228462808475, 0.2932068436752039, 0.307850848530857, 0.3106828423561643, 0.2805909908182024, 0.28436826288029904, 0.2889122975315329, 0.24370099771587816, 0.24634487036072528, 0.28712112012625207, 0.29527515684125083, 0.22897542005610189, 0.3059068138898762, 0.278355514463785, 0.39140049694446755, 0.3108141073610639, 0.20929779349775446, 0.29288187479409566, 0.35398714279318233, 0.24378403799895337, 0.2570068076878906, 0.3605128331611788, 0.31903087730299673, 0.30850218233421933, 0.36745936891391684, 0.2758272877096011, 0.23968014067769788, 0.29452231558650177, 0.30453382174064597, 0.28063170206679156, 0.16377155950861047, 0.3247528673376904, 0.2515248632885611, 0.24351528900859257, 0.3733431938606475, 0.29909602149753234, 0.20642931401121353, 0.20637451231800724, 0.2968714365291589, 0.2684773995091847, 0.26511209053468254, 0.2680235177909539, 0.26770334424086556, 0.2425453086605463, 0.21055410527931132, 0.17327356561485716, 0.28723819902927106, 0.2871208520204396, 0.22620941284684715, 0.17822151439575903, 0.3209092812564654, 0.26094837147518796, 0.2974652177481339, 0.363640770664645, 0.26591657657999007, 0.23936201037477686, 0.2899850142870585, 0.19016519322813222, 0.29548981977397804, 0.2555369053479532, 0.26506122948733163, 0.3466140319656871, 0.2772905229509912, 0.2340939119029668, 0.30105408781680604, 0.2901637530801474, 0.19082222122040438, 0.21164758571528322, 0.2720268942941566, 0.29518830476062424, 0.2577547957122535, 0.3538760650128816, 0.2574249949658649, 0.2532738241097991, 0.19301847838821096, 0.321935047644825, 0.2797875822418479, 0.3015942710713112, 0.26557182739889307, 0.21959677959019283, 0.23288516541211973, 0.2869240351698439, 0.2910168285163175, 0.29803814836291787, 0.2689033808552027, 0.26791161708881417, 0.2698728516403711, 0.2698468407189853, 0.289850238328158, 0.29051933612659325, 0.3177546618616473, 0.3061227653972814, 0.2837361670955497, 0.2669073663928851, 0.28283364758157564, 0.17951544714593445, 0.21897933187352672, 0.2501045093657658, 0.27487276932849847, 0.22965327077075512, 0.18478983971889623, 0.3278726687139212, 0.19115078254708798, 0.31560118528600845, 0.18889811590719296, 0.28297896842345716, 0.24103422421575804, 0.23070325559202332, 0.31385349486462066, 0.24692611893153563, 0.22685390391977148, 0.17127341717563566, 0.2415737863817698, 0.35138559872228076, 0.24521905060899551, 0.18226326799089648, 0.29271399483130056, 0.15549133475269275, 0.275755781476707, 0.24672473563174893, 0.24486925871616455, 0.23536059488119232, 0.26607961929105833, 0.271406742074645, 0.31257294866451624]\n"
     ]
    },
    {
     "data": {
      "image/png": "[encoded data removed]",
      "text/plain": [
       "<Figure size 864x360 with 1 Axes>"
      ]
     },
     "metadata": {},
     "output_type": "display_data"
    }
   ],
   "source": [
    "C1 = np.array([[0., -0.8], [1.5, 0.8]])\n",
    "C2 = np.array([[1., -0.7], [2., 0.7]])\n",
    "gauss1 = np.dot(np.random.randn(200, 2) + np.array([5, 3]), C1)\n",
    "gauss2 = np.dot(np.random.randn(200, 2) + np.array([1.5, 0]), C2)\n",
    "\n",
    "X = np.vstack([gauss1, gauss2])\n",
    "y = np.r_[np.ones(200), np.zeros(200)]\n",
    "\n",
    "#X_norm = preprocessing.scale(X)\n",
    "X_norm = X\n",
    "\n",
    "clf_test_log = MySGDClassifier(batch_generator=batch_generator, model_type = 'log_reg', alpha=0.01, max_epoch = 10).fit(X_norm,y, batch_size_arg=1)\n",
    "\n",
    "loss = clf_test_log.errors_log['loss']\n",
    "plt.plot(np.arange(len(loss)), loss)\n",
    "print (loss)"
   ]
  },
  {
   "cell_type": "code",
   "execution_count": 38,
   "metadata": {},
   "outputs": [
    {
     "data": {
      "text/plain": [
       "array([0., 0., 0., 0., 0., 0., 0., 0., 0., 0., 0., 0., 0., 0., 0., 0., 0.,\n",
       "       0., 0., 0., 0., 0., 0., 0., 0., 0., 0., 0., 0., 0., 0., 0., 0., 0.,\n",
       "       0., 0., 0., 0., 0., 0., 0., 0., 0., 0., 0., 0., 0., 0., 0., 0., 0.,\n",
       "       0., 0., 0., 0., 0., 0., 0., 0., 0., 0., 0., 0., 0., 0., 0., 0., 0.,\n",
       "       0., 0., 0., 0., 0., 0., 0., 0., 0., 0., 0., 0., 0., 0., 0., 0., 0.,\n",
       "       0., 0., 0., 0., 0., 0., 0., 0., 0., 0., 0., 0., 0., 0., 0., 0., 0.,\n",
       "       0., 0., 0., 0., 0., 0., 0., 0., 0., 0., 0., 0., 0., 0., 0., 0., 0.,\n",
       "       0., 0., 0., 0., 0., 0., 0., 0., 0., 0., 0., 0., 0., 0., 0., 0., 0.,\n",
       "       0., 0., 0., 0., 0., 0., 0., 0., 0., 0., 0., 0., 0., 0., 0., 0., 0.,\n",
       "       0., 0., 0., 0., 0., 0., 0., 0., 0., 0., 0., 0., 0., 0., 0., 0., 0.,\n",
       "       0., 0., 0., 0., 0., 0., 0., 0., 0., 0., 0., 0., 0., 0., 0., 0., 0.,\n",
       "       0., 0., 0., 0., 0., 0., 0., 0., 0., 0., 0., 0., 0., 0., 0., 0., 0.,\n",
       "       0., 0., 0., 0., 0., 0., 0., 0., 0., 0., 0., 0., 0., 0., 0., 0., 0.,\n",
       "       0., 0., 0., 0., 0., 0., 0., 0., 0., 0., 0., 0., 0., 0., 0., 0., 0.,\n",
       "       0., 0., 0., 0., 0., 0., 0., 0., 0., 0., 0., 0., 0., 0., 0., 0., 0.,\n",
       "       0., 0., 0., 0., 0., 0., 0., 0., 0., 0., 0., 0., 0., 0., 0., 0., 0.,\n",
       "       0., 0., 0., 0., 0., 0., 0., 0., 0., 0., 0., 0., 0., 0., 0., 0., 0.,\n",
       "       0., 0., 0., 0., 0., 0., 0., 0., 0., 0., 0., 0., 0., 0., 0., 0., 0.,\n",
       "       0., 0., 0., 0., 0., 0., 0., 0., 0., 0., 0., 0., 0., 0., 0., 0., 0.,\n",
       "       0., 0., 0., 0., 0., 0., 0., 0., 0., 0., 0., 0., 0., 0., 0., 0., 0.,\n",
       "       0., 0., 0., 0., 0., 0., 0., 0., 0., 0., 0., 0., 0., 0., 0., 0., 0.,\n",
       "       0., 0., 0., 0., 0., 0., 0., 0., 0., 0., 0., 0., 0., 0., 0., 0., 0.,\n",
       "       0., 0., 0., 0., 0., 0., 0., 0., 0., 0., 0., 0., 0., 0., 0., 0., 0.,\n",
       "       0., 0., 0., 0., 0., 0., 0., 0., 0.])"
      ]
     },
     "execution_count": 38,
     "metadata": {},
     "output_type": "execute_result"
    }
   ],
   "source": [
    "clf_test_log.predict(X)"
   ]
  },
  {
   "cell_type": "code",
   "execution_count": 40,
   "metadata": {},
   "outputs": [
    {
     "data": {
      "text/plain": [
       "array([-0., -0., -0., -0., -0., -0., -0., -0., -0., -0.,  0., -0., -0.,\n",
       "       -0., -0., -0., -0., -0., -0., -0., -0.,  0., -0.,  0.,  0., -0.,\n",
       "       -0., -0., -0., -0., -0., -0., -0.,  0., -0., -0., -0., -0., -0.,\n",
       "       -0.,  0., -0., -0., -0.,  0., -0., -0., -0., -0., -0., -0.,  0.,\n",
       "        0., -0., -0., -0.,  0., -0., -0., -0., -0., -0., -0., -0., -0.,\n",
       "       -0., -0., -0., -0., -0.,  0., -0., -0.,  0.,  0., -0., -0., -0.,\n",
       "       -0., -0., -0., -0.,  0., -0., -0., -0., -0.,  0., -0., -0., -0.,\n",
       "       -0., -0.,  0.,  0.,  0., -0., -0., -0., -0., -0., -0., -0., -0.,\n",
       "       -0., -0., -0., -0., -0., -0., -0., -0.,  0., -0., -0.,  0., -0.,\n",
       "        0., -0., -0., -0., -0., -0., -0., -0., -0., -0., -0., -0.,  0.,\n",
       "       -0., -0.,  0., -0., -0., -0., -0., -0., -0.,  0., -0.,  0., -0.,\n",
       "        0., -0., -0., -0., -0., -0., -0.,  0., -0., -0., -0., -0., -0.,\n",
       "       -0., -0., -0., -0., -0., -0., -0., -0., -0., -0., -0.,  0.,  0.,\n",
       "        0., -0., -0., -0., -0., -0., -0., -0., -0.,  0., -0., -0., -0.,\n",
       "       -0., -0., -0., -0., -0., -0., -0., -0.,  0.,  0., -0., -0., -0.,\n",
       "       -0., -0., -0., -0., -0.,  0., -0.,  0., -0.,  0.,  0.,  0., -0.,\n",
       "        0., -0., -0.,  0.,  0.,  0.,  0.,  0., -0.,  0., -0., -0.,  0.,\n",
       "        0., -0.,  0.,  0.,  0.,  0.,  0.,  0.,  0.,  0.,  0.,  0.,  0.,\n",
       "        0.,  0.,  0., -0., -0., -0., -0.,  0.,  0., -0.,  0.,  0., -0.,\n",
       "       -0.,  0.,  0.,  0., -0.,  0.,  0.,  0., -0.,  0.,  0.,  0.,  0.,\n",
       "        0.,  0.,  0., -0.,  0.,  0., -0.,  0.,  0.,  0.,  0.,  0.,  0.,\n",
       "       -0., -0.,  0., -0.,  0.,  0.,  0., -0.,  0.,  0.,  0.,  0.,  0.,\n",
       "        0.,  0.,  0.,  0.,  0.,  0.,  0.,  0.,  0.,  0.,  0.,  0.,  0.,\n",
       "        0.,  0.,  0.,  0.,  0.,  0.,  0.,  0.,  0.,  0., -0.,  0.,  0.,\n",
       "        0.,  0.,  0.,  0.,  0.,  0.,  0., -0.,  0., -0.,  0., -0.,  0.,\n",
       "        0.,  0.,  0.,  0.,  0.,  0.,  0.,  0.,  0.,  0.,  0.,  0.,  0.,\n",
       "        0., -0.,  0., -0.,  0., -0.,  0.,  0.,  0.,  0.,  0.,  0.,  0.,\n",
       "        0.,  0., -0., -0.,  0.,  0., -0.,  0., -0.,  0.,  0.,  0.,  0.,\n",
       "       -0.,  0.,  0., -0.,  0.,  0.,  0., -0.,  0.,  0.,  0.,  0.,  0.,\n",
       "        0.,  0.,  0.,  0.,  0.,  0.,  0., -0.,  0.,  0.,  0.,  0.,  0.,\n",
       "       -0.,  0.,  0.,  0.,  0.,  0.,  0.,  0.,  0.,  0.])"
      ]
     },
     "execution_count": 40,
     "metadata": {},
     "output_type": "execute_result"
    }
   ],
   "source": [
    "clf_test.predict(X)"
   ]
  },
  {
   "cell_type": "code",
   "execution_count": 31,
   "metadata": {},
   "outputs": [
    {
     "data": {
      "text/plain": [
       "0.11210225683933199"
      ]
     },
     "execution_count": 31,
     "metadata": {},
     "output_type": "execute_result"
    }
   ],
   "source": [
    "from sklearn.linear_model import SGDRegressor\n",
    "clf_sk_sgd_test = SGDRegressor(alpha = 0.0, penalty = None, max_iter = 10, learning_rate = 'constant', eta0 =0.01).fit(X,y)\n",
    "np.mean((y-clf_sk_sgd_test.predict(X))**2)"
   ]
  },
  {
   "cell_type": "code",
   "execution_count": 32,
   "metadata": {},
   "outputs": [
    {
     "data": {
      "text/plain": [
       "array([ 1.15193849,  0.81655203,  1.04422033,  0.9363358 ,  0.58410669,\n",
       "        0.8331443 ,  0.96155941,  1.08719053,  0.90334982,  0.72777909,\n",
       "        0.8594    ,  0.67592099,  0.78375176,  1.10863913,  1.03124299,\n",
       "        0.99936129,  0.85881852,  0.94482247,  0.6976793 ,  0.96178438,\n",
       "        0.86526537,  1.20178649,  0.90715242,  0.93167879,  0.74486739,\n",
       "        0.3511724 ,  0.68583592,  0.65882085,  0.56532615,  0.77801202,\n",
       "        1.0572971 ,  0.87224024,  0.80624131,  0.86930259,  0.72048277,\n",
       "        0.97486536,  0.74458649,  0.87671226,  0.74926035,  0.70980408,\n",
       "        0.9840842 ,  0.85082424,  0.66165229,  0.96134604,  0.83214029,\n",
       "        0.7998129 ,  0.99132358,  0.81236257,  0.58905798,  1.23342726,\n",
       "        0.56941088,  0.9348744 ,  0.88677213,  0.67335999,  1.12888285,\n",
       "        0.60759268,  0.84185619,  0.75218754,  0.82812019,  0.90227001,\n",
       "        0.76806972,  1.08712189,  1.07376555,  0.79365715,  1.0474612 ,\n",
       "        1.08838013,  0.78710481,  0.73679736,  0.84986553,  0.68833448,\n",
       "        1.03236289,  1.17953526,  0.87120816,  1.03024971,  0.92983658,\n",
       "        0.73236948,  1.04480691,  0.96524342,  0.92522226,  1.11712703,\n",
       "        0.88532337,  0.9801742 ,  0.77534071,  1.00058227,  1.03929025,\n",
       "        0.84195531,  1.01831366,  1.15053231,  0.71983228,  0.8037902 ,\n",
       "        0.90404863,  0.89711128,  0.75053667,  0.8600922 ,  1.05174127,\n",
       "        0.94544129,  0.7553858 ,  0.94215714,  0.83718311,  0.64763971,\n",
       "        1.02655095,  0.80281694,  0.91387275,  0.78490714,  0.87346569,\n",
       "        0.85022029,  1.02360328,  0.65545143,  0.74731861,  0.90260711,\n",
       "        1.08211486,  0.69746509,  1.06012815,  0.59958451,  0.99045653,\n",
       "        0.7534921 ,  0.7676693 ,  1.0730214 ,  1.08314609,  0.76685538,\n",
       "        1.14991391,  1.05441619,  1.12300525,  0.87590395,  0.78996424,\n",
       "        0.66778856,  0.92814781,  1.37669504,  0.75925252,  0.75442134,\n",
       "        0.78371451,  0.88740721,  0.90931485,  0.87222248,  0.94162288,\n",
       "        0.57133419,  0.72396427,  0.95679854,  0.86332037,  0.75352035,\n",
       "        0.76893716,  0.86708574,  0.72627691,  0.62006708,  0.97150123,\n",
       "        0.70116524,  0.53709729,  1.19100437,  0.96968965,  0.97356542,\n",
       "        0.68329541,  1.03879576,  0.74369777,  0.94887937,  1.10400712,\n",
       "        0.9615024 ,  0.8391101 ,  1.41458611,  0.86698363,  1.05369523,\n",
       "        1.07276077,  0.6470139 ,  1.04605369,  0.9940546 ,  0.63817528,\n",
       "        0.68365722,  1.0369982 ,  0.81593946,  0.90127833,  1.09445994,\n",
       "        0.51433595,  0.99616353,  0.95695804,  0.82154426,  1.03564202,\n",
       "        0.71977195,  0.9395946 ,  1.02122409,  0.89522785,  0.9831747 ,\n",
       "        0.91417351,  1.06757771,  1.02025778,  1.15066669,  0.91198172,\n",
       "        0.78841685,  0.97010628,  1.14064496,  0.94825597,  0.84911006,\n",
       "        1.15912434,  0.78144175,  0.54616235,  0.9928049 ,  0.97470725,\n",
       "        0.91571015,  0.78778124,  1.17122199,  0.81069356,  0.59506884,\n",
       "       -0.38336609,  0.86143987, -0.31447378,  0.35613528,  0.76832009,\n",
       "        0.49882783,  0.48501873,  0.13925193,  0.5938966 , -0.19576027,\n",
       "        0.2588043 ,  0.72099917,  0.35716563,  0.33216996,  0.08891085,\n",
       "        0.66463848,  0.35496728, -0.47726311,  0.59282995, -0.11453013,\n",
       "        0.98276423,  0.48161663,  0.49381969,  0.40980617, -0.15871901,\n",
       "        0.07594933,  0.68920892, -0.08276536, -0.35960282, -0.00304618,\n",
       "        0.03274427,  0.53873354,  0.48077546,  0.20844912,  0.19563329,\n",
       "       -0.11151351,  0.59181836,  0.49153166, -0.26088836, -0.03500677,\n",
       "        0.12711943,  0.64830901, -0.19619344,  0.31583278,  0.58932739,\n",
       "        0.24784583,  0.12754782,  0.63886128,  0.38100434, -0.06393248,\n",
       "       -0.26252767,  0.33024274, -0.28503449,  0.04980172,  0.35281211,\n",
       "        0.32897475,  0.11662464,  0.14256418, -0.08467003, -0.00849549,\n",
       "        0.02680874,  0.13144432, -0.02326269,  0.65011288,  0.67149935,\n",
       "        0.34657612,  0.31709177, -0.08121248,  0.09432066,  0.22216303,\n",
       "       -0.04493788,  0.32801428,  0.36836846,  0.22111665,  0.60361663,\n",
       "        0.48437533,  0.85806277,  0.70716613,  0.05891649, -0.42456548,\n",
       "        0.62430725,  0.19426148, -0.22946603,  0.19247138,  0.58081057,\n",
       "        0.53885397,  0.67953731,  0.25291444, -0.20767148,  0.11461044,\n",
       "        0.60521252,  0.80710175,  0.59985857,  0.15985922,  0.30033426,\n",
       "        0.28864395,  0.50450616,  0.06790423, -0.07636636,  0.4120205 ,\n",
       "        0.28465312,  0.21773491,  0.01564722,  0.70285256,  0.95978007,\n",
       "       -0.05732481,  0.02272222, -0.20674835,  0.49218576, -0.81157543,\n",
       "       -0.1406164 ,  0.56533389,  0.38358728,  0.53218628, -0.17889674,\n",
       "       -0.02038249, -0.05995359,  0.2928256 ,  0.27668472,  0.61098274,\n",
       "        0.11884119,  0.64612316,  0.55975867, -0.47661409,  0.88870798,\n",
       "        0.45044307,  0.48587928,  0.11481242, -0.23275358, -0.35726162,\n",
       "        0.9348572 , -0.00282207,  0.16945683,  0.42806377,  0.31302259,\n",
       "        0.4758918 ,  0.28719407,  0.18970256,  0.13334522,  0.45879087,\n",
       "        0.27037416, -0.02414624,  0.47709767,  0.83929788,  1.03098154,\n",
       "       -0.1820881 ,  0.17970955, -0.14098579,  0.14088505, -0.08750407,\n",
       "        0.24082608,  0.25034547,  0.09373458,  0.32722503,  0.38543973,\n",
       "        0.24062421, -0.43631824,  0.55210484,  0.27434621,  0.251934  ,\n",
       "        0.59351009,  0.55210564,  0.69222864,  0.48802027, -0.21049264,\n",
       "       -0.05789271, -0.05221606, -0.04517096, -0.32587652,  0.72965775,\n",
       "        0.52602016,  0.17764018,  0.31861212,  0.19429178,  0.34836124,\n",
       "        0.35815707,  0.56582053,  0.61799296,  0.29461003,  0.09442756,\n",
       "        0.61708116,  0.10713353,  0.23332032,  0.26140141,  0.35734638,\n",
       "       -0.02927486, -0.48570134,  0.96731792,  0.49209398, -0.11405748,\n",
       "        0.61734863, -0.06785032,  0.05838633,  0.6350211 ,  0.64567101,\n",
       "       -0.08386437,  0.54700193,  0.72215942,  0.24932241, -0.25848011])"
      ]
     },
     "execution_count": 32,
     "metadata": {},
     "output_type": "execute_result"
    }
   ],
   "source": [
    "clf_sk_sgd_test.predict(X)"
   ]
  },
  {
   "cell_type": "code",
   "execution_count": 33,
   "metadata": {},
   "outputs": [
    {
     "data": {
      "text/plain": [
       "array([ 1.,  1.,  1.,  1.,  1.,  1.,  1.,  1.,  1.,  1.,  1.,  1.,  1.,\n",
       "        1.,  1.,  1.,  1.,  1.,  1.,  1.,  1.,  1.,  1.,  1.,  1.,  0.,\n",
       "        1.,  1.,  1.,  1.,  1.,  1.,  1.,  1.,  1.,  1.,  1.,  1.,  1.,\n",
       "        1.,  1.,  1.,  1.,  1.,  1.,  1.,  1.,  1.,  1.,  1.,  1.,  1.,\n",
       "        1.,  1.,  1.,  1.,  1.,  1.,  1.,  1.,  1.,  1.,  1.,  1.,  1.,\n",
       "        1.,  1.,  1.,  1.,  1.,  1.,  1.,  1.,  1.,  1.,  1.,  1.,  1.,\n",
       "        1.,  1.,  1.,  1.,  1.,  1.,  1.,  1.,  1.,  1.,  1.,  1.,  1.,\n",
       "        1.,  1.,  1.,  1.,  1.,  1.,  1.,  1.,  1.,  1.,  1.,  1.,  1.,\n",
       "        1.,  1.,  1.,  1.,  1.,  1.,  1.,  1.,  1.,  1.,  1.,  1.,  1.,\n",
       "        1.,  1.,  1.,  1.,  1.,  1.,  1.,  1.,  1.,  1.,  1.,  1.,  1.,\n",
       "        1.,  1.,  1.,  1.,  1.,  1.,  1.,  1.,  1.,  1.,  1.,  1.,  1.,\n",
       "        1.,  1.,  1.,  1.,  1.,  1.,  1.,  1.,  1.,  1.,  1.,  1.,  1.,\n",
       "        1.,  1.,  1.,  1.,  1.,  1.,  1.,  1.,  1.,  1.,  1.,  1.,  1.,\n",
       "        1.,  1.,  1.,  1.,  1.,  1.,  1.,  1.,  1.,  1.,  1.,  1.,  1.,\n",
       "        1.,  1.,  1.,  1.,  1.,  1.,  1.,  1.,  1.,  1.,  1.,  1.,  1.,\n",
       "        1.,  1.,  1.,  1.,  1., -0.,  1., -0.,  0.,  1.,  0.,  0.,  0.,\n",
       "        1., -0.,  0.,  1.,  0.,  0.,  0.,  1.,  0., -0.,  1., -0.,  1.,\n",
       "        0.,  0.,  0., -0.,  0.,  1., -0., -0., -0.,  0.,  1.,  0.,  0.,\n",
       "        0., -0.,  1.,  0., -0., -0.,  0.,  1., -0.,  0.,  1.,  0.,  0.,\n",
       "        1.,  0., -0., -0.,  0., -0.,  0.,  0.,  0.,  0.,  0., -0., -0.,\n",
       "        0.,  0., -0.,  1.,  1.,  0.,  0., -0.,  0.,  0., -0.,  0.,  0.,\n",
       "        0.,  1.,  0.,  1.,  1.,  0., -0.,  1.,  0., -0.,  0.,  1.,  1.,\n",
       "        1.,  0., -0.,  0.,  1.,  1.,  1.,  0.,  0.,  0.,  1.,  0., -0.,\n",
       "        0.,  0.,  0.,  0.,  1.,  1., -0.,  0., -0.,  0., -1., -0.,  1.,\n",
       "        0.,  1., -0., -0., -0.,  0.,  0.,  1.,  0.,  1.,  1., -0.,  1.,\n",
       "        0.,  0.,  0., -0., -0.,  1., -0.,  0.,  0.,  0.,  0.,  0.,  0.,\n",
       "        0.,  0.,  0., -0.,  0.,  1.,  1., -0.,  0., -0.,  0., -0.,  0.,\n",
       "        0.,  0.,  0.,  0.,  0., -0.,  1.,  0.,  0.,  1.,  1.,  1.,  0.,\n",
       "       -0., -0., -0., -0., -0.,  1.,  1.,  0.,  0.,  0.,  0.,  0.,  1.,\n",
       "        1.,  0.,  0.,  1.,  0.,  0.,  0.,  0., -0., -0.,  1.,  0., -0.,\n",
       "        1., -0.,  0.,  1.,  1., -0.,  1.,  1.,  0., -0.])"
      ]
     },
     "execution_count": 33,
     "metadata": {},
     "output_type": "execute_result"
    }
   ],
   "source": [
    "np.round(clf_sk_sgd_test.predict(X))"
   ]
  },
  {
   "cell_type": "code",
   "execution_count": 29,
   "metadata": {},
   "outputs": [
    {
     "data": {
      "text/plain": [
       "0.10857044192641498"
      ]
     },
     "execution_count": 29,
     "metadata": {},
     "output_type": "execute_result"
    }
   ],
   "source": [
    "from sklearn.linear_model import LinearRegression\n",
    "clf_sk_test = LinearRegression().fit(X,y)\n",
    "np.mean((y-clf_sk_test.predict(X))**2)"
   ]
  },
  {
   "cell_type": "code",
   "execution_count": 31,
   "metadata": {},
   "outputs": [
    {
     "data": {
      "text/plain": [
       "array([ 1.,  1.,  1.,  1.,  1.,  1.,  1.,  1.,  1.,  1.,  0.,  1.,  1.,\n",
       "        1.,  1.,  1.,  1.,  1.,  1.,  1.,  1.,  1.,  1.,  1.,  1.,  1.,\n",
       "        1.,  1.,  1.,  1.,  1.,  1.,  1.,  1.,  1.,  1.,  1.,  1.,  1.,\n",
       "        1.,  1.,  1.,  1.,  1.,  1.,  1.,  1.,  1.,  1.,  1.,  1.,  1.,\n",
       "        1.,  1.,  1.,  1.,  1.,  1.,  1.,  1.,  1.,  1.,  1.,  1.,  1.,\n",
       "        1.,  1.,  1.,  1.,  1.,  1.,  1.,  1.,  1.,  1.,  1.,  1.,  1.,\n",
       "        1.,  1.,  1.,  1.,  1.,  1.,  1.,  1.,  1.,  1.,  1.,  1.,  1.,\n",
       "        1.,  1.,  1.,  1.,  1.,  1.,  1.,  1.,  1.,  1.,  1.,  1.,  1.,\n",
       "        1.,  1.,  1.,  1.,  1.,  1.,  1.,  1.,  1.,  1.,  1.,  1.,  1.,\n",
       "        1.,  1.,  1.,  1.,  1.,  1.,  1.,  1.,  1.,  1.,  1.,  1.,  1.,\n",
       "        1.,  1.,  1.,  1.,  1.,  1.,  1.,  1.,  1.,  1.,  1.,  1.,  1.,\n",
       "        1.,  1.,  1.,  1.,  1.,  1.,  1.,  1.,  1.,  1.,  1.,  1.,  1.,\n",
       "        1.,  1.,  1.,  1.,  1.,  1.,  1.,  1.,  1.,  1.,  1.,  0.,  1.,\n",
       "        1.,  1.,  1.,  1.,  1.,  1.,  1.,  1.,  1.,  1.,  1.,  1.,  1.,\n",
       "        1.,  1.,  1.,  1.,  1.,  1.,  1.,  1.,  1.,  0.,  1.,  1.,  1.,\n",
       "        1.,  1.,  1.,  1.,  1., -0.,  1., -0.,  0.,  0.,  0.,  0.,  1.,\n",
       "        0.,  1.,  1., -0.,  0.,  0.,  0., -0.,  1.,  0.,  0.,  0., -0.,\n",
       "        0.,  0.,  0.,  0.,  0.,  0.,  1., -0.,  0., -0.,  0.,  1., -0.,\n",
       "       -0., -0.,  0.,  1.,  0.,  1.,  1., -0.,  0.,  1.,  0., -0.,  1.,\n",
       "        1.,  0., -0.,  0.,  1.,  0., -0.,  0.,  1., -0.,  0.,  1.,  1.,\n",
       "        0., -0.,  0.,  1., -0., -0.,  1., -0.,  0.,  0.,  0.,  0.,  0.,\n",
       "        0.,  0.,  0.,  0.,  0., -0., -0.,  1.,  0.,  0.,  0.,  0.,  0.,\n",
       "        0.,  0., -0.,  0., -0.,  0.,  0.,  0., -0.,  0.,  0.,  0.,  0.,\n",
       "       -0., -0.,  0., -0., -0.,  0., -0.,  1.,  0.,  0.,  0.,  0.,  0.,\n",
       "       -0.,  1.,  0.,  0.,  0.,  0.,  0.,  1.,  0.,  0., -0.,  1.,  0.,\n",
       "       -0.,  0.,  0.,  0.,  0., -0.,  0.,  0.,  0., -0., -0., -0.,  0.,\n",
       "        0.,  1.,  0.,  1., -0.,  1.,  1.,  1., -0.,  0.,  0.,  1., -0.,\n",
       "        0.,  1.,  1.,  1.,  0.,  0.,  1., -0.,  0.,  0.,  0., -0.,  0.,\n",
       "        1., -0., -0.,  1.,  0.,  0., -0.,  1.,  0.,  0., -0.,  0.,  1.,\n",
       "        0.,  0.,  0.,  0.,  0.,  0.,  0.,  1.,  0.,  0., -0.,  0., -0.,\n",
       "        1.,  0.,  0.,  0., -0.,  0.,  0., -0.,  0.,  0.])"
      ]
     },
     "execution_count": 31,
     "metadata": {},
     "output_type": "execute_result"
    }
   ],
   "source": [
    "np.round(clf_sk_test.predict(X))"
   ]
  },
  {
   "cell_type": "code",
   "execution_count": 24,
   "metadata": {
    "scrolled": true
   },
   "outputs": [
    {
     "data": {
      "text/plain": [
       "array([1., 1., 1., 1., 1., 1., 1., 1., 1., 1., 1., 1., 1., 1., 1., 1., 1.,\n",
       "       1., 1., 1., 1., 1., 1., 1., 1., 1., 1., 1., 1., 1., 1., 1., 1., 1.,\n",
       "       1., 1., 1., 1., 1., 1., 1., 1., 1., 1., 1., 1., 1., 1., 1., 1., 1.,\n",
       "       1., 1., 1., 1., 1., 1., 1., 1., 1., 1., 1., 1., 1., 1., 1., 1., 1.,\n",
       "       1., 1., 1., 1., 1., 1., 1., 1., 1., 1., 1., 1., 1., 1., 1., 1., 1.,\n",
       "       1., 1., 1., 1., 1., 1., 1., 1., 1., 1., 1., 1., 1., 1., 1., 1., 1.,\n",
       "       1., 1., 1., 1., 1., 1., 1., 1., 1., 1., 1., 1., 1., 1., 1., 1., 1.,\n",
       "       1., 1., 1., 1., 1., 1., 1., 1., 1., 1., 1., 1., 1., 1., 1., 1., 1.,\n",
       "       1., 1., 1., 1., 1., 1., 1., 1., 1., 1., 1., 1., 1., 1., 1., 1., 1.,\n",
       "       1., 1., 1., 1., 1., 1., 1., 1., 1., 1., 1., 1., 1., 1., 1., 1., 1.,\n",
       "       1., 1., 1., 1., 1., 1., 1., 1., 1., 1., 1., 1., 1., 1., 1., 1., 1.,\n",
       "       1., 1., 1., 1., 1., 1., 1., 1., 1., 1., 1., 1., 1., 1., 1., 1., 1.,\n",
       "       1., 1., 1., 1., 1., 1., 1., 1., 1., 0., 1., 0., 1., 1., 1., 1., 1.,\n",
       "       1., 1., 1., 1., 1., 1., 1., 0., 1., 1., 1., 1., 1., 1., 0., 1., 1.,\n",
       "       1., 1., 1., 1., 0., 1., 1., 1., 1., 1., 1., 1., 1., 1., 1., 0., 1.,\n",
       "       1., 0., 1., 1., 1., 1., 0., 1., 1., 1., 1., 1., 1., 1., 1., 1., 1.,\n",
       "       1., 0., 1., 1., 1., 1., 1., 0., 1., 0., 1., 1., 1., 0., 1., 1., 0.,\n",
       "       1., 0., 1., 1., 1., 0., 1., 1., 1., 1., 1., 1., 1., 1., 0., 1., 0.,\n",
       "       1., 1., 1., 1., 1., 1., 1., 1., 1., 1., 1., 1., 1., 1., 1., 1., 1.,\n",
       "       1., 1., 0., 1., 1., 1., 1., 0., 1., 1., 1., 1., 0., 0., 1., 1., 1.,\n",
       "       1., 1., 0., 1., 1., 1., 0., 1., 1., 1., 0., 1., 1., 1., 1., 1., 1.,\n",
       "       1., 1., 1., 1., 1., 0., 1., 1., 1., 1., 1., 1., 1., 0., 1., 1., 1.,\n",
       "       1., 1., 1., 1., 1., 0., 1., 1., 1., 1., 1., 1., 1., 0., 1., 1., 1.,\n",
       "       1., 1., 1., 1., 1., 1., 1., 1., 1.])"
      ]
     },
     "execution_count": 24,
     "metadata": {},
     "output_type": "execute_result"
    }
   ],
   "source": [
    "clf_test.predict(X)"
   ]
  },
  {
   "cell_type": "code",
   "execution_count": 25,
   "metadata": {
    "scrolled": true
   },
   "outputs": [
    {
     "data": {
      "text/plain": [
       "array([1., 1., 1., 1., 1., 1., 1., 1., 1., 1., 1., 1., 1., 1., 1., 1., 1.,\n",
       "       1., 1., 1., 1., 1., 1., 1., 1., 1., 1., 1., 1., 1., 1., 1., 1., 1.,\n",
       "       1., 1., 1., 1., 1., 1., 1., 1., 1., 1., 1., 1., 1., 1., 1., 1., 1.,\n",
       "       1., 1., 1., 1., 1., 1., 1., 1., 1., 1., 1., 1., 1., 1., 1., 1., 1.,\n",
       "       1., 1., 1., 1., 1., 1., 1., 1., 1., 1., 1., 1., 1., 1., 1., 1., 1.,\n",
       "       1., 1., 1., 1., 1., 1., 1., 1., 1., 1., 1., 1., 1., 1., 1., 1., 1.,\n",
       "       1., 1., 1., 1., 1., 1., 1., 1., 1., 1., 1., 1., 1., 1., 1., 1., 1.,\n",
       "       1., 1., 1., 1., 1., 1., 1., 1., 1., 1., 1., 1., 1., 1., 1., 1., 1.,\n",
       "       1., 1., 1., 1., 1., 1., 1., 1., 1., 1., 1., 1., 1., 1., 1., 1., 1.,\n",
       "       1., 1., 1., 1., 1., 1., 1., 1., 1., 1., 1., 1., 1., 1., 1., 1., 1.,\n",
       "       1., 1., 1., 1., 1., 1., 1., 1., 1., 1., 1., 1., 1., 1., 1., 1., 1.,\n",
       "       1., 1., 1., 1., 1., 1., 1., 1., 1., 1., 1., 1., 1., 0., 0., 0., 0.,\n",
       "       0., 0., 0., 0., 0., 0., 0., 0., 0., 0., 0., 0., 0., 0., 0., 0., 0.,\n",
       "       0., 0., 0., 0., 0., 0., 0., 0., 0., 0., 0., 0., 0., 0., 0., 0., 0.,\n",
       "       0., 0., 0., 0., 0., 0., 0., 0., 0., 0., 0., 0., 0., 0., 0., 0., 0.,\n",
       "       0., 0., 0., 0., 0., 0., 0., 0., 0., 0., 0., 0., 0., 0., 0., 0., 0.,\n",
       "       0., 0., 0., 0., 0., 0., 0., 0., 0., 0., 0., 0., 0., 0., 0., 0., 0.,\n",
       "       0., 0., 0., 0., 0., 0., 0., 0., 0., 0., 0., 0., 0., 0., 0., 0., 0.,\n",
       "       0., 0., 0., 0., 0., 0., 0., 0., 0., 0., 0., 0., 0., 0., 0., 0., 0.,\n",
       "       0., 0., 0., 0., 0., 0., 0., 0., 0., 0., 0., 0., 0., 0., 0., 0., 0.,\n",
       "       0., 0., 0., 0., 0., 0., 0., 0., 0., 0., 0., 0., 0., 0., 0., 0., 0.,\n",
       "       0., 0., 0., 0., 0., 0., 0., 0., 0., 0., 0., 0., 0., 0., 0., 0., 0.,\n",
       "       0., 0., 0., 0., 0., 0., 0., 0., 0., 0., 0., 0., 0., 0., 0., 0., 0.,\n",
       "       0., 0., 0., 0., 0., 0., 0., 0., 0.])"
      ]
     },
     "execution_count": 25,
     "metadata": {},
     "output_type": "execute_result"
    }
   ],
   "source": [
    "y"
   ]
  },
  {
   "cell_type": "code",
   "execution_count": 131,
   "metadata": {},
   "outputs": [
    {
     "data": {
      "text/plain": [
       "<matplotlib.collections.PathCollection at 0x7f43e2218d90>"
      ]
     },
     "execution_count": 131,
     "metadata": {},
     "output_type": "execute_result"
    },
    {
     "data": {
      "image/png": "[encoded data removed]",
      "text/plain": [
       "<Figure size 864x360 with 1 Axes>"
      ]
     },
     "metadata": {},
     "output_type": "display_data"
    }
   ],
   "source": [
    "plot_decision_boundary(clf_test)\n",
    "\n",
    "plt.scatter(X[:,0], X[:,1], c=y)"
   ]
  },
  {
   "cell_type": "code",
   "execution_count": null,
   "metadata": {
    "scrolled": true
   },
   "outputs": [],
   "source": [
    "np.random.seed(0)\n",
    "\n",
    "C1 = np.array([[0., -0.8], [1.5, 0.8]])\n",
    "C2 = np.array([[1., -0.7], [2., 0.7]])\n",
    "gauss1 = np.dot(np.random.randn(200, 2) + np.array([5, 3]), C1)\n",
    "gauss2 = np.dot(np.random.randn(200, 2) + np.array([1.5, 0]), C2)\n",
    "\n",
    "X = np.vstack([gauss1, gauss2])\n",
    "y = np.r_[np.ones(200), np.zeros(200)]\n",
    "\n",
    "clf_log = MySGDClassifier(batch_generator=batch_generator, model_type = 'log_reg').fit(X,y, batch_size_arg=1)\n",
    "clf_lin = MySGDClassifier(batch_generator=batch_generator, model_type = 'lin_reg').fit(X,y, batch_size_arg=1)\n",
    "\n",
    "plot_decision_boundary(clf_log)\n",
    "plot_decision_boundary(clf_lin)\n",
    "\n",
    "plt.scatter(X[:,0], X[:,1], c=y)"
   ]
  },
  {
   "cell_type": "code",
   "execution_count": null,
   "metadata": {},
   "outputs": [],
   "source": [
    "clf_log.predict(X)"
   ]
  },
  {
   "cell_type": "code",
   "execution_count": null,
   "metadata": {},
   "outputs": [],
   "source": [
    "clf_log.weights"
   ]
  },
  {
   "cell_type": "code",
   "execution_count": null,
   "metadata": {},
   "outputs": [],
   "source": [
    "#print(clf.errors_log['loss'][:10])\n",
    "#print(len(clf.errors_log['loss']))\n",
    "step = clf_log.max_epoch\n",
    "chunks = [clf_log.errors_log['loss'][x:x+step] for x in range(0, len(clf_log.errors_log['loss']), step)]\n",
    "#print(chunks[:10])\n",
    "chunks = np.asarray(chunks)\n",
    "#print(chunks[:1])\n",
    "chunks = chunks.mean(axis = 1)\n",
    "plt.plot(np.arange(len(chunks)), chunks, '-o')"
   ]
  },
  {
   "cell_type": "code",
   "execution_count": null,
   "metadata": {},
   "outputs": [],
   "source": [
    "#print(clf.errors_log['loss'][:10])\n",
    "#print(len(clf.errors_log['loss']))\n",
    "step = clf_lin.max_epoch\n",
    "chunks = [clf_lin.errors_log['loss'][x:x+step] for x in range(0, len(clf_lin.errors_log['loss']), step)]\n",
    "#print(chunks[:10])\n",
    "chunks = np.asarray(chunks)\n",
    "#print(chunks[:1])\n",
    "chunks = chunks.mean(axis = 1)\n",
    "plt.plot(np.arange(len(chunks)), chunks, '-o')"
   ]
  },
  {
   "cell_type": "markdown",
   "metadata": {},
   "source": [
    "Далее будем анализировать Ваш алгоритм. \n",
    "Для этих заданий используйте датасет ниже."
   ]
  },
  {
   "cell_type": "code",
   "execution_count": null,
   "metadata": {},
   "outputs": [],
   "source": [
    "from sklearn.datasets import make_classification"
   ]
  },
  {
   "cell_type": "code",
   "execution_count": null,
   "metadata": {},
   "outputs": [],
   "source": [
    "X, y = make_classification(n_samples=100000, n_features=10, \n",
    "                           n_informative=4, n_redundant=0, \n",
    "                           random_state=123, class_sep=1.0,\n",
    "                           n_clusters_per_class=1)"
   ]
  },
  {
   "cell_type": "markdown",
   "metadata": {},
   "source": [
    "Покажите сходимости обеих регрессией на этом датасете: изобразите график  функции потерь, усредненной по $N$ шагам градиентого спуска, для разных `alpha` (размеров шага). Разные `alpha` расположите на одном графике. \n",
    "\n",
    "$N$ можно брать 10, 50, 100 и т.д. "
   ]
  },
  {
   "cell_type": "code",
   "execution_count": null,
   "metadata": {},
   "outputs": [],
   "source": [
    "def printAverageLossForAlpha(X,y, model_type = 'lin_reg', N = 100, alpha = 0.01):\n",
    "    clf= MySGDClassifier(batch_generator = batch_generator, alpha=alpha, model_type=model_type).fit(X,y, batch_size_arg=1)\n",
    "    chunks = np.asarray([np.mean(np.asarray(clf.errors_log['loss'][x:x+N])) for x in range(0, len(clf_lin.errors_log['loss']), N)])\n",
    "    chunks = chunks\n",
    "    plt.plot(np.arange(len(chunks)), chunks, '-o')\n",
    "    return\n",
    "\n",
    "alpha_array = [0.05,0.01,0.005,0.001]\n",
    "for alpha in alpha_array[:1]:\n",
    "    printAverageLossForAlpha(X,y,model_type='lin_reg', alpha=alpha)"
   ]
  },
  {
   "cell_type": "code",
   "execution_count": null,
   "metadata": {},
   "outputs": [],
   "source": [
    "alpha_array = [0.05,0.01,0.005,0.001]\n",
    "for alpha in alpha_array:\n",
    "    printAverageLossForAlpha(X,y,model_type='log_reg', alpha=alpha)"
   ]
  },
  {
   "cell_type": "markdown",
   "metadata": {},
   "source": [
    "Что Вы можете сказать про сходимость метода при различных `alpha`? Какое значение стоит выбирать для лучшей сходимости?"
   ]
  },
  {
   "cell_type": "markdown",
   "metadata": {},
   "source": [
    "Изобразите график среднего значения весов для обеих регрессий в зависимости от коеф. регуляризации С из `np.logspace(3, -3, 10)` "
   ]
  },
  {
   "cell_type": "code",
   "execution_count": null,
   "metadata": {},
   "outputs": [],
   "source": [
    "def weightFromC(X,y, model_type = 'lin_reg', alpha=0.05):\n",
    "    weight_array = []\n",
    "    for C in np.logspace(3,-3,10):\n",
    "        clf= MySGDClassifier(batch_generator = batch_generator, alpha=alpha, model_type=model_type, C = C).fit(X,y, batch_size_arg=1)\n",
    "        weight_array.append(np.mean(clf.weights[1:]))\n",
    "    plt.plot(range(len(weight_array)),weight_array, '-o')\n",
    "    return\n"
   ]
  },
  {
   "cell_type": "code",
   "execution_count": null,
   "metadata": {},
   "outputs": [],
   "source": [
    "weightFromC(X,y,model_type='lin_reg', alpha = 0.05)"
   ]
  },
  {
   "cell_type": "code",
   "execution_count": null,
   "metadata": {},
   "outputs": [],
   "source": [
    "weightFromC(X,y,model_type='log_reg', alpha = 0.05)"
   ]
  },
  {
   "cell_type": "markdown",
   "metadata": {},
   "source": [
    "Довольны ли Вы, насколько сильно уменьшились Ваши веса? "
   ]
  },
  {
   "cell_type": "markdown",
   "metadata": {},
   "source": [
    "# Боевое применение (4  балла)\n",
    "\n",
    "**Защита данной части возможна только при преодолении в проекте бейзлайна Handmade baseline.**"
   ]
  },
  {
   "cell_type": "markdown",
   "metadata": {},
   "source": [
    "Давайте применим модель на итоговом проекте! Датасет сделаем точно таким же образом, как было показано в project_overview.ipynb\n",
    "\n",
    "Применим обе регрессии, подберем для них параметры и сравним качество. Может быть Вы еще одновременно с решением домашней работы подрастете на лидерборде!"
   ]
  },
  {
   "cell_type": "code",
   "execution_count": null,
   "metadata": {},
   "outputs": [],
   "source": [
    "doc_to_title = {}\n",
    "with open('docs_titles.tsv') as f:\n",
    "    for num_line, line in enumerate(f):\n",
    "        if num_line == 0:\n",
    "            continue\n",
    "        data = line.strip().split('\\t', 1)\n",
    "        doc_id = int(data[0])\n",
    "        if len(data) == 1:\n",
    "            title = ''\n",
    "        else:\n",
    "            title = data[1]\n",
    "        doc_to_title[doc_id] = title\n",
    "print (len(doc_to_title))\n"
   ]
  },
  {
   "cell_type": "code",
   "execution_count": null,
   "metadata": {},
   "outputs": [],
   "source": [
    "import pandas as pd\n",
    "train_data = pd.read_csv('train_groups.csv')\n",
    "traingroups_titledata = {}\n",
    "for i in range(len(train_data)):\n",
    "    new_doc = train_data.iloc[i]\n",
    "    doc_group = new_doc['group_id']\n",
    "    doc_id = new_doc['doc_id']\n",
    "    target = new_doc['target']\n",
    "    title = doc_to_title[doc_id]\n",
    "    if doc_group not in traingroups_titledata:\n",
    "        traingroups_titledata[doc_group] = []\n",
    "    traingroups_titledata[doc_group].append((doc_id, title, target))"
   ]
  },
  {
   "cell_type": "code",
   "execution_count": null,
   "metadata": {},
   "outputs": [],
   "source": [
    "import numpy as np\n",
    "y_train = []\n",
    "X_train = []\n",
    "groups_train = []\n",
    "for new_group in traingroups_titledata:\n",
    "    docs = traingroups_titledata[new_group]\n",
    "    for k, (doc_id, title, target_id) in enumerate(docs):\n",
    "        y_train.append(target_id)\n",
    "        groups_train.append(new_group)\n",
    "        all_dist = []\n",
    "        words = set(title.strip().split())\n",
    "        for j in range(0, len(docs)):\n",
    "            if k == j:\n",
    "                continue\n",
    "            doc_id_j, title_j, target_j = docs[j]\n",
    "            words_j = set(title_j.strip().split())\n",
    "            all_dist.append(len(words.intersection(words_j)))\n",
    "        X_train.append(sorted(all_dist, reverse=True)[0:15]    )\n",
    "X_train = np.array(X_train)\n",
    "y_train = np.array(y_train)\n",
    "groups_train = np.array(groups_train)\n",
    "print (X_train.shape, y_train.shape, groups_train.shape)"
   ]
  },
  {
   "cell_type": "markdown",
   "metadata": {},
   "source": [
    "Подберите размер батча для обучения. Линейная модель не должна учиться дольше нескольких минут. \n",
    "\n",
    "Не забывайте использовать скейлер!"
   ]
  },
  {
   "cell_type": "code",
   "execution_count": null,
   "metadata": {},
   "outputs": [],
   "source": [
    "from sklearn.metrics import f1_score\n",
    "from sklearn.linear_model import LinearRegression\n",
    "from sklearn.preprocessing import StandardScaler"
   ]
  },
  {
   "cell_type": "code",
   "execution_count": null,
   "metadata": {},
   "outputs": [],
   "source": []
  },
  {
   "cell_type": "code",
   "execution_count": null,
   "metadata": {},
   "outputs": [],
   "source": []
  },
  {
   "cell_type": "markdown",
   "metadata": {},
   "source": [
    "Разбейте данные на обучение и валидацию. Подберите параметры C, alpha, max_epoch, model_type на валидации (Вы же помните, как правильно в этой задаче делать валидацию?)"
   ]
  },
  {
   "cell_type": "code",
   "execution_count": null,
   "metadata": {},
   "outputs": [],
   "source": []
  },
  {
   "cell_type": "markdown",
   "metadata": {
    "collapsed": true
   },
   "source": [
    "Подберите порог линейной модели, по достижении которого, Вы будете относить объект к классу 1. Вспомните, какую метрику мы оптимизируем в соревновании.  Как тогда правильно подобрать порог?"
   ]
  },
  {
   "cell_type": "code",
   "execution_count": null,
   "metadata": {},
   "outputs": [],
   "source": []
  },
  {
   "cell_type": "code",
   "execution_count": null,
   "metadata": {},
   "outputs": [],
   "source": []
  },
  {
   "cell_type": "markdown",
   "metadata": {},
   "source": [
    "С лучшими параметрами на валидации сделайте предсказание на тестовом множестве, отправьте его на проверку на платформу kaggle. Убедитесь, что Вы смогли побить public score первого бейзлайна."
   ]
  },
  {
   "cell_type": "markdown",
   "metadata": {
    "collapsed": true
   },
   "source": [
    "** При сдаче домашки Вам необходимо кроме ссылки на ноутбук показать Ваш ник на kaggle, под которым Вы залили решение, которое побило Handmade baseline. **"
   ]
  },
  {
   "cell_type": "code",
   "execution_count": null,
   "metadata": {},
   "outputs": [],
   "source": []
  },
  {
   "cell_type": "markdown",
   "metadata": {},
   "source": [
    "# Фидбек (бесценно)"
   ]
  },
  {
   "cell_type": "markdown",
   "metadata": {},
   "source": [
    "* Какие аспекты обучения линейных моделей Вам показались непонятными? Какое место стоит дополнительно объяснить?"
   ]
  },
  {
   "cell_type": "markdown",
   "metadata": {},
   "source": [
    "***Ваше ответ здесь***"
   ]
  },
  {
   "cell_type": "markdown",
   "metadata": {},
   "source": [
    "* Здесь Вы можете оставить отзыв о этой домашней работе или о всем курсе.   "
   ]
  },
  {
   "cell_type": "markdown",
   "metadata": {},
   "source": [
    "*** ВАШ ОТЗЫВ ЗДЕСЬ***"
   ]
  },
  {
   "cell_type": "code",
   "execution_count": null,
   "metadata": {},
   "outputs": [],
   "source": []
  },
  {
   "cell_type": "code",
   "execution_count": null,
   "metadata": {},
   "outputs": [],
   "source": []
  }
 ],
 "metadata": {
  "anaconda-cloud": {},
  "kernelspec": {
   "display_name": "Python 3",
   "language": "python",
   "name": "python3"
  },
  "language_info": {
   "codemirror_mode": {
    "name": "ipython",
    "version": 3
   },
   "file_extension": ".py",
   "mimetype": "text/x-python",
   "name": "python",
   "nbconvert_exporter": "python",
   "pygments_lexer": "ipython3",
   "version": "3.8.5"
  },
  "nav_menu": {},
  "toc": {
   "colors": {
    "hover_highlight": "#DAA520",
    "navigate_num": "#000000",
    "navigate_text": "#333333",
    "running_highlight": "#FF0000",
    "selected_highlight": "#FFD700",
    "sidebar_border": "#EEEEEE",
    "wrapper_background": "#FFFFFF"
   },
   "moveMenuLeft": true,
   "nav_menu": {
    "height": "402px",
    "width": "253px"
   },
   "navigate_menu": true,
   "number_sections": false,
   "sideBar": true,
   "threshold": 4,
   "toc_cell": false,
   "toc_section_display": "block",
   "toc_window_display": true,
   "widenNotebook": false
  }
 },
 "nbformat": 4,
 "nbformat_minor": 2
}
